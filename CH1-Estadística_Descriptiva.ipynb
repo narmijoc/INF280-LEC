{
 "cells": [
  {
   "cell_type": "markdown",
   "metadata": {},
   "source": [
    "<center>\n",
    "    <img src=\"http://sct.inf.utfsm.cl/wp-content/uploads/2020/04/logo_di.png\" style=\"width:60%\">\n",
    "    <h1> INF280 - Estadística Computacional </h1>\n",
    "    <h2> Estadística Descriptiva </h2>\n",
    "    <h2> Version: 0.02 </h2>\n",
    "    <h2> Ay. Nicolás Armijo Calquín </h2>\n",
    "    <h2> Ay. Eva Wang Liu </h2> \n",
    "</center>"
   ]
  },
  {
   "cell_type": "markdown",
   "metadata": {},
   "source": [
    "<div id='toc'>\n",
    "\n",
    "## Tabla de Contenidos\n",
    "\n",
    "* [Introducción](#intro)\n",
    "* [Enfoque Pandas](#pandas)\n",
    "    * [Métodos Estadísticos](#est)\n",
    "    * [Métodos Útiles](#utl)\n",
    "* [Enfoque NumPy](#np)\n",
    "* [Historial Cambios](#hist)"
   ]
  },
  {
   "cell_type": "markdown",
   "metadata": {},
   "source": [
    "<div id='intro'>\n",
    "\n",
    "## Introducción\n",
    "\n",
    "A continuación, hablaremos sobres distintas herramientas que presentan tanto **Pandas** como **NumPy** con lo que respecta a **Estadística Descriptiva**. Recordemos que la estadística descriptiva es el área de la estadística encargada de recolectar, organizar, resumir y presentar un conjunto de datos. Todas las herramientas ya vistas sobre Pandas en `CH0-Pandas-NumPy` solucionan varios de estos aspectos, es por esta razón que nos enfocaremos muy brevemente sobre los métodos enfocados para *resumir* los datos."
   ]
  },
  {
   "cell_type": "markdown",
   "metadata": {},
   "source": [
    "<div id='pandas'>\n",
    "\n",
    "## Enfoque Pandas\n",
    "\n",
    "Dentro de los `DataFrames` de Pandas, vienen integrados métodos que nos ayudarán con el trabajo necesario. Ahora, listaremos varias herramientas con el fin de ampliar nuestro repertorio de habilidades."
   ]
  },
  {
   "cell_type": "code",
   "execution_count": 2,
   "metadata": {},
   "outputs": [],
   "source": [
    "import pandas as pd\n",
    "\n",
    "# Cargaremos nuevamente el dataset a modo de ejemplo\n",
    "\n",
    "url = \"https://archive.ics.uci.edu/ml/machine-learning-databases/iris/iris.data\"\n",
    "\n",
    "# El dataset no contiene nombres de columnas por lo que se las agregaremos\n",
    "col_names = [\"sepal_length_in_cm\",\n",
    "            \"sepal_width_in_cm\",\n",
    "            \"petal_length_in_cm\",\n",
    "            \"petal_width_in_cm\",\n",
    "            \"class\"]\n",
    "\n",
    "df = pd.read_csv(url, names=col_names)"
   ]
  },
  {
   "cell_type": "markdown",
   "metadata": {},
   "source": [
    "<div id='est'>\n",
    "\n",
    "### Métodos Estadísticos\n",
    "\n",
    "Vamos a revisar los conceptos tratados en el Capítulo 1 visto desde la implementación usando Pandas.\n",
    "\n",
    "En primer lugar, recordar la diferencia entre población y muestra. Es útil saber que Pandas implementa un método para obtener una muestra de tamaño $n$ desde un DataFrame. "
   ]
  },
  {
   "cell_type": "code",
   "execution_count": 22,
   "metadata": {},
   "outputs": [
    {
     "data": {
      "text/html": [
       "<div>\n",
       "<style scoped>\n",
       "    .dataframe tbody tr th:only-of-type {\n",
       "        vertical-align: middle;\n",
       "    }\n",
       "\n",
       "    .dataframe tbody tr th {\n",
       "        vertical-align: top;\n",
       "    }\n",
       "\n",
       "    .dataframe thead th {\n",
       "        text-align: right;\n",
       "    }\n",
       "</style>\n",
       "<table border=\"1\" class=\"dataframe\">\n",
       "  <thead>\n",
       "    <tr style=\"text-align: right;\">\n",
       "      <th></th>\n",
       "      <th>sepal_length_in_cm</th>\n",
       "      <th>sepal_width_in_cm</th>\n",
       "      <th>petal_length_in_cm</th>\n",
       "      <th>petal_width_in_cm</th>\n",
       "      <th>class</th>\n",
       "    </tr>\n",
       "  </thead>\n",
       "  <tbody>\n",
       "    <tr>\n",
       "      <th>107</th>\n",
       "      <td>7.3</td>\n",
       "      <td>2.9</td>\n",
       "      <td>6.3</td>\n",
       "      <td>1.8</td>\n",
       "      <td>Iris-virginica</td>\n",
       "    </tr>\n",
       "    <tr>\n",
       "      <th>61</th>\n",
       "      <td>5.9</td>\n",
       "      <td>3.0</td>\n",
       "      <td>4.2</td>\n",
       "      <td>1.5</td>\n",
       "      <td>Iris-versicolor</td>\n",
       "    </tr>\n",
       "    <tr>\n",
       "      <th>24</th>\n",
       "      <td>4.8</td>\n",
       "      <td>3.4</td>\n",
       "      <td>1.9</td>\n",
       "      <td>0.2</td>\n",
       "      <td>Iris-setosa</td>\n",
       "    </tr>\n",
       "    <tr>\n",
       "      <th>133</th>\n",
       "      <td>6.3</td>\n",
       "      <td>2.8</td>\n",
       "      <td>5.1</td>\n",
       "      <td>1.5</td>\n",
       "      <td>Iris-virginica</td>\n",
       "    </tr>\n",
       "    <tr>\n",
       "      <th>39</th>\n",
       "      <td>5.1</td>\n",
       "      <td>3.4</td>\n",
       "      <td>1.5</td>\n",
       "      <td>0.2</td>\n",
       "      <td>Iris-setosa</td>\n",
       "    </tr>\n",
       "  </tbody>\n",
       "</table>\n",
       "</div>"
      ],
      "text/plain": [
       "     sepal_length_in_cm  sepal_width_in_cm  petal_length_in_cm  \\\n",
       "107                 7.3                2.9                 6.3   \n",
       "61                  5.9                3.0                 4.2   \n",
       "24                  4.8                3.4                 1.9   \n",
       "133                 6.3                2.8                 5.1   \n",
       "39                  5.1                3.4                 1.5   \n",
       "\n",
       "     petal_width_in_cm            class  \n",
       "107                1.8   Iris-virginica  \n",
       "61                 1.5  Iris-versicolor  \n",
       "24                 0.2      Iris-setosa  \n",
       "133                1.5   Iris-virginica  \n",
       "39                 0.2      Iris-setosa  "
      ]
     },
     "execution_count": 22,
     "metadata": {},
     "output_type": "execute_result"
    }
   ],
   "source": [
    "# Obtener una muestra - En general no utilizamos este método pero es útil saber su existencia\n",
    "\n",
    "df.sample(n=5)"
   ]
  },
  {
   "cell_type": "markdown",
   "metadata": {},
   "source": [
    "Pandas posee la gran mayoría de estadísticos necesarios para nuestro trabajo. Si consideramos las medidas de tendencia central tenemos la `media`, `mediana` y `moda`."
   ]
  },
  {
   "cell_type": "code",
   "execution_count": 3,
   "metadata": {},
   "outputs": [
    {
     "data": {
      "text/plain": [
       "5.843333333333334"
      ]
     },
     "execution_count": 3,
     "metadata": {},
     "output_type": "execute_result"
    }
   ],
   "source": [
    "# Computo de la media\n",
    "\n",
    "df['sepal_length_in_cm'].mean()"
   ]
  },
  {
   "cell_type": "code",
   "execution_count": 6,
   "metadata": {},
   "outputs": [
    {
     "data": {
      "text/plain": [
       "5.8"
      ]
     },
     "execution_count": 6,
     "metadata": {},
     "output_type": "execute_result"
    }
   ],
   "source": [
    "# Computo mediana\n",
    "\n",
    "df['sepal_length_in_cm'].median()"
   ]
  },
  {
   "cell_type": "code",
   "execution_count": 9,
   "metadata": {},
   "outputs": [
    {
     "data": {
      "text/plain": [
       "0    5.0\n",
       "Name: sepal_length_in_cm, dtype: float64"
      ]
     },
     "execution_count": 9,
     "metadata": {},
     "output_type": "execute_result"
    }
   ],
   "source": [
    "# Computo moda\n",
    "\n",
    "df['sepal_length_in_cm'].mode()"
   ]
  },
  {
   "cell_type": "markdown",
   "metadata": {},
   "source": [
    "Por parte de las medidas de dispersión tenemos implementadas la `varianza`, la `desviación estándar`, los `percentiles`, entre otros. Podemos considerar los `mínimos` y `máximos`."
   ]
  },
  {
   "cell_type": "code",
   "execution_count": 4,
   "metadata": {},
   "outputs": [
    {
     "data": {
      "text/plain": [
       "0.6856935123042507"
      ]
     },
     "execution_count": 4,
     "metadata": {},
     "output_type": "execute_result"
    }
   ],
   "source": [
    "# Computo de la varianza\n",
    "\n",
    "df['sepal_length_in_cm'].var()"
   ]
  },
  {
   "cell_type": "code",
   "execution_count": 5,
   "metadata": {},
   "outputs": [
    {
     "data": {
      "text/plain": [
       "0.828066127977863"
      ]
     },
     "execution_count": 5,
     "metadata": {},
     "output_type": "execute_result"
    }
   ],
   "source": [
    "# Computo de la desviación estándar\n",
    "\n",
    "df['sepal_length_in_cm'].std()"
   ]
  },
  {
   "cell_type": "code",
   "execution_count": 10,
   "metadata": {},
   "outputs": [
    {
     "data": {
      "text/plain": [
       "6.5200000000000005"
      ]
     },
     "execution_count": 10,
     "metadata": {},
     "output_type": "execute_result"
    }
   ],
   "source": [
    "# Computo de percentiles - cálculo de del pertentil 'p' utilizzando .quantile(q='p') \n",
    "\n",
    "df['sepal_length_in_cm'].quantile(q=0.8)"
   ]
  },
  {
   "cell_type": "code",
   "execution_count": 11,
   "metadata": {},
   "outputs": [
    {
     "data": {
      "text/plain": [
       "4.3"
      ]
     },
     "execution_count": 11,
     "metadata": {},
     "output_type": "execute_result"
    }
   ],
   "source": [
    "# Computo mínimo\n",
    "\n",
    "df['sepal_length_in_cm'].min()"
   ]
  },
  {
   "cell_type": "code",
   "execution_count": 12,
   "metadata": {},
   "outputs": [
    {
     "data": {
      "text/plain": [
       "7.9"
      ]
     },
     "execution_count": 12,
     "metadata": {},
     "output_type": "execute_result"
    }
   ],
   "source": [
    "# Computo máximo\n",
    "\n",
    "df['sepal_length_in_cm'].max()"
   ]
  },
  {
   "cell_type": "markdown",
   "metadata": {},
   "source": [
    "Un método muy útil resulta ser `.describe()`, ya que resume la mayoría de la información anterior con una sola línea de código."
   ]
  },
  {
   "cell_type": "code",
   "execution_count": 30,
   "metadata": {},
   "outputs": [
    {
     "data": {
      "text/plain": [
       "count    150.000000\n",
       "mean       5.843333\n",
       "std        0.828066\n",
       "min        4.300000\n",
       "25%        5.100000\n",
       "50%        5.800000\n",
       "75%        6.400000\n",
       "max        7.900000\n",
       "Name: sepal_length_in_cm, dtype: float64"
      ]
     },
     "execution_count": 30,
     "metadata": {},
     "output_type": "execute_result"
    }
   ],
   "source": [
    "# Uso de describe()\n",
    "\n",
    "df['sepal_length_in_cm'].describe()"
   ]
  },
  {
   "cell_type": "markdown",
   "metadata": {},
   "source": [
    "Todos los métodos presentados anteriormente son compatibles para ser usados después de un `groupby()`."
   ]
  },
  {
   "cell_type": "markdown",
   "metadata": {},
   "source": [
    "<div id='utl'>\n",
    "\n",
    "### Métodos Útiles\n",
    "\n",
    "Aparte de los métodos estadísticos tradicionales, se presentarán otras funcionalidades que pueden ser útiles para obtener información de los datos."
   ]
  },
  {
   "cell_type": "code",
   "execution_count": 27,
   "metadata": {},
   "outputs": [
    {
     "data": {
      "text/plain": [
       "class\n",
       "Iris-setosa        50\n",
       "Iris-versicolor    50\n",
       "Iris-virginica     50\n",
       "Name: count, dtype: int64"
      ]
     },
     "execution_count": 27,
     "metadata": {},
     "output_type": "execute_result"
    }
   ],
   "source": [
    "# Value counts - Retorna la cuenta de valores repetidos en la columna\n",
    "\n",
    "df['class'].value_counts()"
   ]
  },
  {
   "cell_type": "code",
   "execution_count": 31,
   "metadata": {},
   "outputs": [
    {
     "data": {
      "text/plain": [
       "array(['Iris-setosa', 'Iris-versicolor', 'Iris-virginica'], dtype=object)"
      ]
     },
     "execution_count": 31,
     "metadata": {},
     "output_type": "execute_result"
    }
   ],
   "source": [
    "# Unique - Retorna los valores distintos dentro de una columna\n",
    "\n",
    "df['class'].unique()"
   ]
  },
  {
   "cell_type": "code",
   "execution_count": 32,
   "metadata": {},
   "outputs": [
    {
     "data": {
      "text/plain": [
       "876.5"
      ]
     },
     "execution_count": 32,
     "metadata": {},
     "output_type": "execute_result"
    }
   ],
   "source": [
    "# sum - Suma los valores de la columna\n",
    "\n",
    "df['sepal_length_in_cm'].sum()"
   ]
  },
  {
   "cell_type": "markdown",
   "metadata": {},
   "source": [
    "<div id='np'>\n",
    "\n",
    "## Enfoque NumPy\n",
    "\n",
    "Pandas al estar construido sobre NumPy, utilizan las mismas funciones por lo que la sintaxis es identica. Se ilustrarán un par de ejemplos sobre ndarrays ya que no es similar a los métodos anteriormente mencionadas.\n"
   ]
  },
  {
   "cell_type": "code",
   "execution_count": 33,
   "metadata": {},
   "outputs": [],
   "source": [
    "import numpy as np"
   ]
  },
  {
   "cell_type": "code",
   "execution_count": 34,
   "metadata": {},
   "outputs": [],
   "source": [
    "a = np.array([1, 2, 3, 4, 5, 6, 7, 8])"
   ]
  },
  {
   "cell_type": "code",
   "execution_count": 40,
   "metadata": {},
   "outputs": [
    {
     "name": "stdout",
     "output_type": "stream",
     "text": [
      "Media: 4.5\n",
      "Media: 4.5\n"
     ]
    }
   ],
   "source": [
    "# Existen dos formas de aplicar los métodos\n",
    "\n",
    "print('Media:', a.mean())\n",
    "\n",
    "print('Media:', np.mean(a))"
   ]
  },
  {
   "cell_type": "code",
   "execution_count": 39,
   "metadata": {},
   "outputs": [
    {
     "name": "stdout",
     "output_type": "stream",
     "text": [
      "Máx: 8\n",
      "Máx: 8\n"
     ]
    }
   ],
   "source": [
    "# Un último ejemplo\n",
    "\n",
    "print('Máx:', a.max())\n",
    "\n",
    "print('Máx:', np.max(a))"
   ]
  },
  {
   "cell_type": "markdown",
   "metadata": {},
   "source": [
    "<div id='hist'>\n",
    "\n",
    "# Historial Versiones\n",
    "\n",
    "* **Versión v0.02:** Material estadística descriptiva Pandas-Numpy - *25 de agosto del 2024*"
   ]
  }
 ],
 "metadata": {
  "kernelspec": {
   "display_name": "env-lec",
   "language": "python",
   "name": "python3"
  },
  "language_info": {
   "codemirror_mode": {
    "name": "ipython",
    "version": 3
   },
   "file_extension": ".py",
   "mimetype": "text/x-python",
   "name": "python",
   "nbconvert_exporter": "python",
   "pygments_lexer": "ipython3",
   "version": "3.8.10"
  }
 },
 "nbformat": 4,
 "nbformat_minor": 2
}
