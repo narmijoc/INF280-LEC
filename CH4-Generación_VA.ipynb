{
 "cells": [
  {
   "cell_type": "markdown",
   "metadata": {},
   "source": [
    "<center>\n",
    "    <img src=\"http://sct.inf.utfsm.cl/wp-content/uploads/2020/04/logo_di.png\" style=\"width:60%\">\n",
    "    <h1> INF280 - Estadística Computacional </h1>\n",
    "    <h2> Generación de Variables Aleatorias </h2>\n",
    "    <h2> Version: 0.04 </h2>\n",
    "    <h2> Ay. Nicolás Armijo Calquín </h2> \n",
    "    <h2> Ay. Eva Wang Liu </h2>\n",
    "</center>"
   ]
  },
  {
   "cell_type": "markdown",
   "metadata": {},
   "source": [
    "<div id='toc'>\n",
    "\n",
    "## Tabla de Contenidos\n",
    "\n",
    "* [Introducción](#intro)\n",
    "* [Pseudo-aleatoriedad](#pseudo_aleatoriedad)\n",
    "* [Generación de datos aleatorios en Python](#generacion_datos_aleatorios_python)\n",
    "    * [NumPy Random](#numpy_random)\n",
    "        * [Semillas](#numpy_semillas)\n",
    "        * [RNGs](#numpy_rngs)\n",
    "        * [Números aleatorios](#numeros_aleatorios)\n",
    "        * [Elecciones aleatorias](#elecciones_aleatorias)\n",
    "        * [Distribuciones estadísticas](#numpy_distribuciones_estadisticas)\n",
    "        * [Procesamiento en paralelo](#numpy_procesamiento_paralelo)\n",
    "    * [SciPy Stats](#scipy_stats)\n",
    "        * [Distribuciones estadísticas](#scipy_distribuciones_estadisticas)\n",
    "        * [PDF y CDF](#pdf_cdf)\n",
    "* [Método de la transformada inversa](#metodo_transformada_inversa)\n",
    "    * [Ejemplo](#metodo_transformada_inversa_ejemplo)\n",
    "* [Referencias](#referencias)\n",
    "* [Historial de versiones](#hist)"
   ]
  },
  {
   "cell_type": "markdown",
   "metadata": {},
   "source": [
    "<div id='intro'>\n",
    "\n",
    "## Introducción\n",
    "\n",
    "Cuando intentamos modelar situaciones de la vida real, nos encontramos con el desafío de que estas se ajustan a distribuciones complejas y específicas. Las variables aleatorias suelen seguir distribuciones de probabilidad que reflejan fenómenos específicos, por lo que hacer uso de ellas permite que nuestros modelos se acerquen más a la realidad.\n",
    "\n",
    "En palabras simples, para simular variables aleatorias debemos generar números uniformes y transformarlos a valores de una distribución de probabilidad mediante una función específica. Aunque en la actualidad múltiples módulos en lenguajes de programación permiten la realización de este proceso rápidamente, también existen varios procedimientos para lograr este procedimiento manualmente, tales como el método de la transformada inversa.\n",
    "\n",
    "En el presente Jupyter Notebook, exploraremos los distintos métodos y funciones que residen en las librerías NumPy y Scipy en Python que nos permiten generar datos aleatorios. Por último, también revisaremos el método de la transformada lineal para la generación de variables aleatorias.\n",
    "\n",
    "Antes de partir, importaremos las librerías que complementarán nuestro trabajo:"
   ]
  },
  {
   "cell_type": "code",
   "execution_count": 1,
   "metadata": {},
   "outputs": [],
   "source": [
    "# Importamos librerías complementarias\n",
    "import pandas as pd\n",
    "import matplotlib.pyplot as plt"
   ]
  },
  {
   "cell_type": "markdown",
   "metadata": {},
   "source": [
    "<div id='pseudo-aleatoriedad'>\n",
    "\n",
    "## Pseudo-aleatoriedad\n",
    "\n",
    "Cuando intentamos generar datos aleatorios mediante algoritmos computacionales, por más que estos aparenten ser y cumplan con las propiedades estadísticas esperadas, **no son realmente aleatorios**: son **pseudo-aleatorios**.\n",
    "\n",
    "Lo anterior se debe a que los algoritmos computacionales funcionan de manera **determinista**, es decir que siguen una secuencia de pasos **reproducible** a partir de una **semilla** o valor inicial. Por lo tanto, dicha semilla siempre producirá la misma secuencia de números pseudo-aleatorios para distintas ejecuciones del algoritmo computacional determinista.\n",
    "\n",
    "No obstante, los datos pseudo-aleatorios son estadísticamente indistinguibles de una secuencia realmente aleatoria, al menos para propósitos tales como las simulaciones, por lo que serán suficiente para nuestro uso.\n",
    "\n",
    "Por brevedad, en este Jupyter Notebook describiremos como aleatorios a los datos generados con algoritmos computacionales, pero no hay que olvidar que estos son realmente pseudo-aleatorios."
   ]
  },
  {
   "cell_type": "markdown",
   "metadata": {},
   "source": [
    "<div id='generacion_datos_aleatorios_python'>\n",
    "\n",
    "## Generación de datos aleatorios en Python\n",
    "\n",
    "A continuación, exploraremos los módulos NumPy Random y SciPy Stats de Python, los cuales nos permiten la generación de datos (números y variables) aleatorios simples de forma rápida y eficiente."
   ]
  },
  {
   "cell_type": "markdown",
   "metadata": {},
   "source": [
    "<div id='NumPy Random'>\n",
    "\n",
    "### NumPy Random\n",
    "\n",
    "Random es un submódulo de NumPy que implementa generadores de números aleatorios, con la habilidad de extraer muestras de una variedad de distribuciones de probabilidad.\n",
    "\n",
    "Se adjuntan distintos recursos que les puede ser de utilidad:\n",
    "\n",
    "* **Documentación oficial** https://numpy.org/doc/stable/reference/random/index.html"
   ]
  },
  {
   "cell_type": "code",
   "execution_count": 1,
   "metadata": {},
   "outputs": [],
   "source": [
    "# Importamos NumPy - Debemos instalarlo con pip install numpy\n",
    "import numpy as np"
   ]
  },
  {
   "cell_type": "markdown",
   "metadata": {},
   "source": [
    "<div id='numpy_semillas'>\n",
    "\n",
    "#### Semillas\n",
    "\n",
    "Por defecto, NumPy establece la **hora** como la semilla de sus algoritmos computacionales a la hora de generar datos aleatorios.\n",
    "\n",
    "Una práctica bastante común es modificar la semilla al principio del código haciendo uso de la función `np.random.seed`, de tal modo que se asegura que el algoritmo es reproducible. No obstante, pese a que puede resultar conveniente en algunas ocasiones, es una mala práctica."
   ]
  },
  {
   "cell_type": "markdown",
   "metadata": {},
   "source": [
    "<div id='numpy_rngs'>\n",
    "\n",
    "#### RNGs\n",
    "\n",
    "Cuando importamos la librería NumPy, un RNG (Generador de Números Pseudo-Aleatorios) es creado y ocupado para generar secuencias de números aleatorios.\n",
    "\n",
    "Cuando usamos la función `np.random.seed`, cambiamos la semilla del RNG ya creado. Por lo tanto, una mejor práctica corresponde a crear un nuevo RNG al principio del código haciendo uso de la función `np.random.default_rng` a la cual le podemos ingresar nuestra propia semilla (Numpy sugiere un entero lo suficientemente grande para asegurar reproducibilidad e independencia) si queremos reproducibilidad y usarlo en el resto del código.\n",
    "\n",
    "Se adjuntan distintos recursos que les puede ser de utilidad:\n",
    "\n",
    "* **Documentación oficial** https://numpy.org/doc/stable/reference/random/generator.html\n",
    "* **Blog sobre buenas prácticas** https://blog.scientific-python.org/numpy/numpy-rng/"
   ]
  },
  {
   "cell_type": "code",
   "execution_count": 6,
   "metadata": {},
   "outputs": [
    {
     "data": {
      "text/plain": [
       "122387542080510207761449878547245793940"
      ]
     },
     "execution_count": 6,
     "metadata": {},
     "output_type": "execute_result"
    }
   ],
   "source": [
    "# Una forma de obtener un entero grande y aleatorio. Utilizar este resultado para la semilla\n",
    "import secrets\n",
    "secrets.randbits(128)\n",
    "\n",
    "# Luego de este asignar a una variable y utilizar: seed = 122387542080510207761449878547245793940"
   ]
  },
  {
   "cell_type": "code",
   "execution_count": 2,
   "metadata": {},
   "outputs": [],
   "source": [
    "# Creamos un nuevo RNG - Usaremos la semilla 0 para simplificar\n",
    "rng = np.random.default_rng(0)"
   ]
  },
  {
   "cell_type": "markdown",
   "metadata": {},
   "source": [
    "<div id='numeros_aleatorios'>\n",
    "\n",
    "#### Números aleatorios\n",
    "\n",
    "Tal como fue introducido en `CH0-Pandas-NumPy`, algunas funciones de NumPy que nos permiten generar números aleatorios de forma simple son:\n",
    "\n",
    "* `rng.integers`: genera números aleatorios de tipo **entero**.\n",
    "\n",
    "* `rng.random`: genera números aleatorios de tipo **punto flotante** en una distribución uniforme."
   ]
  },
  {
   "cell_type": "code",
   "execution_count": 3,
   "metadata": {},
   "outputs": [
    {
     "data": {
      "text/plain": [
       "array([0.63696169, 0.26978671, 0.04097352, 0.01652764, 0.81327024,\n",
       "       0.91275558, 0.60663578, 0.72949656, 0.54362499, 0.93507242])"
      ]
     },
     "execution_count": 3,
     "metadata": {},
     "output_type": "execute_result"
    }
   ],
   "source": [
    "# Generamos un ndarray de 10 números de tipo punto flotante en el intervalo [0, 1)\n",
    "rng.random(size=10)"
   ]
  },
  {
   "cell_type": "markdown",
   "metadata": {},
   "source": [
    "Por ejemplo, si creamos otro RNG con la misma semilla deberíamos volver a obtener los mismos números aleatorios. Cabe mencionar que cada vez que se vuelve a llamar al RNG se generaran los números que siguen dentro de la secuencia determinista del generador, es por esto que hay que tener ojo con cuantas veces se ejecuta el generador (es decir, si vuelvo a ejecutar el rng los resultados cambiarán).\n"
   ]
  },
  {
   "cell_type": "code",
   "execution_count": 7,
   "metadata": {},
   "outputs": [
    {
     "data": {
      "text/plain": [
       "array([0.63696169, 0.26978671, 0.04097352, 0.01652764, 0.81327024,\n",
       "       0.91275558, 0.60663578, 0.72949656, 0.54362499, 0.93507242])"
      ]
     },
     "execution_count": 7,
     "metadata": {},
     "output_type": "execute_result"
    }
   ],
   "source": [
    "# Nuevo RNG con la misma semilla\n",
    "rng2 = np.random.default_rng(0)\n",
    "\n",
    "rng2.random(size=10)"
   ]
  },
  {
   "cell_type": "code",
   "execution_count": 8,
   "metadata": {},
   "outputs": [
    {
     "data": {
      "text/plain": [
       "array([0.81585355, 0.0027385 , 0.85740428, 0.03358558, 0.72965545,\n",
       "       0.17565562, 0.86317892, 0.54146122, 0.29971189, 0.42268722])"
      ]
     },
     "execution_count": 8,
     "metadata": {},
     "output_type": "execute_result"
    }
   ],
   "source": [
    "# Nueva ejecución del RNG. Tener cuidado de ejeuctar una celda más de una vez (en caso de buscar reproducibilidad)\n",
    "rng.random(size=10)"
   ]
  },
  {
   "cell_type": "markdown",
   "metadata": {},
   "source": [
    "<div id='Elecciones_aleatorias'>\n",
    "\n",
    "#### Elecciones aleatorias\n",
    "\n",
    "NumPy también nos permite mezclar un arreglo aleatoriamente o elegir aleatoriamente en un arreglo mediante las siguientes funciones:\n",
    "\n",
    "* `rng.choice`: genera una muestra aleatoria a partir de un arreglo.\n",
    "\n",
    "* `rng.shuffle`: modifica un arreglo mezclando su contenido.\n",
    "\n",
    "* `rng.permutation`: genera un nuevo arreglo permutado."
   ]
  },
  {
   "cell_type": "code",
   "execution_count": 5,
   "metadata": {},
   "outputs": [
    {
     "data": {
      "text/plain": [
       "'Amarillo'"
      ]
     },
     "execution_count": 5,
     "metadata": {},
     "output_type": "execute_result"
    }
   ],
   "source": [
    "# Escogemos una muestra aleatoria en un arreglo\n",
    "rng.choice([\"Rojo\", \"Azul\", \"Amarillo\"])"
   ]
  },
  {
   "cell_type": "markdown",
   "metadata": {},
   "source": [
    "<div id='numpy_distribuciones_estadisticas'>\n",
    "\n",
    "#### Distribuciones estadísticas\n",
    "\n",
    "Para la generación de variables aleatorias, NumPy proporciona varias funciones dependiendo de la distribución de probabilidad que estas siguen. Algunas de estas funciones son:\n",
    "\n",
    "* `rng.uniform`: genera muestras de una **distribución uniforme**.\n",
    "\n",
    "* `rng.normal`: genera muestras de una **distribución normal** (gaussiana).\n",
    "\n",
    "* `rng.exponential`: genera muestras de una **distribución exponencial**.\n",
    "\n",
    "* `rng.binomial`: genera muestras de una **distribución binomial**.\n",
    "\n",
    "* `rng.poisson`: genera muestras de una **distribución de Poisson**.\n",
    "\n",
    "* `rng.multivariate_normal`: genera muestras de una **distribución normal multivariada**."
   ]
  },
  {
   "cell_type": "code",
   "execution_count": 6,
   "metadata": {},
   "outputs": [
    {
     "data": {
      "text/plain": [
       "array([17.99651962,  5.88414012, 31.76545046, 24.20890084, 16.48662047,\n",
       "       54.96236735,  0.64194817, 30.82670305, 48.96905493, 51.72583903])"
      ]
     },
     "execution_count": 6,
     "metadata": {},
     "output_type": "execute_result"
    }
   ],
   "source": [
    "# Generamos 10 muestras de una distribución uniforme en el intervalo [0, 55)\n",
    "rng.uniform(low=0, high=55, size=10)"
   ]
  },
  {
   "cell_type": "markdown",
   "metadata": {},
   "source": [
    "<div id='numpy_procesamiento_paralelo'>\n",
    "\n",
    "#### Procesamiento en paralelo\n",
    "\n",
    "El procesamiento en paralelo es la ejecución simultánea de múltiples tareas o procesos a la vez. En esta asignatura no es necesario implementarlo, pero lo explicaremos brevemente. \n",
    "\n",
    "Cuando tenemos funciones muy costosas que realizan muchas tareas (por ejemplo, en simulaciones de Monte Carlo) podemos acelerar el tiempo de computación usando procesamiento en paralelo. No obstante, tenemos que tener cuidado cuando usamos RNGs en conjunto con procesamiento en paralelo, pues si pasamos nuestro RNG creado al principio del código a cada proceso que se va a ejecutar en paralelo, cada proceso va a producir el mismo resultado. Esto se puede solucionar haciendo uso del algoritmo `SeedSequence`.\n",
    "\n",
    "Se adjuntan distintos recursos que les puede ser de utilidad:\n",
    "\n",
    "* **Documentación oficial** https://numpy.org/doc/stable/reference/random/parallel.html#seedsequence-spawning"
   ]
  },
  {
   "cell_type": "markdown",
   "metadata": {},
   "source": [
    "<div id='scipy_stats'>\n",
    "\n",
    "### SciPy Stats\n",
    "\n",
    "Stats es un submódulo de Scipy que, al igual que Random de NumPy, se dedica a la generación de variables aleatorias. No obstante, ofrece una funcionalidad estadística más avanzada: contiene una gran cantidad de distribuciones de probabilidad, resumen y estadísticas de frecuencia, entre otros.\n",
    "\n",
    "Se adjuntan distintos recursos que les puede ser de utilidad:\n",
    "\n",
    "* **Documentación oficial** https://docs.scipy.org/doc/scipy/reference/stats.html"
   ]
  },
  {
   "cell_type": "code",
   "execution_count": 7,
   "metadata": {},
   "outputs": [],
   "source": [
    "# Importamos Scipy - Debemos instalarlo con pip install scipy\n",
    "import scipy"
   ]
  },
  {
   "cell_type": "markdown",
   "metadata": {},
   "source": [
    "<div id='scipy_distribuciones_estadisticas'>\n",
    "\n",
    "#### Distribuciones estadísticas\n",
    "\n",
    "Para generar muestras aleatorias en distribuciones estadísticas usando SciPy, ocupamos el método `rvs` sobre la distribución estadística que es de nuestro interés:\n",
    "\n",
    "* `scipy.stats.uniform.rvs`: genera muestras de una **distribución uniforme**.\n",
    "\n",
    "* `scipy.stats.norm.rvs`: genera muestras de una **distribución normal** (gaussiana).\n",
    "\n",
    "* `scipy.stats.expon.rvs`: genera muestras de una **distribución exponencial**.\n",
    "\n",
    "* `scipy.stats.binom.rvs`: genera muestras de una **distribución binomial**.\n",
    "\n",
    "* `scipy.stats.poisson.rvs`: genera muestras de una **distribución de Poisson**.\n",
    "\n",
    "* `scipy.stats.multivariate_normal.rvs`: genera muestras de una **distribución normal multivariada**."
   ]
  },
  {
   "cell_type": "code",
   "execution_count": 8,
   "metadata": {},
   "outputs": [
    {
     "data": {
      "text/plain": [
       "array([14.20843295, 50.92265681,  0.2916002 , 15.41758294, 16.67575403,\n",
       "        8.13973803, 32.57481101,  7.09480866, 47.8586332 , 31.47323209])"
      ]
     },
     "execution_count": 8,
     "metadata": {},
     "output_type": "execute_result"
    }
   ],
   "source": [
    "# Generamos 10 muestras de una distribución uniforme en el intervalo [0, 55] \n",
    "scipy.stats.uniform.rvs(loc=0, scale=55, size=10)"
   ]
  },
  {
   "cell_type": "markdown",
   "metadata": {},
   "source": [
    "<div id='pdf_cdf'>\n",
    "\n",
    "#### PDF y CDF\n",
    "\n",
    "Los siguientes métodos de SciPy también nos pueden resultar de utilidad:\n",
    "\n",
    "* `pdf`: genera una **función de densidad de probabilidad (pdf)**.\n",
    "\n",
    "* `cdf`: genera una **función de distribución acumulada (cdf)**.\n",
    "\n",
    "Estos métodos funcionan de manera análoga al método `rvs` revisado anteriormente; es decir, se aplican sobre la distribución estadística que es de nuestro interés."
   ]
  },
  {
   "cell_type": "markdown",
   "metadata": {},
   "source": [
    "<div id='metodo_transformada_inversa'>\n",
    "\n",
    "## Método de la transformada inversa\n",
    "\n",
    "El método de la transformada inversa es una técnica para generar variables aleatorias a partir de la transformación de números uniformes a valores de una distribución de probabilidad mediante una función específica. Este método aprovecha la propiedad de las funciones de probabilidad acumulada, en las cuales su recorrido siempre se encontrará en el intervalo cerrado $[0,1]$.\n",
    "\n",
    "Supongamos que queremos generar una variable aleatoria $X$ la cual tiene una función de probabilidad que sigue:\n",
    "\n",
    "$$P(X=x_j)=\\left\\{\\begin{array}{lr} x_0    & p_0 \\\\ \\\\\n",
    "                                    x_1    & p_1 \\\\ \\\\\n",
    "                                    x_2    & p_2 \\\\ \\\\\n",
    "                                    \\vdots &     \\\\ \\\\\n",
    "                                    x_n    & p_n \\end{array}\\right.$$\n",
    "\n",
    "Nuestra misión es generar eventos aleatorios $X = x_j$ tal que cumpla con la función de probabilidad. Para esto nos apoyaremos en \n",
    "los números aleatorios y en la función de distribución de $X$ la cual denotaremos como $F_x$.\n",
    "\n",
    "Generaremos un número aleatorio $U$ que siga una distribución uniforme $(0,1)$, es decir, $U \\sim U(0,1)$. Luego de esto, \n",
    "aprovecharemos la siguiente propiedad: dados $a,b$ que cumplan $0<a<b<1$, se tiene que $P\\{a\\leq U<b\\}=b-a$. Con esta propiedad \n",
    "en mente, contruimos la función de probabilidad anterior de la siguiente forma:\n",
    "\n",
    "$$P\\{X=x_i\\}=\\left\\{\\sum_{i=0}^{j-1}p_i\\leq U<\\sum_{i=0}^{j}p_i\\right\\}=p_j$$\n",
    "\n",
    "Entonces, podemos generar $X$ siguiendo la siguiente regla:\n",
    "\n",
    "$$X=\\left\\{\\begin{array}{lcc} x_0    & si & U   \\leq p_0                                \\\\ \\\\\n",
    "                              x_1    & si & p_0 \\leq U<p_0+p_1                          \\\\ \\\\\n",
    "                              \\vdots &    &                                             \\\\ \\\\\n",
    "                              x_j    & si & \\sum_{i=0}^{j-1}p_i\\leq U<\\sum_{i=0}^{j}p_i \\\\\n",
    "                              \\vdots &    &                                             \\end{array}\\right.$$\n",
    "\n",
    "Por último, si tenemos los $x_i$ ordenados tal que, $x_1<x_2<\\cdots$, tendremos que $X$ será $x_j$ si $F_X(x_{j-1})\\leq U<F_X(x_j)\n",
    "$.\n",
    "\n",
    "En resumen, este método consiste en los siguientes 3 pasos:\n",
    "\n",
    "1. Generar un número aleatorio $u$ (computacionalmente son pseudo-aleatorios), tal que siga una distribución uniforme $(0,1)$, es decir $u\\sim U(0,1)$.\n",
    "\n",
    "2. Hallar la inversa de la función de probabilidad acumulada $F^{-1}_X(x)$.\n",
    "\n",
    "3. Finalmente, calcular $X=F^{-1}_X(u)$. Así habremos generado $X=x$ que siga la distribución de $F_X$.\n",
    "\n",
    "A continuación, se presentará un ejemplo introductorio al método de la transformada inversa."
   ]
  },
  {
   "cell_type": "markdown",
   "metadata": {},
   "source": [
    "<div id='metodo_transformada_inversa_ejemplo'>\n",
    "\n",
    "### Ejemplo\n",
    "\n",
    "Queremos simular una variable aleatoria $X$ tal que $p_1 = 0.10$, $p_2 = 0.25$, $p_3 = 0.60$, $p_4 = 0.05$"
   ]
  },
  {
   "cell_type": "code",
   "execution_count": 9,
   "metadata": {},
   "outputs": [
    {
     "data": {
      "text/html": [
       "<div>\n",
       "<style scoped>\n",
       "    .dataframe tbody tr th:only-of-type {\n",
       "        vertical-align: middle;\n",
       "    }\n",
       "\n",
       "    .dataframe tbody tr th {\n",
       "        vertical-align: top;\n",
       "    }\n",
       "\n",
       "    .dataframe thead th {\n",
       "        text-align: right;\n",
       "    }\n",
       "</style>\n",
       "<table border=\"1\" class=\"dataframe\">\n",
       "  <thead>\n",
       "    <tr style=\"text-align: right;\">\n",
       "      <th></th>\n",
       "      <th>count</th>\n",
       "    </tr>\n",
       "  </thead>\n",
       "  <tbody>\n",
       "    <tr>\n",
       "      <th>x_1</th>\n",
       "      <td>0</td>\n",
       "    </tr>\n",
       "    <tr>\n",
       "      <th>x_2</th>\n",
       "      <td>0</td>\n",
       "    </tr>\n",
       "    <tr>\n",
       "      <th>x_3</th>\n",
       "      <td>0</td>\n",
       "    </tr>\n",
       "    <tr>\n",
       "      <th>x_4</th>\n",
       "      <td>0</td>\n",
       "    </tr>\n",
       "  </tbody>\n",
       "</table>\n",
       "</div>"
      ],
      "text/plain": [
       "     count\n",
       "x_1      0\n",
       "x_2      0\n",
       "x_3      0\n",
       "x_4      0"
      ]
     },
     "execution_count": 9,
     "metadata": {},
     "output_type": "execute_result"
    }
   ],
   "source": [
    "# Creamos un DataFrame de Pandas para llevar la cuenta de ocurrencia de cada variable x_i\n",
    "# Se crean 4 DataFrames para llevar el registro de 4 simulaciones distintas\n",
    "X_1 = pd.DataFrame({'count': [0,0,0,0]}, index=['x_1','x_2','x_3','x_4'])\n",
    "X_2 = pd.DataFrame({'count': [0,0,0,0]}, index=['x_1','x_2','x_3','x_4'])\n",
    "X_3 = pd.DataFrame({'count': [0,0,0,0]}, index=['x_1','x_2','x_3','x_4'])\n",
    "X_4 = pd.DataFrame({'count': [0,0,0,0]}, index=['x_1','x_2','x_3','x_4'])\n",
    "\n",
    "X_1"
   ]
  },
  {
   "cell_type": "code",
   "execution_count": 10,
   "metadata": {},
   "outputs": [],
   "source": [
    "# Método de la transformada inversa\n",
    "def generator(df):\n",
    "    # Utilizamos NumPy para generar un número pseudoaleatorio de distribución uniforme(0,1)\n",
    "    U = np.random.random()\n",
    "    # Dependiendo del intervalo de U, generamos x_i utilizando F_X\n",
    "    if U < 0.1:\n",
    "        df['count']['x_1'] += 1\n",
    "    elif U < 0.35:\n",
    "        df['count']['x_2'] += 1\n",
    "    elif U < 0.95:\n",
    "        df['count']['x_3'] += 1\n",
    "    else:\n",
    "        df['count']['x_4'] += 1\n",
    "    return"
   ]
  },
  {
   "cell_type": "code",
   "execution_count": 11,
   "metadata": {},
   "outputs": [],
   "source": [
    "## Definimos la función sim para simular nuestro algoritmo n veces y así analizar la distribución de las variables generadas\n",
    "def sim(n, X):\n",
    "    for i in range(n):\n",
    "        generator(X)\n",
    "    return"
   ]
  },
  {
   "cell_type": "markdown",
   "metadata": {},
   "source": [
    "A continuación, vamos a realizar distintas simulaciones para ver cómo se comporta nuestro generador de variables aleatorias, y si \n",
    "este en realidad genera las variables con la probabilidad exigida."
   ]
  },
  {
   "cell_type": "code",
   "execution_count": 12,
   "metadata": {},
   "outputs": [
    {
     "data": {
      "text/html": [
       "<div>\n",
       "<style scoped>\n",
       "    .dataframe tbody tr th:only-of-type {\n",
       "        vertical-align: middle;\n",
       "    }\n",
       "\n",
       "    .dataframe tbody tr th {\n",
       "        vertical-align: top;\n",
       "    }\n",
       "\n",
       "    .dataframe thead th {\n",
       "        text-align: right;\n",
       "    }\n",
       "</style>\n",
       "<table border=\"1\" class=\"dataframe\">\n",
       "  <thead>\n",
       "    <tr style=\"text-align: right;\">\n",
       "      <th></th>\n",
       "      <th>count</th>\n",
       "    </tr>\n",
       "  </thead>\n",
       "  <tbody>\n",
       "    <tr>\n",
       "      <th>x_1</th>\n",
       "      <td>0.06</td>\n",
       "    </tr>\n",
       "    <tr>\n",
       "      <th>x_2</th>\n",
       "      <td>0.22</td>\n",
       "    </tr>\n",
       "    <tr>\n",
       "      <th>x_3</th>\n",
       "      <td>0.62</td>\n",
       "    </tr>\n",
       "    <tr>\n",
       "      <th>x_4</th>\n",
       "      <td>0.10</td>\n",
       "    </tr>\n",
       "  </tbody>\n",
       "</table>\n",
       "</div>"
      ],
      "text/plain": [
       "     count\n",
       "x_1   0.06\n",
       "x_2   0.22\n",
       "x_3   0.62\n",
       "x_4   0.10"
      ]
     },
     "execution_count": 12,
     "metadata": {},
     "output_type": "execute_result"
    }
   ],
   "source": [
    "# Simulamos 100 veces y calculamos la probabilidad de cada x_i\n",
    "sim(100, X_1)\n",
    "X_1 /= 100\n",
    "\n",
    "X_1"
   ]
  },
  {
   "cell_type": "code",
   "execution_count": 13,
   "metadata": {},
   "outputs": [
    {
     "data": {
      "text/html": [
       "<div>\n",
       "<style scoped>\n",
       "    .dataframe tbody tr th:only-of-type {\n",
       "        vertical-align: middle;\n",
       "    }\n",
       "\n",
       "    .dataframe tbody tr th {\n",
       "        vertical-align: top;\n",
       "    }\n",
       "\n",
       "    .dataframe thead th {\n",
       "        text-align: right;\n",
       "    }\n",
       "</style>\n",
       "<table border=\"1\" class=\"dataframe\">\n",
       "  <thead>\n",
       "    <tr style=\"text-align: right;\">\n",
       "      <th></th>\n",
       "      <th>count</th>\n",
       "    </tr>\n",
       "  </thead>\n",
       "  <tbody>\n",
       "    <tr>\n",
       "      <th>x_1</th>\n",
       "      <td>0.122</td>\n",
       "    </tr>\n",
       "    <tr>\n",
       "      <th>x_2</th>\n",
       "      <td>0.246</td>\n",
       "    </tr>\n",
       "    <tr>\n",
       "      <th>x_3</th>\n",
       "      <td>0.579</td>\n",
       "    </tr>\n",
       "    <tr>\n",
       "      <th>x_4</th>\n",
       "      <td>0.053</td>\n",
       "    </tr>\n",
       "  </tbody>\n",
       "</table>\n",
       "</div>"
      ],
      "text/plain": [
       "     count\n",
       "x_1  0.122\n",
       "x_2  0.246\n",
       "x_3  0.579\n",
       "x_4  0.053"
      ]
     },
     "execution_count": 13,
     "metadata": {},
     "output_type": "execute_result"
    }
   ],
   "source": [
    "# Simulamos 1000 veces y calculamos la probabilidad de cada x_i\n",
    "sim(1000, X_2)\n",
    "X_2 /= 1000\n",
    "\n",
    "X_2"
   ]
  },
  {
   "cell_type": "code",
   "execution_count": 14,
   "metadata": {},
   "outputs": [
    {
     "data": {
      "text/html": [
       "<div>\n",
       "<style scoped>\n",
       "    .dataframe tbody tr th:only-of-type {\n",
       "        vertical-align: middle;\n",
       "    }\n",
       "\n",
       "    .dataframe tbody tr th {\n",
       "        vertical-align: top;\n",
       "    }\n",
       "\n",
       "    .dataframe thead th {\n",
       "        text-align: right;\n",
       "    }\n",
       "</style>\n",
       "<table border=\"1\" class=\"dataframe\">\n",
       "  <thead>\n",
       "    <tr style=\"text-align: right;\">\n",
       "      <th></th>\n",
       "      <th>count</th>\n",
       "    </tr>\n",
       "  </thead>\n",
       "  <tbody>\n",
       "    <tr>\n",
       "      <th>x_1</th>\n",
       "      <td>0.1000</td>\n",
       "    </tr>\n",
       "    <tr>\n",
       "      <th>x_2</th>\n",
       "      <td>0.2566</td>\n",
       "    </tr>\n",
       "    <tr>\n",
       "      <th>x_3</th>\n",
       "      <td>0.5948</td>\n",
       "    </tr>\n",
       "    <tr>\n",
       "      <th>x_4</th>\n",
       "      <td>0.0486</td>\n",
       "    </tr>\n",
       "  </tbody>\n",
       "</table>\n",
       "</div>"
      ],
      "text/plain": [
       "      count\n",
       "x_1  0.1000\n",
       "x_2  0.2566\n",
       "x_3  0.5948\n",
       "x_4  0.0486"
      ]
     },
     "execution_count": 14,
     "metadata": {},
     "output_type": "execute_result"
    }
   ],
   "source": [
    "## Simulamos 10000 veces y calculamos la probabilidad de cada x_i\n",
    "sim(10000, X_3)\n",
    "X_3 /= 10000\n",
    "\n",
    "X_3"
   ]
  },
  {
   "cell_type": "code",
   "execution_count": 15,
   "metadata": {},
   "outputs": [
    {
     "data": {
      "text/html": [
       "<div>\n",
       "<style scoped>\n",
       "    .dataframe tbody tr th:only-of-type {\n",
       "        vertical-align: middle;\n",
       "    }\n",
       "\n",
       "    .dataframe tbody tr th {\n",
       "        vertical-align: top;\n",
       "    }\n",
       "\n",
       "    .dataframe thead th {\n",
       "        text-align: right;\n",
       "    }\n",
       "</style>\n",
       "<table border=\"1\" class=\"dataframe\">\n",
       "  <thead>\n",
       "    <tr style=\"text-align: right;\">\n",
       "      <th></th>\n",
       "      <th>count</th>\n",
       "    </tr>\n",
       "  </thead>\n",
       "  <tbody>\n",
       "    <tr>\n",
       "      <th>x_1</th>\n",
       "      <td>0.09826</td>\n",
       "    </tr>\n",
       "    <tr>\n",
       "      <th>x_2</th>\n",
       "      <td>0.25029</td>\n",
       "    </tr>\n",
       "    <tr>\n",
       "      <th>x_3</th>\n",
       "      <td>0.59957</td>\n",
       "    </tr>\n",
       "    <tr>\n",
       "      <th>x_4</th>\n",
       "      <td>0.05188</td>\n",
       "    </tr>\n",
       "  </tbody>\n",
       "</table>\n",
       "</div>"
      ],
      "text/plain": [
       "       count\n",
       "x_1  0.09826\n",
       "x_2  0.25029\n",
       "x_3  0.59957\n",
       "x_4  0.05188"
      ]
     },
     "execution_count": 15,
     "metadata": {},
     "output_type": "execute_result"
    }
   ],
   "source": [
    "## Simulamos 100000 veces y calculamos la probabilidad de cada x_i\n",
    "sim(100000, X_4)\n",
    "X_4 /= 100000\n",
    "\n",
    "X_4"
   ]
  },
  {
   "cell_type": "code",
   "execution_count": 16,
   "metadata": {},
   "outputs": [
    {
     "data": {
      "image/png": "[encoded data removed]",
      "text/plain": [
       "<Figure size 640x480 with 4 Axes>"
      ]
     },
     "metadata": {},
     "output_type": "display_data"
    }
   ],
   "source": [
    "marcas = [0.05,0.10,0.25,0.60]\n",
    "ylim = [0.0, 0.65]\n",
    "\n",
    "fig, ax = plt.subplots(2,2)\n",
    "\n",
    "X_1.plot.bar(ax= ax[0,0], grid= True, yticks=marcas, ylim= ylim)\n",
    "X_2.plot.bar(ax= ax[0,1], grid= True, yticks=marcas, ylim= ylim)\n",
    "X_3.plot.bar(ax= ax[1,0], grid= True, yticks=marcas, ylim= ylim)\n",
    "X_4.plot.bar(ax= ax[1,1], grid= True, yticks=marcas, ylim= ylim)\n",
    "\n",
    "ax[0,0].set_title(\"100 simulaciones\")\n",
    "ax[0,1].set_title(\"1000 simulaciones\")\n",
    "ax[1,0].set_title(\"10000 simulaciones\")\n",
    "ax[1,1].set_title(\"100000 simulaciones\")\n",
    "\n",
    "plt.tight_layout()\n",
    "plt.show()"
   ]
  },
  {
   "cell_type": "markdown",
   "metadata": {},
   "source": [
    "Podemos observar que nuestro generador cumple su función, y a medida que aumentamos la magnitud del orden de simulaciones, la probabilidad empírica tiende a nuestra probabilidad teórica.\n",
    "\n",
    "Se adjuntan 2 gráficos que representan la idea detrás del método de la transformada inversa, tanto la VA discretas como continuas:\n",
    "\n",
    "* <img src=\"https://upload.wikimedia.org/wikipedia/commons/thumb/1/1f/FDC-Geometrica.pdf/page1-610px-FDC-Geometrica.pdf.jpg?20201101071844\"/>\n",
    "\n",
    "* <img src=\"https://upload.wikimedia.org/wikipedia/commons/7/74/Inversion_method2.svg\"/> "
   ]
  },
  {
   "cell_type": "markdown",
   "metadata": {},
   "source": [
    "<div id='referencias'>\n",
    "\n",
    "## Referencias\n",
    "\n",
    "* Thomas, A. (26 de enero de 2024). *Best Practices for Using NumPy's Random Number Generators*. Scientific Python Blog. \n",
    "* Ross, S. M. (2019). *Generating Discrete Random Variables*. En *Simulation* (pp. 49-66)."
   ]
  },
  {
   "cell_type": "markdown",
   "metadata": {},
   "source": [
    "<div id='hist'>\n",
    "\n",
    "# Historial de Versiones \n",
    "\n",
    "* **Versión v0.02:** Primera versión del material. - *3 de Septiembre del 2024*. \n",
    "* **Versión v0.03:** Mejores prácticas usando RNGs de NumPy y correcciones menores. - *7 de Septiembre del 2024*.\n",
    "* **Versión v0.04:** Correcciones menores y ejemplos RNGs. - *20 de Septiembre del 2024* \n",
    "* **Versión v0.05:** Corrección menor de la tabla de contenidos. - *12 de Noviembre del 2024* "
   ]
  }
 ],
 "metadata": {
  "kernelspec": {
   "display_name": "env-lec",
   "language": "python",
   "name": "python3"
  },
  "language_info": {
   "codemirror_mode": {
    "name": "ipython",
    "version": 3
   },
   "file_extension": ".py",
   "mimetype": "text/x-python",
   "name": "python",
   "nbconvert_exporter": "python",
   "pygments_lexer": "ipython3",
   "version": "3.8.10"
  }
 },
 "nbformat": 4,
 "nbformat_minor": 2
}
