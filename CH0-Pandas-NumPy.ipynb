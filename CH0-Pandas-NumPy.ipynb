{
 "cells": [
  {
   "cell_type": "markdown",
   "metadata": {},
   "source": [
    "<center>\n",
    "    <img src=\"http://sct.inf.utfsm.cl/wp-content/uploads/2020/04/logo_di.png\" style=\"width:60%\">\n",
    "    <h1> INF280 - Estadística Computacional </h1>\n",
    "    <h2> Introducción a Pandas y NumPy </h2>\n",
    "    <h2> Version: 0.01 </h2>\n",
    "    <h2> Ay. Nicolás Armijo Calquín </h2> \n",
    "</center>"
   ]
  },
  {
   "cell_type": "markdown",
   "metadata": {},
   "source": [
    "<div id='toc'>\n",
    "\n",
    "## Tabla de Contenidos\n",
    "\n",
    "* [Introducción](#intro)\n",
    "* [Pandas](#pandas)"
   ]
  },
  {
   "cell_type": "markdown",
   "metadata": {},
   "source": [
    "<div id='intro'>\n",
    "\n",
    "## Introducción\n",
    "\n",
    "En el presente Jupyter Notebook se presentarán las herramientas básicas para comenzar a trabajar con las librerías Pandas y Numpy del lenguaje Python. Estas librerías le ayudarán enormemente con las tareas relacionadas a los laboratorios del curso y además le proporcionarán una base para las especialidades dentro del área estadística y numérica. \n",
    "\n",
    "Cabe destacar que estas librerías fueron escogidas dentro del **top 3** de las tecnologías más utilizadas dentro del StackOverflow Survey 2023, por lo que se espera que este material le sean de gran apoyo a su formación. [[StackOverflow Survey 2023] Ver Notcia](https://survey.stackoverflow.co/2023/#most-popular-technologies-misc-tech)"
   ]
  },
  {
   "cell_type": "markdown",
   "metadata": {},
   "source": [
    "<div id='pandas'>\n",
    "\n",
    "## Pandas\n",
    "\n",
    "Pandas es una librería de código abierto para el lenguaje de programación Python que proporciona estructuras de datos de alto rendimiento y herramientas de análisis de datos. Es ampliamente utilizada en ciencia de datos, finanzas, estadísticas, análisis de negocios y otras áreas donde se trabaja con datos tabulares y series temporales.\n",
    "\n",
    "* **Estructuras de datos**: Pandas proporciona dos estructuras de datos principales: Series y DataFrames. Las Series son un arreglo unidimensional etiquetado que puede contener cualquier tipo de datos, mientras que los DataFrames son estructuras de datos bidimensionales etiquetadas que pueden contener múltiples tipos de datos.\n",
    "\n",
    "* **Manipulación de datos**: Pandas permite la manipulación de datos a través de operaciones como filtrado, selección, agregación, transformación, fusión, unión, entre otras.\n",
    "\n",
    "* **Limpieza de datos**: Pandas proporciona herramientas para limpiar datos, como la eliminación de valores nulos o duplicados, la corrección de tipos de datos, el relleno de valores faltantes, la eliminación de columnas innecesarias y la normalización de datos.\n",
    "\n",
    "* **Análisis de datos**: Pandas permite realizar análisis de datos, como la agregación de datos, la agrupación, la aplicación de funciones estadísticas, la exploración de datos, entre otras.\n",
    "\n",
    "* **Visualización de datos**: Pandas también permite la visualización de datos, ya que puede integrarse con otras bibliotecas de visualización como Matplotlib, Seaborn y Plotly.\n",
    "\n",
    "Se adjuntan distintos recursos que les puede ser de utilidad:\n",
    "\n",
    "\n",
    "*   **Documentación Oficial** https://pandas.pydata.org/docs/\n",
    "*   **Pandas CheatSheet** https://pandas.pydata.org/Pandas_Cheat_Sheet.pdf\n",
    "*   **Mini Curso Pandas - Kaggle** https://www.kaggle.com/learn/pandas (Recomendable)"
   ]
  },
  {
   "cell_type": "code",
   "execution_count": null,
   "metadata": {},
   "outputs": [],
   "source": []
  }
 ],
 "metadata": {
  "language_info": {
   "name": "python"
  }
 },
 "nbformat": 4,
 "nbformat_minor": 2
}
