{
 "cells": [
  {
   "cell_type": "markdown",
   "metadata": {},
   "source": [
    "<center>\n",
    "    <img src=\"http://sct.inf.utfsm.cl/wp-content/uploads/2020/04/logo_di.png\" style=\"width:60%\">\n",
    "    <h1> INF280 - Estadística Computacional </h1>\n",
    "    <h2> Introducción a Pandas y NumPy </h2>\n",
    "    <h2> Version: 0.01 </h2>\n",
    "    <h2> Ay. Nicolás Armijo Calquín </h2> \n",
    "</center>"
   ]
  },
  {
   "cell_type": "markdown",
   "metadata": {},
   "source": [
    "<div id='toc'>\n",
    "\n",
    "## Tabla de Contenidos\n",
    "\n",
    "* [Introducción](#intro)\n",
    "* [Pandas](#pandas)\n",
    "* [NumPy](#numpy)"
   ]
  },
  {
   "cell_type": "markdown",
   "metadata": {},
   "source": [
    "<div id='intro'>\n",
    "\n",
    "## Introducción\n",
    "\n",
    "En el presente Jupyter Notebook se presentarán las herramientas básicas para comenzar a trabajar con las librerías Pandas y Numpy del lenguaje Python. Estas librerías le ayudarán enormemente con las tareas relacionadas a los laboratorios del curso y además le proporcionarán una base para las especialidades dentro del área estadística y numérica. \n",
    "\n",
    "Cabe destacar que estas librerías fueron escogidas dentro del **top 3** de las tecnologías más utilizadas dentro del StackOverflow Survey 2023, por lo que se espera que este material le sean de gran apoyo a su formación. [[StackOverflow Survey 2023] Ver Notcia](https://survey.stackoverflow.co/2023/#most-popular-technologies-misc-tech)"
   ]
  },
  {
   "cell_type": "markdown",
   "metadata": {},
   "source": [
    "<div id='pandas'>\n",
    "\n",
    "## Pandas\n",
    "\n",
    "Pandas es una librería de código abierto para el lenguaje de programación Python que proporciona estructuras de datos de alto rendimiento y herramientas de análisis de datos. Es ampliamente utilizada en ciencia de datos, finanzas, estadísticas, análisis de negocios y otras áreas donde se trabaja con datos tabulares y series temporales.\n",
    "\n",
    "* **Estructuras de datos**: Pandas proporciona dos estructuras de datos principales: Series y DataFrames. Las Series son un arreglo unidimensional etiquetado que puede contener cualquier tipo de datos, mientras que los DataFrames son estructuras de datos bidimensionales etiquetadas que pueden contener múltiples tipos de datos.\n",
    "\n",
    "* **Manipulación de datos**: Pandas permite la manipulación de datos a través de operaciones como filtrado, selección, agregación, transformación, fusión, unión, entre otras.\n",
    "\n",
    "* **Limpieza de datos**: Pandas proporciona herramientas para limpiar datos, como la eliminación de valores nulos o duplicados, la corrección de tipos de datos, el relleno de valores faltantes, la eliminación de columnas innecesarias y la normalización de datos.\n",
    "\n",
    "* **Análisis de datos**: Pandas permite realizar análisis de datos, como la agregación de datos, la agrupación, la aplicación de funciones estadísticas, la exploración de datos, entre otras.\n",
    "\n",
    "* **Visualización de datos**: Pandas también permite la visualización de datos, ya que puede integrarse con otras bibliotecas de visualización como Matplotlib, Seaborn y Plotly.\n",
    "\n",
    "Se adjuntan distintos recursos que les puede ser de utilidad:\n",
    "\n",
    "\n",
    "*   **Documentación Oficial** https://pandas.pydata.org/docs/\n",
    "*   **Pandas CheatSheet** https://pandas.pydata.org/Pandas_Cheat_Sheet.pdf\n",
    "*   **Mini Curso Pandas - Kaggle** https://www.kaggle.com/learn/pandas (Recomendable)"
   ]
  },
  {
   "cell_type": "code",
   "execution_count": 2,
   "metadata": {},
   "outputs": [],
   "source": [
    "# Importamos Pandas - Debemos instalarlo con pip install pandas\n",
    "import pandas as pd"
   ]
  },
  {
   "cell_type": "markdown",
   "metadata": {},
   "source": [
    "En pandas trabajamos con dos objetos principales: Los `DataFrame` y las `Series`.\n",
    "\n",
    "Los `DataFrame` es una tabla. Estos contienen un array de entradas, los cuales tienen ciertos valores. Cada entrada corresponde a una fila y a una columna. Podemos enterdelo como una tabla de una base de datos.\n",
    "\n",
    "Las `Series` son una secuencia de valores. Podemos interpretarla como una única columna de un DataFrame. Existen ciertas diferencias con el DataFrame, como por ejemplo, las Series no contienen nombre de columna, sino, poseen un nombre para todo el conjunto.\n",
    "\n",
    "A continuación, veremos ejemplos obtenidos de la plataforma Kaggle:"
   ]
  },
  {
   "cell_type": "code",
   "execution_count": 3,
   "metadata": {},
   "outputs": [
    {
     "data": {
      "text/html": [
       "<div>\n",
       "<style scoped>\n",
       "    .dataframe tbody tr th:only-of-type {\n",
       "        vertical-align: middle;\n",
       "    }\n",
       "\n",
       "    .dataframe tbody tr th {\n",
       "        vertical-align: top;\n",
       "    }\n",
       "\n",
       "    .dataframe thead th {\n",
       "        text-align: right;\n",
       "    }\n",
       "</style>\n",
       "<table border=\"1\" class=\"dataframe\">\n",
       "  <thead>\n",
       "    <tr style=\"text-align: right;\">\n",
       "      <th></th>\n",
       "      <th>Alice</th>\n",
       "      <th>Bob</th>\n",
       "    </tr>\n",
       "  </thead>\n",
       "  <tbody>\n",
       "    <tr>\n",
       "      <th>Producto A</th>\n",
       "      <td>8.5</td>\n",
       "      <td>9.5</td>\n",
       "    </tr>\n",
       "    <tr>\n",
       "      <th>Producto B</th>\n",
       "      <td>5.0</td>\n",
       "      <td>10.0</td>\n",
       "    </tr>\n",
       "  </tbody>\n",
       "</table>\n",
       "</div>"
      ],
      "text/plain": [
       "            Alice   Bob\n",
       "Producto A    8.5   9.5\n",
       "Producto B    5.0  10.0"
      ]
     },
     "execution_count": 3,
     "metadata": {},
     "output_type": "execute_result"
    }
   ],
   "source": [
    "# DataFrame\n",
    "pd.DataFrame({'Alice': [8.5, 5.0 ], 'Bob': [9.5, 10]}, index=['Producto A', 'Producto B'])"
   ]
  },
  {
   "cell_type": "code",
   "execution_count": 4,
   "metadata": {},
   "outputs": [
    {
     "data": {
      "text/plain": [
       "2015 Sales    30\n",
       "2016 Sales    35\n",
       "2017 Sales    40\n",
       "Name: Product A, dtype: int64"
      ]
     },
     "execution_count": 4,
     "metadata": {},
     "output_type": "execute_result"
    }
   ],
   "source": [
    "# Series\n",
    "pd.Series([30, 35, 40], index=['2015 Sales', '2016 Sales', '2017 Sales'], name='Product A')"
   ]
  },
  {
   "cell_type": "markdown",
   "metadata": {},
   "source": [
    "Por otra parte, pandas nos permite leer múltiples tipos de archivos. La función que lee los contenidos de los archivos se escriben como `pd.read_<file-type>()` y reciben como argumento el `path` del archivo, en donde los tipos más importantes soportados por Pandas son:\n",
    "\n",
    "* `pd.read_json()`\n",
    "* `pd.read_html()`\n",
    "* `pd.read_sql()`\n",
    "* `pd.read_excel()`\n",
    "* entre otros.\n",
    "\n",
    "En nuestro caso, es común tabajar con un archivo `CSV`. Cuando abrimos un archivo los datos se guardarán en forma de DataFrame. Así aprovecharemos todas las ventajas que nos entregan estos objetos."
   ]
  },
  {
   "cell_type": "code",
   "execution_count": null,
   "metadata": {},
   "outputs": [],
   "source": [
    "# Ejemplo de apertura de un CSV de manera remota"
   ]
  },
  {
   "cell_type": "markdown",
   "metadata": {},
   "source": [
    "<div id='numpy'>\n",
    "\n",
    "## NumPy\n",
    "\n",
    "intro a numpy"
   ]
  },
  {
   "cell_type": "code",
   "execution_count": 1,
   "metadata": {},
   "outputs": [],
   "source": [
    "import numpy as np"
   ]
  }
 ],
 "metadata": {
  "kernelspec": {
   "display_name": "venv-lec",
   "language": "python",
   "name": "python3"
  },
  "language_info": {
   "codemirror_mode": {
    "name": "ipython",
    "version": 3
   },
   "file_extension": ".py",
   "mimetype": "text/x-python",
   "name": "python",
   "nbconvert_exporter": "python",
   "pygments_lexer": "ipython3",
   "version": "3.8.10"
  }
 },
 "nbformat": 4,
 "nbformat_minor": 2
}
