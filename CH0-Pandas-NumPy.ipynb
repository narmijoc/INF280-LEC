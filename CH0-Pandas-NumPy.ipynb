{
 "cells": [
  {
   "cell_type": "markdown",
   "metadata": {},
   "source": [
    "<center>\n",
    "    <img src=\"http://sct.inf.utfsm.cl/wp-content/uploads/2020/04/logo_di.png\" style=\"width:60%\">\n",
    "    <h1> INF280 - Estadística Computacional </h1>\n",
    "    <h2> Introducción a Pandas y NumPy </h2>\n",
    "    <h2> Version: 0.03 </h2>\n",
    "    <h2> Ay. Nicolás Armijo Calquín </h2>\n",
    "    <h2> Ay. Eva Wang Liu </h2> \n",
    "</center>"
   ]
  },
  {
   "cell_type": "markdown",
   "metadata": {},
   "source": [
    "<div id='toc'>\n",
    "\n",
    "## Tabla de Contenidos\n",
    "\n",
    "* [Introducción](#intro)\n",
    "* [Pandas](#pandas)\n",
    "    * [DataFrame y Series](#df-series)\n",
    "    * [Leer/Escribir Archivos](#io)\n",
    "    * [Conocer un DataFrame](#df-meth)\n",
    "    * [Indexar, Seleccionar y Añadir Datos](#indexing)\n",
    "    * [Extras](#extra-pd)\n",
    "* [NumPy](#numpy)\n",
    "    * [Objetos ndarray](#ndarray)\n",
    "    * [Vectorización](#vectorize)\n",
    "    * [Números Aleatorios](#random)\n",
    "\n",
    "* [Historial Cambios](#hist)"
   ]
  },
  {
   "cell_type": "markdown",
   "metadata": {},
   "source": [
    "<div id='intro'>\n",
    "\n",
    "## Introducción\n",
    "\n",
    "En el presente Jupyter Notebook se presentarán las herramientas básicas para comenzar a trabajar con las librerías Pandas y Numpy del lenguaje Python. Estas librerías le ayudarán enormemente con las tareas relacionadas a los laboratorios del curso y además le proporcionarán una base para las especialidades dentro del área estadística y numérica. \n",
    "\n",
    "Cabe destacar que estas librerías fueron escogidas dentro del **top 3** de las tecnologías más utilizadas dentro del StackOverflow Survey 2023, por lo que se espera que este material le sean de gran apoyo a su formación. [[StackOverflow Survey 2023] Ver Notcia](https://survey.stackoverflow.co/2023/#most-popular-technologies-misc-tech)"
   ]
  },
  {
   "cell_type": "markdown",
   "metadata": {},
   "source": [
    "<div id='pandas'>\n",
    "\n",
    "## Pandas\n",
    "\n",
    "Pandas es una librería de código abierto para el lenguaje de programación Python que proporciona estructuras de datos de alto rendimiento y herramientas de análisis de datos. Es ampliamente utilizada en ciencia de datos, finanzas, estadísticas, análisis de negocios y otras áreas donde se trabaja con datos tabulares y series temporales.\n",
    "\n",
    "* **Estructuras de datos**: Pandas proporciona dos estructuras de datos principales: Series y DataFrames. Las Series son un arreglo unidimensional etiquetado que puede contener cualquier tipo de datos, mientras que los DataFrames son estructuras de datos bidimensionales etiquetadas que pueden contener múltiples tipos de datos.\n",
    "\n",
    "* **Manipulación de datos**: Pandas permite la manipulación de datos a través de operaciones como filtrado, selección, agregación, transformación, fusión, unión, entre otras.\n",
    "\n",
    "* **Limpieza de datos**: Pandas proporciona herramientas para limpiar datos, como la eliminación de valores nulos o duplicados, la corrección de tipos de datos, el relleno de valores faltantes, la eliminación de columnas innecesarias y la normalización de datos.\n",
    "\n",
    "* **Análisis de datos**: Pandas permite realizar análisis de datos, como la agregación de datos, la agrupación, la aplicación de funciones estadísticas, la exploración de datos, entre otras.\n",
    "\n",
    "* **Visualización de datos**: Pandas también permite la visualización de datos, ya que puede integrarse con otras bibliotecas de visualización como Matplotlib, Seaborn y Plotly.\n",
    "\n",
    "Se adjuntan distintos recursos que les puede ser de utilidad:\n",
    "\n",
    "\n",
    "*   **Documentación Oficial** https://pandas.pydata.org/docs/\n",
    "*   **Pandas CheatSheet** https://pandas.pydata.org/Pandas_Cheat_Sheet.pdf\n",
    "*   **Mini Curso Pandas - Kaggle** https://www.kaggle.com/learn/pandas (Recomendable)"
   ]
  },
  {
   "cell_type": "code",
   "execution_count": 68,
   "metadata": {},
   "outputs": [],
   "source": [
    "# Importamos Pandas - Debemos instalarlo con pip install pandas\n",
    "import pandas as pd"
   ]
  },
  {
   "cell_type": "markdown",
   "metadata": {},
   "source": [
    "<div id='df-series'>\n",
    "\n",
    "### DataFrame y Series\n",
    "\n",
    "En pandas trabajamos con dos objetos principales: Los `DataFrame` y las `Series`.\n",
    "\n",
    "Los `DataFrame` es una tabla. Estos contienen un array de entradas, los cuales tienen ciertos valores. Cada entrada corresponde a una fila y a una columna. Podemos enterdelo como una tabla de una base de datos.\n",
    "\n",
    "Las `Series` son una secuencia de valores. Podemos interpretarla como una única columna de un DataFrame. Existen ciertas diferencias con el DataFrame, como por ejemplo, las Series no contienen nombre de columna, sino, poseen un nombre para todo el conjunto.\n",
    "\n",
    "A continuación, veremos ejemplos obtenidos de la plataforma Kaggle:"
   ]
  },
  {
   "cell_type": "code",
   "execution_count": 69,
   "metadata": {},
   "outputs": [
    {
     "data": {
      "text/html": [
       "<div>\n",
       "<style scoped>\n",
       "    .dataframe tbody tr th:only-of-type {\n",
       "        vertical-align: middle;\n",
       "    }\n",
       "\n",
       "    .dataframe tbody tr th {\n",
       "        vertical-align: top;\n",
       "    }\n",
       "\n",
       "    .dataframe thead th {\n",
       "        text-align: right;\n",
       "    }\n",
       "</style>\n",
       "<table border=\"1\" class=\"dataframe\">\n",
       "  <thead>\n",
       "    <tr style=\"text-align: right;\">\n",
       "      <th></th>\n",
       "      <th>Alice</th>\n",
       "      <th>Bob</th>\n",
       "    </tr>\n",
       "  </thead>\n",
       "  <tbody>\n",
       "    <tr>\n",
       "      <th>Producto A</th>\n",
       "      <td>8.5</td>\n",
       "      <td>9.5</td>\n",
       "    </tr>\n",
       "    <tr>\n",
       "      <th>Producto B</th>\n",
       "      <td>5.0</td>\n",
       "      <td>10.0</td>\n",
       "    </tr>\n",
       "  </tbody>\n",
       "</table>\n",
       "</div>"
      ],
      "text/plain": [
       "            Alice   Bob\n",
       "Producto A    8.5   9.5\n",
       "Producto B    5.0  10.0"
      ]
     },
     "execution_count": 69,
     "metadata": {},
     "output_type": "execute_result"
    }
   ],
   "source": [
    "# DataFrame\n",
    "pd.DataFrame({'Alice': [8.5, 5.0 ], 'Bob': [9.5, 10]}, index=['Producto A', 'Producto B'])"
   ]
  },
  {
   "cell_type": "code",
   "execution_count": 70,
   "metadata": {},
   "outputs": [
    {
     "data": {
      "text/plain": [
       "2015 Sales    30\n",
       "2016 Sales    35\n",
       "2017 Sales    40\n",
       "Name: Product A, dtype: int64"
      ]
     },
     "execution_count": 70,
     "metadata": {},
     "output_type": "execute_result"
    }
   ],
   "source": [
    "# Series\n",
    "pd.Series([30, 35, 40], index=['2015 Sales', '2016 Sales', '2017 Sales'], name='Product A')"
   ]
  },
  {
   "cell_type": "markdown",
   "metadata": {},
   "source": [
    "<div id='io'>\n",
    "\n",
    "### Leer/Escribir Archivos\n",
    "\n",
    "Por otra parte, pandas nos permite leer múltiples tipos de archivos. La función que lee los contenidos de los archivos se escriben como `pd.read_<file-type>()` y reciben como argumento el `path` del archivo, en donde los tipos más importantes soportados por Pandas son:\n",
    "\n",
    "* `pd.read_json()`\n",
    "* `pd.read_html()`\n",
    "* `pd.read_sql()`\n",
    "* `pd.read_excel()`\n",
    "* entre otros.\n",
    "\n",
    "En nuestro caso, es común tabajar con un archivo `CSV`. Cuando abrimos un archivo los datos se guardarán en forma de DataFrame. Así aprovecharemos todas las ventajas que nos entregan estos objetos. \n",
    "\n",
    "Al cargar un archivo y asignarlo a una variable (en nuestro caso `df`) podemos utilizar el método `.head()` para observar las primeras 5 filas del dataset. "
   ]
  },
  {
   "cell_type": "code",
   "execution_count": 71,
   "metadata": {},
   "outputs": [
    {
     "data": {
      "text/html": [
       "<div>\n",
       "<style scoped>\n",
       "    .dataframe tbody tr th:only-of-type {\n",
       "        vertical-align: middle;\n",
       "    }\n",
       "\n",
       "    .dataframe tbody tr th {\n",
       "        vertical-align: top;\n",
       "    }\n",
       "\n",
       "    .dataframe thead th {\n",
       "        text-align: right;\n",
       "    }\n",
       "</style>\n",
       "<table border=\"1\" class=\"dataframe\">\n",
       "  <thead>\n",
       "    <tr style=\"text-align: right;\">\n",
       "      <th></th>\n",
       "      <th>sepal_length_in_cm</th>\n",
       "      <th>sepal_width_in_cm</th>\n",
       "      <th>petal_length_in_cm</th>\n",
       "      <th>petal_width_in_cm</th>\n",
       "      <th>class</th>\n",
       "    </tr>\n",
       "  </thead>\n",
       "  <tbody>\n",
       "    <tr>\n",
       "      <th>0</th>\n",
       "      <td>5.1</td>\n",
       "      <td>3.5</td>\n",
       "      <td>1.4</td>\n",
       "      <td>0.2</td>\n",
       "      <td>Iris-setosa</td>\n",
       "    </tr>\n",
       "    <tr>\n",
       "      <th>1</th>\n",
       "      <td>4.9</td>\n",
       "      <td>3.0</td>\n",
       "      <td>1.4</td>\n",
       "      <td>0.2</td>\n",
       "      <td>Iris-setosa</td>\n",
       "    </tr>\n",
       "    <tr>\n",
       "      <th>2</th>\n",
       "      <td>4.7</td>\n",
       "      <td>3.2</td>\n",
       "      <td>1.3</td>\n",
       "      <td>0.2</td>\n",
       "      <td>Iris-setosa</td>\n",
       "    </tr>\n",
       "    <tr>\n",
       "      <th>3</th>\n",
       "      <td>4.6</td>\n",
       "      <td>3.1</td>\n",
       "      <td>1.5</td>\n",
       "      <td>0.2</td>\n",
       "      <td>Iris-setosa</td>\n",
       "    </tr>\n",
       "    <tr>\n",
       "      <th>4</th>\n",
       "      <td>5.0</td>\n",
       "      <td>3.6</td>\n",
       "      <td>1.4</td>\n",
       "      <td>0.2</td>\n",
       "      <td>Iris-setosa</td>\n",
       "    </tr>\n",
       "  </tbody>\n",
       "</table>\n",
       "</div>"
      ],
      "text/plain": [
       "   sepal_length_in_cm  sepal_width_in_cm  petal_length_in_cm  \\\n",
       "0                 5.1                3.5                 1.4   \n",
       "1                 4.9                3.0                 1.4   \n",
       "2                 4.7                3.2                 1.3   \n",
       "3                 4.6                3.1                 1.5   \n",
       "4                 5.0                3.6                 1.4   \n",
       "\n",
       "   petal_width_in_cm        class  \n",
       "0                0.2  Iris-setosa  \n",
       "1                0.2  Iris-setosa  \n",
       "2                0.2  Iris-setosa  \n",
       "3                0.2  Iris-setosa  \n",
       "4                0.2  Iris-setosa  "
      ]
     },
     "execution_count": 71,
     "metadata": {},
     "output_type": "execute_result"
    }
   ],
   "source": [
    "# Ejemplo de apertura de un CSV de manera remota - Cargaremos el Iris Dataset \n",
    "\n",
    "url = \"https://archive.ics.uci.edu/ml/machine-learning-databases/iris/iris.data\"\n",
    "\n",
    "# El dataset no contiene nombres de columnas por lo que se las agregaremos\n",
    "col_names = [\"sepal_length_in_cm\",\n",
    "            \"sepal_width_in_cm\",\n",
    "            \"petal_length_in_cm\",\n",
    "            \"petal_width_in_cm\",\n",
    "            \"class\"]\n",
    "\n",
    "df = pd.read_csv(url, names=col_names)\n",
    "\n",
    "# Con el método .head() mostraremos las 5 primeras filas del dataset\n",
    "df.head()"
   ]
  },
  {
   "cell_type": "markdown",
   "metadata": {},
   "source": [
    "De igual forma podemos utilizar `.tail()` para observar las últimas 5 filas del dataset.\n"
   ]
  },
  {
   "cell_type": "code",
   "execution_count": 72,
   "metadata": {},
   "outputs": [
    {
     "data": {
      "text/html": [
       "<div>\n",
       "<style scoped>\n",
       "    .dataframe tbody tr th:only-of-type {\n",
       "        vertical-align: middle;\n",
       "    }\n",
       "\n",
       "    .dataframe tbody tr th {\n",
       "        vertical-align: top;\n",
       "    }\n",
       "\n",
       "    .dataframe thead th {\n",
       "        text-align: right;\n",
       "    }\n",
       "</style>\n",
       "<table border=\"1\" class=\"dataframe\">\n",
       "  <thead>\n",
       "    <tr style=\"text-align: right;\">\n",
       "      <th></th>\n",
       "      <th>sepal_length_in_cm</th>\n",
       "      <th>sepal_width_in_cm</th>\n",
       "      <th>petal_length_in_cm</th>\n",
       "      <th>petal_width_in_cm</th>\n",
       "      <th>class</th>\n",
       "    </tr>\n",
       "  </thead>\n",
       "  <tbody>\n",
       "    <tr>\n",
       "      <th>145</th>\n",
       "      <td>6.7</td>\n",
       "      <td>3.0</td>\n",
       "      <td>5.2</td>\n",
       "      <td>2.3</td>\n",
       "      <td>Iris-virginica</td>\n",
       "    </tr>\n",
       "    <tr>\n",
       "      <th>146</th>\n",
       "      <td>6.3</td>\n",
       "      <td>2.5</td>\n",
       "      <td>5.0</td>\n",
       "      <td>1.9</td>\n",
       "      <td>Iris-virginica</td>\n",
       "    </tr>\n",
       "    <tr>\n",
       "      <th>147</th>\n",
       "      <td>6.5</td>\n",
       "      <td>3.0</td>\n",
       "      <td>5.2</td>\n",
       "      <td>2.0</td>\n",
       "      <td>Iris-virginica</td>\n",
       "    </tr>\n",
       "    <tr>\n",
       "      <th>148</th>\n",
       "      <td>6.2</td>\n",
       "      <td>3.4</td>\n",
       "      <td>5.4</td>\n",
       "      <td>2.3</td>\n",
       "      <td>Iris-virginica</td>\n",
       "    </tr>\n",
       "    <tr>\n",
       "      <th>149</th>\n",
       "      <td>5.9</td>\n",
       "      <td>3.0</td>\n",
       "      <td>5.1</td>\n",
       "      <td>1.8</td>\n",
       "      <td>Iris-virginica</td>\n",
       "    </tr>\n",
       "  </tbody>\n",
       "</table>\n",
       "</div>"
      ],
      "text/plain": [
       "     sepal_length_in_cm  sepal_width_in_cm  petal_length_in_cm  \\\n",
       "145                 6.7                3.0                 5.2   \n",
       "146                 6.3                2.5                 5.0   \n",
       "147                 6.5                3.0                 5.2   \n",
       "148                 6.2                3.4                 5.4   \n",
       "149                 5.9                3.0                 5.1   \n",
       "\n",
       "     petal_width_in_cm           class  \n",
       "145                2.3  Iris-virginica  \n",
       "146                1.9  Iris-virginica  \n",
       "147                2.0  Iris-virginica  \n",
       "148                2.3  Iris-virginica  \n",
       "149                1.8  Iris-virginica  "
      ]
     },
     "execution_count": 72,
     "metadata": {},
     "output_type": "execute_result"
    }
   ],
   "source": [
    "# Con el método .tail() mostraremos las 5 últimas filas del dataset\n",
    "df.tail()"
   ]
  },
  {
   "cell_type": "markdown",
   "metadata": {},
   "source": [
    "Por último, también tenemos distintas opciones para escribir y guardar un DataFrame en un archivo de nuestra elección. La función que escribe los contenidos de un Dataframe en un archivos escriben como `DataFrame.to_<file-type>()` y reciben como argumento el `path` del archivo. Los archivos mencionados anteriormente sirven como escritura de un archivo."
   ]
  },
  {
   "cell_type": "markdown",
   "metadata": {},
   "source": [
    "<div id='df-meth'>\n",
    "\n",
    "### Análizando un DataFrame\n",
    "\n",
    "Dentro de los Dataframes, posee una variedad de atributos que nos entregarán información sobre el dataset en particular. Es muy común partir con el análisis intentado conocer la estructura de los datos con los que vamos a trabajar. A continuación, se listarán distintas opciones para conocer la data con la que trabajeremos."
   ]
  },
  {
   "cell_type": "markdown",
   "metadata": {},
   "source": [
    "El atributo `shape` nos entregara una tupla la cual indicará las filas y columnas del DataFrame."
   ]
  },
  {
   "cell_type": "code",
   "execution_count": 73,
   "metadata": {},
   "outputs": [
    {
     "data": {
      "text/plain": [
       "(150, 5)"
      ]
     },
     "execution_count": 73,
     "metadata": {},
     "output_type": "execute_result"
    }
   ],
   "source": [
    "# shape nos entrega una tupla (filas, columnas)\n",
    "df.shape"
   ]
  },
  {
   "cell_type": "markdown",
   "metadata": {},
   "source": [
    "El atributo `columns` nos entregara un objeto Index la cual indicará el nombre de las columnas del DataFrame. Además, es posible modificar las etiquetas accediendo a este."
   ]
  },
  {
   "cell_type": "code",
   "execution_count": 74,
   "metadata": {},
   "outputs": [
    {
     "data": {
      "text/plain": [
       "Index(['sepal_length_in_cm', 'sepal_width_in_cm', 'petal_length_in_cm',\n",
       "       'petal_width_in_cm', 'class'],\n",
       "      dtype='object')"
      ]
     },
     "execution_count": 74,
     "metadata": {},
     "output_type": "execute_result"
    }
   ],
   "source": [
    "# columns nos entrega un objeto Index con los nombres de las columnas\n",
    "# En nuestro ejemplo nosotros les asignamos los nombres a las columnas al cargar el dataset\n",
    "\n",
    "df.columns"
   ]
  },
  {
   "cell_type": "code",
   "execution_count": 75,
   "metadata": {},
   "outputs": [
    {
     "data": {
      "text/plain": [
       "Index(['sepalo_largo_en_cm', 'sepalo_ancho_en_cm', 'petalo_largo_en_cm',\n",
       "       'petalo_ancho_en_cm', 'clase'],\n",
       "      dtype='object')"
      ]
     },
     "execution_count": 75,
     "metadata": {},
     "output_type": "execute_result"
    }
   ],
   "source": [
    "# Si queremos modificar las columnas le entregamos una lista con los nombre de interés\n",
    "# Cambiaremos los nombres de las columnas a español\n",
    "df. columns = [\"sepalo_largo_en_cm\",\n",
    "            \"sepalo_ancho_en_cm\",\n",
    "            \"petalo_largo_en_cm\",\n",
    "            \"petalo_ancho_en_cm\",\n",
    "            \"clase\"]\n",
    "\n",
    "df.columns"
   ]
  },
  {
   "cell_type": "markdown",
   "metadata": {},
   "source": [
    "El atributo `index` nos entregará los índices de las filas del dataset."
   ]
  },
  {
   "cell_type": "code",
   "execution_count": 76,
   "metadata": {},
   "outputs": [
    {
     "data": {
      "text/plain": [
       "RangeIndex(start=0, stop=150, step=1)"
      ]
     },
     "execution_count": 76,
     "metadata": {},
     "output_type": "execute_result"
    }
   ],
   "source": [
    "# En nuestro caso el índice corresponde a un rango de 0 a 150 (150 no se cuenta) con pasos de 1. \n",
    "df.index"
   ]
  },
  {
   "cell_type": "markdown",
   "metadata": {},
   "source": [
    "El atributo `dtype` nos entregará una `Series` con los tipos de cada columna dentro del dataset. Dentro de los valores comunes tenemos a: valores enteros `int`; valores flotantes `float`; objetos `object` que puede tener cualquier objeto de Python (normalmente se refieren a `strings` aunque posee un tipo dedicado llamado `StringDtype`); booleanos `bool`; y tipos de tiempo como `datetime64[ns]`.\n",
    "\n",
    "Además, mencionar los `NaN`, que es la representación utilizada para los valores faltantes o perdidos. Hablaremos más adelante cómo trabajar con estos. "
   ]
  },
  {
   "cell_type": "code",
   "execution_count": 77,
   "metadata": {},
   "outputs": [
    {
     "data": {
      "text/plain": [
       "sepalo_largo_en_cm    float64\n",
       "sepalo_ancho_en_cm    float64\n",
       "petalo_largo_en_cm    float64\n",
       "petalo_ancho_en_cm    float64\n",
       "clase                  object\n",
       "dtype: object"
      ]
     },
     "execution_count": 77,
     "metadata": {},
     "output_type": "execute_result"
    }
   ],
   "source": [
    "df.dtypes"
   ]
  },
  {
   "cell_type": "markdown",
   "metadata": {},
   "source": [
    "Finalmente, un método que resumen toda la información de un DataFrame es `info()`."
   ]
  },
  {
   "cell_type": "code",
   "execution_count": 78,
   "metadata": {},
   "outputs": [
    {
     "name": "stdout",
     "output_type": "stream",
     "text": [
      "<class 'pandas.core.frame.DataFrame'>\n",
      "RangeIndex: 150 entries, 0 to 149\n",
      "Data columns (total 5 columns):\n",
      " #   Column              Non-Null Count  Dtype  \n",
      "---  ------              --------------  -----  \n",
      " 0   sepalo_largo_en_cm  150 non-null    float64\n",
      " 1   sepalo_ancho_en_cm  150 non-null    float64\n",
      " 2   petalo_largo_en_cm  150 non-null    float64\n",
      " 3   petalo_ancho_en_cm  150 non-null    float64\n",
      " 4   clase               150 non-null    object \n",
      "dtypes: float64(4), object(1)\n",
      "memory usage: 6.0+ KB\n"
     ]
    }
   ],
   "source": [
    "df.info()"
   ]
  },
  {
   "cell_type": "markdown",
   "metadata": {},
   "source": [
    "<div id='indexing'>\n",
    "\n",
    "### Indexar, Seleccionar y Añadir Datos\n",
    "\n",
    "Luego de conocer el dataset, la función requerida para cualquier herramienta de manipulación de datos es poder acceder, buscar y asignar valores dentro de este. A continuación, se mencionarán algunas funcionalidades de interés para estas tareas. "
   ]
  },
  {
   "cell_type": "code",
   "execution_count": 79,
   "metadata": {},
   "outputs": [
    {
     "data": {
      "text/html": [
       "<div>\n",
       "<style scoped>\n",
       "    .dataframe tbody tr th:only-of-type {\n",
       "        vertical-align: middle;\n",
       "    }\n",
       "\n",
       "    .dataframe tbody tr th {\n",
       "        vertical-align: top;\n",
       "    }\n",
       "\n",
       "    .dataframe thead th {\n",
       "        text-align: right;\n",
       "    }\n",
       "</style>\n",
       "<table border=\"1\" class=\"dataframe\">\n",
       "  <thead>\n",
       "    <tr style=\"text-align: right;\">\n",
       "      <th></th>\n",
       "      <th>sepalo_largo_en_cm</th>\n",
       "      <th>sepalo_ancho_en_cm</th>\n",
       "      <th>petalo_largo_en_cm</th>\n",
       "      <th>petalo_ancho_en_cm</th>\n",
       "      <th>clase</th>\n",
       "    </tr>\n",
       "  </thead>\n",
       "  <tbody>\n",
       "    <tr>\n",
       "      <th>0</th>\n",
       "      <td>5.1</td>\n",
       "      <td>3.5</td>\n",
       "      <td>1.4</td>\n",
       "      <td>0.2</td>\n",
       "      <td>Iris-setosa</td>\n",
       "    </tr>\n",
       "    <tr>\n",
       "      <th>1</th>\n",
       "      <td>4.9</td>\n",
       "      <td>3.0</td>\n",
       "      <td>1.4</td>\n",
       "      <td>0.2</td>\n",
       "      <td>Iris-setosa</td>\n",
       "    </tr>\n",
       "    <tr>\n",
       "      <th>2</th>\n",
       "      <td>4.7</td>\n",
       "      <td>3.2</td>\n",
       "      <td>1.3</td>\n",
       "      <td>0.2</td>\n",
       "      <td>Iris-setosa</td>\n",
       "    </tr>\n",
       "    <tr>\n",
       "      <th>3</th>\n",
       "      <td>4.6</td>\n",
       "      <td>3.1</td>\n",
       "      <td>1.5</td>\n",
       "      <td>0.2</td>\n",
       "      <td>Iris-setosa</td>\n",
       "    </tr>\n",
       "    <tr>\n",
       "      <th>4</th>\n",
       "      <td>5.0</td>\n",
       "      <td>3.6</td>\n",
       "      <td>1.4</td>\n",
       "      <td>0.2</td>\n",
       "      <td>Iris-setosa</td>\n",
       "    </tr>\n",
       "  </tbody>\n",
       "</table>\n",
       "</div>"
      ],
      "text/plain": [
       "   sepalo_largo_en_cm  sepalo_ancho_en_cm  petalo_largo_en_cm  \\\n",
       "0                 5.1                 3.5                 1.4   \n",
       "1                 4.9                 3.0                 1.4   \n",
       "2                 4.7                 3.2                 1.3   \n",
       "3                 4.6                 3.1                 1.5   \n",
       "4                 5.0                 3.6                 1.4   \n",
       "\n",
       "   petalo_ancho_en_cm        clase  \n",
       "0                 0.2  Iris-setosa  \n",
       "1                 0.2  Iris-setosa  \n",
       "2                 0.2  Iris-setosa  \n",
       "3                 0.2  Iris-setosa  \n",
       "4                 0.2  Iris-setosa  "
      ]
     },
     "execution_count": 79,
     "metadata": {},
     "output_type": "execute_result"
    }
   ],
   "source": [
    "# Para recordar cómo es el dataset.\n",
    "df.head()"
   ]
  },
  {
   "cell_type": "markdown",
   "metadata": {},
   "source": [
    "En primer lugar, para acceder a columnas tenemos dos opciones: La primera, acceder mediante el nombre de la columna; y la segunda, acceder como si fuera un diccionario de Python. Ambas opciones nos retornarán una `Series`.\n",
    "\n",
    "La primera opción posee una desventaja, el nombre de la columna NO debe tener espacios para poder ser utilizada. Por ejemplo, si la columna se llama `'Columna A'`, no podríamos trabajar con este método ya que posee un espacio dentro del string. "
   ]
  },
  {
   "cell_type": "code",
   "execution_count": 80,
   "metadata": {},
   "outputs": [
    {
     "data": {
      "text/plain": [
       "0      5.1\n",
       "1      4.9\n",
       "2      4.7\n",
       "3      4.6\n",
       "4      5.0\n",
       "      ... \n",
       "145    6.7\n",
       "146    6.3\n",
       "147    6.5\n",
       "148    6.2\n",
       "149    5.9\n",
       "Name: sepalo_largo_en_cm, Length: 150, dtype: float64"
      ]
     },
     "execution_count": 80,
     "metadata": {},
     "output_type": "execute_result"
    }
   ],
   "source": [
    "# Accederemos a la columna 'sepalo_largo_en _cm' mediante el primer método.\n",
    "df.sepalo_largo_en_cm"
   ]
  },
  {
   "cell_type": "markdown",
   "metadata": {},
   "source": [
    "La segunda opción, es de la misma manera que si trabajaramos con un diccionario. Primero accedemos a la llave y luego podemos acceder a los valores. En nuestro ccaso, la llave correspondería al nombre de la columna a acceder.\n"
   ]
  },
  {
   "cell_type": "code",
   "execution_count": 81,
   "metadata": {},
   "outputs": [
    {
     "data": {
      "text/plain": [
       "0      5.1\n",
       "1      4.9\n",
       "2      4.7\n",
       "3      4.6\n",
       "4      5.0\n",
       "      ... \n",
       "145    6.7\n",
       "146    6.3\n",
       "147    6.5\n",
       "148    6.2\n",
       "149    5.9\n",
       "Name: sepalo_largo_en_cm, Length: 150, dtype: float64"
      ]
     },
     "execution_count": 81,
     "metadata": {},
     "output_type": "execute_result"
    }
   ],
   "source": [
    "# Accederemos a la columna 'sepalo_largo_en _cm' mediante el segundo método.\n",
    "df['sepalo_largo_en_cm']"
   ]
  },
  {
   "cell_type": "code",
   "execution_count": 82,
   "metadata": {},
   "outputs": [
    {
     "data": {
      "text/plain": [
       "5.1"
      ]
     },
     "execution_count": 82,
     "metadata": {},
     "output_type": "execute_result"
    }
   ],
   "source": [
    "# Podemos acceder a los valores como si fuera un diccionario\n",
    "df['sepalo_largo_en_cm'][0]"
   ]
  },
  {
   "cell_type": "code",
   "execution_count": 83,
   "metadata": {},
   "outputs": [
    {
     "data": {
      "text/html": [
       "<div>\n",
       "<style scoped>\n",
       "    .dataframe tbody tr th:only-of-type {\n",
       "        vertical-align: middle;\n",
       "    }\n",
       "\n",
       "    .dataframe tbody tr th {\n",
       "        vertical-align: top;\n",
       "    }\n",
       "\n",
       "    .dataframe thead th {\n",
       "        text-align: right;\n",
       "    }\n",
       "</style>\n",
       "<table border=\"1\" class=\"dataframe\">\n",
       "  <thead>\n",
       "    <tr style=\"text-align: right;\">\n",
       "      <th></th>\n",
       "      <th>sepalo_largo_en_cm</th>\n",
       "      <th>clase</th>\n",
       "    </tr>\n",
       "  </thead>\n",
       "  <tbody>\n",
       "    <tr>\n",
       "      <th>0</th>\n",
       "      <td>5.1</td>\n",
       "      <td>Iris-setosa</td>\n",
       "    </tr>\n",
       "    <tr>\n",
       "      <th>1</th>\n",
       "      <td>4.9</td>\n",
       "      <td>Iris-setosa</td>\n",
       "    </tr>\n",
       "    <tr>\n",
       "      <th>2</th>\n",
       "      <td>4.7</td>\n",
       "      <td>Iris-setosa</td>\n",
       "    </tr>\n",
       "    <tr>\n",
       "      <th>3</th>\n",
       "      <td>4.6</td>\n",
       "      <td>Iris-setosa</td>\n",
       "    </tr>\n",
       "  </tbody>\n",
       "</table>\n",
       "</div>"
      ],
      "text/plain": [
       "   sepalo_largo_en_cm        clase\n",
       "0                 5.1  Iris-setosa\n",
       "1                 4.9  Iris-setosa\n",
       "2                 4.7  Iris-setosa\n",
       "3                 4.6  Iris-setosa"
      ]
     },
     "execution_count": 83,
     "metadata": {},
     "output_type": "execute_result"
    }
   ],
   "source": [
    "# Por último, podemos acceder a múltiples columnas (entregando una lista) y valores (con el operador [:])\n",
    "df[['sepalo_largo_en_cm', 'clase']][:4]"
   ]
  },
  {
   "cell_type": "markdown",
   "metadata": {},
   "source": [
    "Otros métodos que posee Pandas para acceder a los datos son `loc[]` e `iloc[]`, creados para realizar operaciones más avanzadas.\n",
    "\n",
    "La diferencia entre estos es bastante simple pero se debe tener en consideración. El operador `iloc[]` sigue un paradigma de **selección por índices**, es decir, selecciona los datos basado en su posición numérica dentro del dataframe. Además al seleccionar rangos, este lo hace de manera exclusiva con el último índice. \n",
    "\n",
    "Por otro lado, `loc[]` sigue un paradigma de **selección por etiquetas**, es decir, selecciona los datos en función de la etiqueta de sus índices, no su posición. Estas etiquetas normalmente son numéricas, sin embargo, existe la posibilidad de tener strings a modo de índices por lo que es interesante conocer esta herramienta.\n",
    "\n",
    "Las similitudes que comparten estos métodos son que, a diferencia de los métodos tradicionales de Python, es que seleccionan *primero la fila y luego la columna*. "
   ]
  },
  {
   "cell_type": "markdown",
   "metadata": {},
   "source": [
    "Se dejan distintos ejemplos para `iloc[]`"
   ]
  },
  {
   "cell_type": "code",
   "execution_count": 84,
   "metadata": {},
   "outputs": [
    {
     "data": {
      "text/plain": [
       "sepalo_largo_en_cm            5.1\n",
       "sepalo_ancho_en_cm            3.5\n",
       "petalo_largo_en_cm            1.4\n",
       "petalo_ancho_en_cm            0.2\n",
       "clase                 Iris-setosa\n",
       "Name: 0, dtype: object"
      ]
     },
     "execution_count": 84,
     "metadata": {},
     "output_type": "execute_result"
    }
   ],
   "source": [
    "# Seleccionamos la primera fila\n",
    "df.iloc[0]"
   ]
  },
  {
   "cell_type": "code",
   "execution_count": 85,
   "metadata": {},
   "outputs": [
    {
     "data": {
      "text/plain": [
       "'Iris-setosa'"
      ]
     },
     "execution_count": 85,
     "metadata": {},
     "output_type": "execute_result"
    }
   ],
   "source": [
    "# Seleccionamos primera fila última columna\n",
    "df.iloc[0,4]"
   ]
  },
  {
   "cell_type": "code",
   "execution_count": 86,
   "metadata": {},
   "outputs": [
    {
     "data": {
      "text/plain": [
       "sepalo_largo_en_cm            5.1\n",
       "petalo_largo_en_cm            1.4\n",
       "clase                 Iris-setosa\n",
       "Name: 0, dtype: object"
      ]
     },
     "execution_count": 86,
     "metadata": {},
     "output_type": "execute_result"
    }
   ],
   "source": [
    "# Seleccionamos primera fila, distintas columnas\n",
    "df.iloc[0,[0,2,4]]"
   ]
  },
  {
   "cell_type": "code",
   "execution_count": 87,
   "metadata": {},
   "outputs": [
    {
     "data": {
      "text/html": [
       "<div>\n",
       "<style scoped>\n",
       "    .dataframe tbody tr th:only-of-type {\n",
       "        vertical-align: middle;\n",
       "    }\n",
       "\n",
       "    .dataframe tbody tr th {\n",
       "        vertical-align: top;\n",
       "    }\n",
       "\n",
       "    .dataframe thead th {\n",
       "        text-align: right;\n",
       "    }\n",
       "</style>\n",
       "<table border=\"1\" class=\"dataframe\">\n",
       "  <thead>\n",
       "    <tr style=\"text-align: right;\">\n",
       "      <th></th>\n",
       "      <th>sepalo_largo_en_cm</th>\n",
       "      <th>sepalo_ancho_en_cm</th>\n",
       "      <th>petalo_largo_en_cm</th>\n",
       "    </tr>\n",
       "  </thead>\n",
       "  <tbody>\n",
       "    <tr>\n",
       "      <th>0</th>\n",
       "      <td>5.1</td>\n",
       "      <td>3.5</td>\n",
       "      <td>1.4</td>\n",
       "    </tr>\n",
       "    <tr>\n",
       "      <th>1</th>\n",
       "      <td>4.9</td>\n",
       "      <td>3.0</td>\n",
       "      <td>1.4</td>\n",
       "    </tr>\n",
       "    <tr>\n",
       "      <th>2</th>\n",
       "      <td>4.7</td>\n",
       "      <td>3.2</td>\n",
       "      <td>1.3</td>\n",
       "    </tr>\n",
       "  </tbody>\n",
       "</table>\n",
       "</div>"
      ],
      "text/plain": [
       "   sepalo_largo_en_cm  sepalo_ancho_en_cm  petalo_largo_en_cm\n",
       "0                 5.1                 3.5                 1.4\n",
       "1                 4.9                 3.0                 1.4\n",
       "2                 4.7                 3.2                 1.3"
      ]
     },
     "execution_count": 87,
     "metadata": {},
     "output_type": "execute_result"
    }
   ],
   "source": [
    "# Seleccionamos 3 primeras filas y 3 primeras columnas\n",
    "df.iloc[:3,:3]"
   ]
  },
  {
   "cell_type": "markdown",
   "metadata": {},
   "source": [
    "Se dejan ejemplos para `loc[]`. Al ser los índices numéricos y al estar ordenados, se comportará similar a `iloc[]`, sin emabrgo podemos ver que para seleccionar las columnas es necesario poner el nombre (además incluye el último termino del rango)."
   ]
  },
  {
   "cell_type": "code",
   "execution_count": 88,
   "metadata": {},
   "outputs": [
    {
     "data": {
      "text/html": [
       "<div>\n",
       "<style scoped>\n",
       "    .dataframe tbody tr th:only-of-type {\n",
       "        vertical-align: middle;\n",
       "    }\n",
       "\n",
       "    .dataframe tbody tr th {\n",
       "        vertical-align: top;\n",
       "    }\n",
       "\n",
       "    .dataframe thead th {\n",
       "        text-align: right;\n",
       "    }\n",
       "</style>\n",
       "<table border=\"1\" class=\"dataframe\">\n",
       "  <thead>\n",
       "    <tr style=\"text-align: right;\">\n",
       "      <th></th>\n",
       "      <th>sepalo_largo_en_cm</th>\n",
       "      <th>sepalo_ancho_en_cm</th>\n",
       "      <th>petalo_largo_en_cm</th>\n",
       "      <th>petalo_ancho_en_cm</th>\n",
       "      <th>clase</th>\n",
       "    </tr>\n",
       "  </thead>\n",
       "  <tbody>\n",
       "    <tr>\n",
       "      <th>0</th>\n",
       "      <td>5.1</td>\n",
       "      <td>3.5</td>\n",
       "      <td>1.4</td>\n",
       "      <td>0.2</td>\n",
       "      <td>Iris-setosa</td>\n",
       "    </tr>\n",
       "    <tr>\n",
       "      <th>1</th>\n",
       "      <td>4.9</td>\n",
       "      <td>3.0</td>\n",
       "      <td>1.4</td>\n",
       "      <td>0.2</td>\n",
       "      <td>Iris-setosa</td>\n",
       "    </tr>\n",
       "    <tr>\n",
       "      <th>2</th>\n",
       "      <td>4.7</td>\n",
       "      <td>3.2</td>\n",
       "      <td>1.3</td>\n",
       "      <td>0.2</td>\n",
       "      <td>Iris-setosa</td>\n",
       "    </tr>\n",
       "    <tr>\n",
       "      <th>3</th>\n",
       "      <td>4.6</td>\n",
       "      <td>3.1</td>\n",
       "      <td>1.5</td>\n",
       "      <td>0.2</td>\n",
       "      <td>Iris-setosa</td>\n",
       "    </tr>\n",
       "  </tbody>\n",
       "</table>\n",
       "</div>"
      ],
      "text/plain": [
       "   sepalo_largo_en_cm  sepalo_ancho_en_cm  petalo_largo_en_cm  \\\n",
       "0                 5.1                 3.5                 1.4   \n",
       "1                 4.9                 3.0                 1.4   \n",
       "2                 4.7                 3.2                 1.3   \n",
       "3                 4.6                 3.1                 1.5   \n",
       "\n",
       "   petalo_ancho_en_cm        clase  \n",
       "0                 0.2  Iris-setosa  \n",
       "1                 0.2  Iris-setosa  \n",
       "2                 0.2  Iris-setosa  \n",
       "3                 0.2  Iris-setosa  "
      ]
     },
     "execution_count": 88,
     "metadata": {},
     "output_type": "execute_result"
    }
   ],
   "source": [
    "# Incluye la fila con el índice 3\n",
    "df.loc[:3]"
   ]
  },
  {
   "cell_type": "code",
   "execution_count": 89,
   "metadata": {},
   "outputs": [
    {
     "data": {
      "text/html": [
       "<div>\n",
       "<style scoped>\n",
       "    .dataframe tbody tr th:only-of-type {\n",
       "        vertical-align: middle;\n",
       "    }\n",
       "\n",
       "    .dataframe tbody tr th {\n",
       "        vertical-align: top;\n",
       "    }\n",
       "\n",
       "    .dataframe thead th {\n",
       "        text-align: right;\n",
       "    }\n",
       "</style>\n",
       "<table border=\"1\" class=\"dataframe\">\n",
       "  <thead>\n",
       "    <tr style=\"text-align: right;\">\n",
       "      <th></th>\n",
       "      <th>clase</th>\n",
       "      <th>sepalo_largo_en_cm</th>\n",
       "      <th>petalo_ancho_en_cm</th>\n",
       "    </tr>\n",
       "  </thead>\n",
       "  <tbody>\n",
       "    <tr>\n",
       "      <th>0</th>\n",
       "      <td>Iris-setosa</td>\n",
       "      <td>5.1</td>\n",
       "      <td>0.2</td>\n",
       "    </tr>\n",
       "    <tr>\n",
       "      <th>1</th>\n",
       "      <td>Iris-setosa</td>\n",
       "      <td>4.9</td>\n",
       "      <td>0.2</td>\n",
       "    </tr>\n",
       "    <tr>\n",
       "      <th>2</th>\n",
       "      <td>Iris-setosa</td>\n",
       "      <td>4.7</td>\n",
       "      <td>0.2</td>\n",
       "    </tr>\n",
       "    <tr>\n",
       "      <th>3</th>\n",
       "      <td>Iris-setosa</td>\n",
       "      <td>4.6</td>\n",
       "      <td>0.2</td>\n",
       "    </tr>\n",
       "  </tbody>\n",
       "</table>\n",
       "</div>"
      ],
      "text/plain": [
       "         clase  sepalo_largo_en_cm  petalo_ancho_en_cm\n",
       "0  Iris-setosa                 5.1                 0.2\n",
       "1  Iris-setosa                 4.9                 0.2\n",
       "2  Iris-setosa                 4.7                 0.2\n",
       "3  Iris-setosa                 4.6                 0.2"
      ]
     },
     "execution_count": 89,
     "metadata": {},
     "output_type": "execute_result"
    }
   ],
   "source": [
    "# Seleccionamos las columnas en el orden que nosotros especificamos ya que se realiza la busqueda por etiqueta y no posicioón\n",
    "df.loc[:3, ['clase', 'sepalo_largo_en_cm', 'petalo_ancho_en_cm']]"
   ]
  },
  {
   "cell_type": "markdown",
   "metadata": {},
   "source": [
    "Una herramienta poderosa que se puede utilizar con `loc[]`, es que podemos hacer búsquedas condicionales. Es decir, recuperar datos que cumplan con algún tipo de criterio planteado a través de una condición. Por ejemplo, digamos que queremos recuperar las flores que tengan un pétalo más largo que 1.4 [cm]."
   ]
  },
  {
   "cell_type": "markdown",
   "metadata": {},
   "source": [
    "Primero, tenemos que entender que su le plantemos un condicional a alguna columna dentro del dataset, se retornará una `Series` que contendrá los valores booleanos de cada fila con respecto a la condición que escribimos."
   ]
  },
  {
   "cell_type": "code",
   "execution_count": 90,
   "metadata": {},
   "outputs": [
    {
     "data": {
      "text/plain": [
       "0      False\n",
       "1      False\n",
       "2      False\n",
       "3       True\n",
       "4      False\n",
       "       ...  \n",
       "145     True\n",
       "146     True\n",
       "147     True\n",
       "148     True\n",
       "149     True\n",
       "Name: petalo_largo_en_cm, Length: 150, dtype: bool"
      ]
     },
     "execution_count": 90,
     "metadata": {},
     "output_type": "execute_result"
    }
   ],
   "source": [
    "# Preguntemos el ejemplo anterior\n",
    "df['petalo_largo_en_cm'] > 1.4"
   ]
  },
  {
   "cell_type": "markdown",
   "metadata": {},
   "source": [
    "Entonces podemos utilizar este resultado junto a `loc[]` para filtrar estas etiquetas. "
   ]
  },
  {
   "cell_type": "code",
   "execution_count": 91,
   "metadata": {},
   "outputs": [
    {
     "data": {
      "text/html": [
       "<div>\n",
       "<style scoped>\n",
       "    .dataframe tbody tr th:only-of-type {\n",
       "        vertical-align: middle;\n",
       "    }\n",
       "\n",
       "    .dataframe tbody tr th {\n",
       "        vertical-align: top;\n",
       "    }\n",
       "\n",
       "    .dataframe thead th {\n",
       "        text-align: right;\n",
       "    }\n",
       "</style>\n",
       "<table border=\"1\" class=\"dataframe\">\n",
       "  <thead>\n",
       "    <tr style=\"text-align: right;\">\n",
       "      <th></th>\n",
       "      <th>sepalo_largo_en_cm</th>\n",
       "      <th>sepalo_ancho_en_cm</th>\n",
       "      <th>petalo_largo_en_cm</th>\n",
       "      <th>petalo_ancho_en_cm</th>\n",
       "      <th>clase</th>\n",
       "    </tr>\n",
       "  </thead>\n",
       "  <tbody>\n",
       "    <tr>\n",
       "      <th>3</th>\n",
       "      <td>4.6</td>\n",
       "      <td>3.1</td>\n",
       "      <td>1.5</td>\n",
       "      <td>0.2</td>\n",
       "      <td>Iris-setosa</td>\n",
       "    </tr>\n",
       "    <tr>\n",
       "      <th>5</th>\n",
       "      <td>5.4</td>\n",
       "      <td>3.9</td>\n",
       "      <td>1.7</td>\n",
       "      <td>0.4</td>\n",
       "      <td>Iris-setosa</td>\n",
       "    </tr>\n",
       "    <tr>\n",
       "      <th>7</th>\n",
       "      <td>5.0</td>\n",
       "      <td>3.4</td>\n",
       "      <td>1.5</td>\n",
       "      <td>0.2</td>\n",
       "      <td>Iris-setosa</td>\n",
       "    </tr>\n",
       "    <tr>\n",
       "      <th>9</th>\n",
       "      <td>4.9</td>\n",
       "      <td>3.1</td>\n",
       "      <td>1.5</td>\n",
       "      <td>0.1</td>\n",
       "      <td>Iris-setosa</td>\n",
       "    </tr>\n",
       "    <tr>\n",
       "      <th>10</th>\n",
       "      <td>5.4</td>\n",
       "      <td>3.7</td>\n",
       "      <td>1.5</td>\n",
       "      <td>0.2</td>\n",
       "      <td>Iris-setosa</td>\n",
       "    </tr>\n",
       "    <tr>\n",
       "      <th>...</th>\n",
       "      <td>...</td>\n",
       "      <td>...</td>\n",
       "      <td>...</td>\n",
       "      <td>...</td>\n",
       "      <td>...</td>\n",
       "    </tr>\n",
       "    <tr>\n",
       "      <th>145</th>\n",
       "      <td>6.7</td>\n",
       "      <td>3.0</td>\n",
       "      <td>5.2</td>\n",
       "      <td>2.3</td>\n",
       "      <td>Iris-virginica</td>\n",
       "    </tr>\n",
       "    <tr>\n",
       "      <th>146</th>\n",
       "      <td>6.3</td>\n",
       "      <td>2.5</td>\n",
       "      <td>5.0</td>\n",
       "      <td>1.9</td>\n",
       "      <td>Iris-virginica</td>\n",
       "    </tr>\n",
       "    <tr>\n",
       "      <th>147</th>\n",
       "      <td>6.5</td>\n",
       "      <td>3.0</td>\n",
       "      <td>5.2</td>\n",
       "      <td>2.0</td>\n",
       "      <td>Iris-virginica</td>\n",
       "    </tr>\n",
       "    <tr>\n",
       "      <th>148</th>\n",
       "      <td>6.2</td>\n",
       "      <td>3.4</td>\n",
       "      <td>5.4</td>\n",
       "      <td>2.3</td>\n",
       "      <td>Iris-virginica</td>\n",
       "    </tr>\n",
       "    <tr>\n",
       "      <th>149</th>\n",
       "      <td>5.9</td>\n",
       "      <td>3.0</td>\n",
       "      <td>5.1</td>\n",
       "      <td>1.8</td>\n",
       "      <td>Iris-virginica</td>\n",
       "    </tr>\n",
       "  </tbody>\n",
       "</table>\n",
       "<p>127 rows × 5 columns</p>\n",
       "</div>"
      ],
      "text/plain": [
       "     sepalo_largo_en_cm  sepalo_ancho_en_cm  petalo_largo_en_cm  \\\n",
       "3                   4.6                 3.1                 1.5   \n",
       "5                   5.4                 3.9                 1.7   \n",
       "7                   5.0                 3.4                 1.5   \n",
       "9                   4.9                 3.1                 1.5   \n",
       "10                  5.4                 3.7                 1.5   \n",
       "..                  ...                 ...                 ...   \n",
       "145                 6.7                 3.0                 5.2   \n",
       "146                 6.3                 2.5                 5.0   \n",
       "147                 6.5                 3.0                 5.2   \n",
       "148                 6.2                 3.4                 5.4   \n",
       "149                 5.9                 3.0                 5.1   \n",
       "\n",
       "     petalo_ancho_en_cm           clase  \n",
       "3                   0.2     Iris-setosa  \n",
       "5                   0.4     Iris-setosa  \n",
       "7                   0.2     Iris-setosa  \n",
       "9                   0.1     Iris-setosa  \n",
       "10                  0.2     Iris-setosa  \n",
       "..                  ...             ...  \n",
       "145                 2.3  Iris-virginica  \n",
       "146                 1.9  Iris-virginica  \n",
       "147                 2.0  Iris-virginica  \n",
       "148                 2.3  Iris-virginica  \n",
       "149                 1.8  Iris-virginica  \n",
       "\n",
       "[127 rows x 5 columns]"
      ]
     },
     "execution_count": 91,
     "metadata": {},
     "output_type": "execute_result"
    }
   ],
   "source": [
    "df.loc[df['petalo_largo_en_cm'] > 1.4]"
   ]
  },
  {
   "cell_type": "markdown",
   "metadata": {},
   "source": [
    "Y si queremos filtrar además por clase de iris, utilizando los operadores booleanos de Python podemos realizar esta tarea."
   ]
  },
  {
   "cell_type": "code",
   "execution_count": 92,
   "metadata": {},
   "outputs": [
    {
     "data": {
      "text/html": [
       "<div>\n",
       "<style scoped>\n",
       "    .dataframe tbody tr th:only-of-type {\n",
       "        vertical-align: middle;\n",
       "    }\n",
       "\n",
       "    .dataframe tbody tr th {\n",
       "        vertical-align: top;\n",
       "    }\n",
       "\n",
       "    .dataframe thead th {\n",
       "        text-align: right;\n",
       "    }\n",
       "</style>\n",
       "<table border=\"1\" class=\"dataframe\">\n",
       "  <thead>\n",
       "    <tr style=\"text-align: right;\">\n",
       "      <th></th>\n",
       "      <th>sepalo_largo_en_cm</th>\n",
       "      <th>sepalo_ancho_en_cm</th>\n",
       "      <th>petalo_largo_en_cm</th>\n",
       "      <th>petalo_ancho_en_cm</th>\n",
       "      <th>clase</th>\n",
       "    </tr>\n",
       "  </thead>\n",
       "  <tbody>\n",
       "    <tr>\n",
       "      <th>3</th>\n",
       "      <td>4.6</td>\n",
       "      <td>3.1</td>\n",
       "      <td>1.5</td>\n",
       "      <td>0.2</td>\n",
       "      <td>Iris-setosa</td>\n",
       "    </tr>\n",
       "    <tr>\n",
       "      <th>5</th>\n",
       "      <td>5.4</td>\n",
       "      <td>3.9</td>\n",
       "      <td>1.7</td>\n",
       "      <td>0.4</td>\n",
       "      <td>Iris-setosa</td>\n",
       "    </tr>\n",
       "    <tr>\n",
       "      <th>7</th>\n",
       "      <td>5.0</td>\n",
       "      <td>3.4</td>\n",
       "      <td>1.5</td>\n",
       "      <td>0.2</td>\n",
       "      <td>Iris-setosa</td>\n",
       "    </tr>\n",
       "    <tr>\n",
       "      <th>9</th>\n",
       "      <td>4.9</td>\n",
       "      <td>3.1</td>\n",
       "      <td>1.5</td>\n",
       "      <td>0.1</td>\n",
       "      <td>Iris-setosa</td>\n",
       "    </tr>\n",
       "    <tr>\n",
       "      <th>10</th>\n",
       "      <td>5.4</td>\n",
       "      <td>3.7</td>\n",
       "      <td>1.5</td>\n",
       "      <td>0.2</td>\n",
       "      <td>Iris-setosa</td>\n",
       "    </tr>\n",
       "  </tbody>\n",
       "</table>\n",
       "</div>"
      ],
      "text/plain": [
       "    sepalo_largo_en_cm  sepalo_ancho_en_cm  petalo_largo_en_cm  \\\n",
       "3                  4.6                 3.1                 1.5   \n",
       "5                  5.4                 3.9                 1.7   \n",
       "7                  5.0                 3.4                 1.5   \n",
       "9                  4.9                 3.1                 1.5   \n",
       "10                 5.4                 3.7                 1.5   \n",
       "\n",
       "    petalo_ancho_en_cm        clase  \n",
       "3                  0.2  Iris-setosa  \n",
       "5                  0.4  Iris-setosa  \n",
       "7                  0.2  Iris-setosa  \n",
       "9                  0.1  Iris-setosa  \n",
       "10                 0.2  Iris-setosa  "
      ]
     },
     "execution_count": 92,
     "metadata": {},
     "output_type": "execute_result"
    }
   ],
   "source": [
    "# Mostraremos solo las 5 primeras filas para disminuir el tamaño de la tabla (utilizamos [:5])\n",
    "df.loc[ (df['petalo_largo_en_cm'] > 1.4) & (df['clase'] == 'Iris-setosa')][:5]"
   ]
  },
  {
   "cell_type": "markdown",
   "metadata": {},
   "source": [
    "Para añadir columnas y datos dentro de un DataFrame es sencillo. Para agregar una columna, basta con crear el nombre de la columna y agregarle un valor. Para ejemplificar vamos a agregar una nueva fila con valores `NaN`. Existen una gran variedad de métodos que permiten manipular, encontrar, reemplazar estos valores, pero se les dejará a tarea a ustedes de buscarlos.  "
   ]
  },
  {
   "cell_type": "code",
   "execution_count": 93,
   "metadata": {},
   "outputs": [
    {
     "data": {
      "text/plain": [
       "0     NaN\n",
       "1     NaN\n",
       "2     NaN\n",
       "3     NaN\n",
       "4     NaN\n",
       "       ..\n",
       "145   NaN\n",
       "146   NaN\n",
       "147   NaN\n",
       "148   NaN\n",
       "149   NaN\n",
       "Name: color_flor, Length: 150, dtype: float64"
      ]
     },
     "execution_count": 93,
     "metadata": {},
     "output_type": "execute_result"
    }
   ],
   "source": [
    "# Primero debemos cargar Numpy para poder utilizar NaN\n",
    "# import numpy as np\n",
    "\n",
    "df['color_flor'] = np.nan\n",
    "\n",
    "df['color_flor']"
   ]
  },
  {
   "cell_type": "markdown",
   "metadata": {},
   "source": [
    "<div id='extra-pd'>\n",
    "\n",
    "### Extras\n",
    "\n",
    "Pandas posee un sin fin de herramientas que hacen nuestra vida más fácil, pero son tantas que es complejo recopilarlas todas en un solo lugar, es por esto que cerraremos con esta introducción a esta librería con algunas herramientas que son útiles en el día a día. Queda un mundo completo por explorar, es por eso que les recomendamos seguir investigando sobre esta poderosa librería.  \n",
    "\n"
   ]
  },
  {
   "cell_type": "markdown",
   "metadata": {},
   "source": [
    "Algunas de las funcionalidades que vale la pena mencionar son los `maps`, los `groupby` y los `sort`."
   ]
  },
  {
   "cell_type": "markdown",
   "metadata": {},
   "source": [
    "Los conocidos **maps** son terminos matemáticos que se recogen del cálculo lambda y se utilizan para la programación funcional. Para nuestro interés, estos nos ayudarán a transformar los datos dentro del DataFrame a nuestro antojo.\n",
    "\n",
    "Tenemos dos opciones para hacerlo, donde ninguna modificará nuestro DataFrame original; la primera, utiliza el método `map()` el cual, normalmente, recibe de argumento una función `lambda`, la cual será la encargada de transformar los datos seleccionados (sólo puede acceder a una columna). Este método retorna una nueva `Series` con todos los datos transformados por la función."
   ]
  },
  {
   "cell_type": "code",
   "execution_count": 94,
   "metadata": {},
   "outputs": [
    {
     "data": {
      "text/plain": [
       "0      12.25\n",
       "1       9.00\n",
       "2      10.24\n",
       "3       9.61\n",
       "4      12.96\n",
       "       ...  \n",
       "145     9.00\n",
       "146     6.25\n",
       "147     9.00\n",
       "148    11.56\n",
       "149     9.00\n",
       "Name: sepalo_ancho_en_cm, Length: 150, dtype: float64"
      ]
     },
     "execution_count": 94,
     "metadata": {},
     "output_type": "execute_result"
    }
   ],
   "source": [
    "# Elevaremos al cuadrado los valores de la columna 'sepalo_ancho_en_cm'\n",
    "\n",
    "df['sepalo_ancho_en_cm'].map(lambda s: s**2)"
   ]
  },
  {
   "cell_type": "code",
   "execution_count": 95,
   "metadata": {},
   "outputs": [
    {
     "data": {
      "text/plain": [
       "0      3.5\n",
       "1      3.0\n",
       "2      3.2\n",
       "3      3.1\n",
       "4      3.6\n",
       "      ... \n",
       "145    3.0\n",
       "146    2.5\n",
       "147    3.0\n",
       "148    3.4\n",
       "149    3.0\n",
       "Name: sepalo_ancho_en_cm, Length: 150, dtype: float64"
      ]
     },
     "execution_count": 95,
     "metadata": {},
     "output_type": "execute_result"
    }
   ],
   "source": [
    "# Recordemos los valores de la columna 'sepalo_ancho_en_cm'. Estos no se vieron afectados por el map\n",
    "\n",
    "df['sepalo_ancho_en_cm']"
   ]
  },
  {
   "cell_type": "markdown",
   "metadata": {},
   "source": [
    "Otra manera de realizar un mapeo es mediante `apply()`. La diferencia al método anterior es que este método es capaz de modificar el DataFrame completo, es decir, puede acceder a todas sus columnas."
   ]
  },
  {
   "cell_type": "code",
   "execution_count": 96,
   "metadata": {},
   "outputs": [
    {
     "data": {
      "text/html": [
       "<div>\n",
       "<style scoped>\n",
       "    .dataframe tbody tr th:only-of-type {\n",
       "        vertical-align: middle;\n",
       "    }\n",
       "\n",
       "    .dataframe tbody tr th {\n",
       "        vertical-align: top;\n",
       "    }\n",
       "\n",
       "    .dataframe thead th {\n",
       "        text-align: right;\n",
       "    }\n",
       "</style>\n",
       "<table border=\"1\" class=\"dataframe\">\n",
       "  <thead>\n",
       "    <tr style=\"text-align: right;\">\n",
       "      <th></th>\n",
       "      <th>sepalo_largo_en_cm</th>\n",
       "      <th>sepalo_ancho_en_cm</th>\n",
       "      <th>petalo_largo_en_cm</th>\n",
       "      <th>petalo_ancho_en_cm</th>\n",
       "      <th>clase</th>\n",
       "      <th>color_flor</th>\n",
       "    </tr>\n",
       "  </thead>\n",
       "  <tbody>\n",
       "    <tr>\n",
       "      <th>0</th>\n",
       "      <td>5.1</td>\n",
       "      <td>3.5</td>\n",
       "      <td>1.4</td>\n",
       "      <td>0.2</td>\n",
       "      <td>Iris-setosa</td>\n",
       "      <td>morado medio</td>\n",
       "    </tr>\n",
       "    <tr>\n",
       "      <th>1</th>\n",
       "      <td>4.9</td>\n",
       "      <td>3.0</td>\n",
       "      <td>1.4</td>\n",
       "      <td>0.2</td>\n",
       "      <td>Iris-setosa</td>\n",
       "      <td>morado medio</td>\n",
       "    </tr>\n",
       "    <tr>\n",
       "      <th>2</th>\n",
       "      <td>4.7</td>\n",
       "      <td>3.2</td>\n",
       "      <td>1.3</td>\n",
       "      <td>0.2</td>\n",
       "      <td>Iris-setosa</td>\n",
       "      <td>morado medio</td>\n",
       "    </tr>\n",
       "    <tr>\n",
       "      <th>3</th>\n",
       "      <td>4.6</td>\n",
       "      <td>3.1</td>\n",
       "      <td>1.5</td>\n",
       "      <td>0.2</td>\n",
       "      <td>Iris-setosa</td>\n",
       "      <td>morado medio</td>\n",
       "    </tr>\n",
       "    <tr>\n",
       "      <th>4</th>\n",
       "      <td>5.0</td>\n",
       "      <td>3.6</td>\n",
       "      <td>1.4</td>\n",
       "      <td>0.2</td>\n",
       "      <td>Iris-setosa</td>\n",
       "      <td>morado medio</td>\n",
       "    </tr>\n",
       "    <tr>\n",
       "      <th>...</th>\n",
       "      <td>...</td>\n",
       "      <td>...</td>\n",
       "      <td>...</td>\n",
       "      <td>...</td>\n",
       "      <td>...</td>\n",
       "      <td>...</td>\n",
       "    </tr>\n",
       "    <tr>\n",
       "      <th>145</th>\n",
       "      <td>6.7</td>\n",
       "      <td>3.0</td>\n",
       "      <td>5.2</td>\n",
       "      <td>2.3</td>\n",
       "      <td>Iris-virginica</td>\n",
       "      <td>morado oscuro</td>\n",
       "    </tr>\n",
       "    <tr>\n",
       "      <th>146</th>\n",
       "      <td>6.3</td>\n",
       "      <td>2.5</td>\n",
       "      <td>5.0</td>\n",
       "      <td>1.9</td>\n",
       "      <td>Iris-virginica</td>\n",
       "      <td>morado oscuro</td>\n",
       "    </tr>\n",
       "    <tr>\n",
       "      <th>147</th>\n",
       "      <td>6.5</td>\n",
       "      <td>3.0</td>\n",
       "      <td>5.2</td>\n",
       "      <td>2.0</td>\n",
       "      <td>Iris-virginica</td>\n",
       "      <td>morado oscuro</td>\n",
       "    </tr>\n",
       "    <tr>\n",
       "      <th>148</th>\n",
       "      <td>6.2</td>\n",
       "      <td>3.4</td>\n",
       "      <td>5.4</td>\n",
       "      <td>2.3</td>\n",
       "      <td>Iris-virginica</td>\n",
       "      <td>morado oscuro</td>\n",
       "    </tr>\n",
       "    <tr>\n",
       "      <th>149</th>\n",
       "      <td>5.9</td>\n",
       "      <td>3.0</td>\n",
       "      <td>5.1</td>\n",
       "      <td>1.8</td>\n",
       "      <td>Iris-virginica</td>\n",
       "      <td>morado oscuro</td>\n",
       "    </tr>\n",
       "  </tbody>\n",
       "</table>\n",
       "<p>150 rows × 6 columns</p>\n",
       "</div>"
      ],
      "text/plain": [
       "     sepalo_largo_en_cm  sepalo_ancho_en_cm  petalo_largo_en_cm  \\\n",
       "0                   5.1                 3.5                 1.4   \n",
       "1                   4.9                 3.0                 1.4   \n",
       "2                   4.7                 3.2                 1.3   \n",
       "3                   4.6                 3.1                 1.5   \n",
       "4                   5.0                 3.6                 1.4   \n",
       "..                  ...                 ...                 ...   \n",
       "145                 6.7                 3.0                 5.2   \n",
       "146                 6.3                 2.5                 5.0   \n",
       "147                 6.5                 3.0                 5.2   \n",
       "148                 6.2                 3.4                 5.4   \n",
       "149                 5.9                 3.0                 5.1   \n",
       "\n",
       "     petalo_ancho_en_cm           clase     color_flor  \n",
       "0                   0.2     Iris-setosa   morado medio  \n",
       "1                   0.2     Iris-setosa   morado medio  \n",
       "2                   0.2     Iris-setosa   morado medio  \n",
       "3                   0.2     Iris-setosa   morado medio  \n",
       "4                   0.2     Iris-setosa   morado medio  \n",
       "..                  ...             ...            ...  \n",
       "145                 2.3  Iris-virginica  morado oscuro  \n",
       "146                 1.9  Iris-virginica  morado oscuro  \n",
       "147                 2.0  Iris-virginica  morado oscuro  \n",
       "148                 2.3  Iris-virginica  morado oscuro  \n",
       "149                 1.8  Iris-virginica  morado oscuro  \n",
       "\n",
       "[150 rows x 6 columns]"
      ]
     },
     "execution_count": 96,
     "metadata": {},
     "output_type": "execute_result"
    }
   ],
   "source": [
    "# Utilizaremos apply para corregir la columna 'color', la cual la hemos dejado con valores NaN\n",
    "\n",
    "def definir_color(row):\n",
    "\n",
    "    if row.clase == 'Iris-setosa':\n",
    "        row.color_flor = 'morado medio'\n",
    "    elif row.clase == 'Iris-versicolor':\n",
    "        row.color_flor = 'morado claro'\n",
    "    else:\n",
    "        row.color_flor = 'morado oscuro'\n",
    "    return row\n",
    "\n",
    "df.apply(definir_color, axis='columns')"
   ]
  },
  {
   "cell_type": "markdown",
   "metadata": {},
   "source": [
    "Finalmente, terminaremos esta sección con dos herramientas muy utilizadas, las cuales son `groupby()` y `sort_values()`.\n",
    "\n",
    "El conocido `groupby()` es útil para dividir un DataFrame en grupos basados en una o más claves, realizar operaciones dentro de esos grupos, y combinar los resultados. Es fundamental para cualquier tipo de análisis exploratorio o de agregación en pandas. Por ejemplo, intentaremos encontrar el mínimo valor de cada clase de iris con respecto al ancho de su sépalo."
   ]
  },
  {
   "cell_type": "code",
   "execution_count": 99,
   "metadata": {},
   "outputs": [
    {
     "data": {
      "text/plain": [
       "clase\n",
       "Iris-setosa        2.3\n",
       "Iris-versicolor    2.0\n",
       "Iris-virginica     2.2\n",
       "Name: sepalo_ancho_en_cm, dtype: float64"
      ]
     },
     "execution_count": 99,
     "metadata": {},
     "output_type": "execute_result"
    }
   ],
   "source": [
    "# Ejemplo de utilización de groupby\n",
    "\n",
    "df.groupby('clase')['sepalo_ancho_en_cm'].min()"
   ]
  },
  {
   "cell_type": "markdown",
   "metadata": {},
   "source": [
    "Para finalizar nuestra pequeña presentación de Pandas veremos un uso de `sort`, lo cual ordena el DataFrame de manera ascendente o descendente según una o más columnas. Por ejemplo, lo ordenaremos de manera descendiente según el largo de los pétalos. Las funciones estadísticas se detallarán en `CH1-Estadística Descriptiva`"
   ]
  },
  {
   "cell_type": "code",
   "execution_count": 100,
   "metadata": {},
   "outputs": [
    {
     "data": {
      "text/html": [
       "<div>\n",
       "<style scoped>\n",
       "    .dataframe tbody tr th:only-of-type {\n",
       "        vertical-align: middle;\n",
       "    }\n",
       "\n",
       "    .dataframe tbody tr th {\n",
       "        vertical-align: top;\n",
       "    }\n",
       "\n",
       "    .dataframe thead th {\n",
       "        text-align: right;\n",
       "    }\n",
       "</style>\n",
       "<table border=\"1\" class=\"dataframe\">\n",
       "  <thead>\n",
       "    <tr style=\"text-align: right;\">\n",
       "      <th></th>\n",
       "      <th>sepalo_largo_en_cm</th>\n",
       "      <th>sepalo_ancho_en_cm</th>\n",
       "      <th>petalo_largo_en_cm</th>\n",
       "      <th>petalo_ancho_en_cm</th>\n",
       "      <th>clase</th>\n",
       "      <th>color_flor</th>\n",
       "    </tr>\n",
       "  </thead>\n",
       "  <tbody>\n",
       "    <tr>\n",
       "      <th>118</th>\n",
       "      <td>7.7</td>\n",
       "      <td>2.6</td>\n",
       "      <td>6.9</td>\n",
       "      <td>2.3</td>\n",
       "      <td>Iris-virginica</td>\n",
       "      <td>NaN</td>\n",
       "    </tr>\n",
       "    <tr>\n",
       "      <th>122</th>\n",
       "      <td>7.7</td>\n",
       "      <td>2.8</td>\n",
       "      <td>6.7</td>\n",
       "      <td>2.0</td>\n",
       "      <td>Iris-virginica</td>\n",
       "      <td>NaN</td>\n",
       "    </tr>\n",
       "    <tr>\n",
       "      <th>117</th>\n",
       "      <td>7.7</td>\n",
       "      <td>3.8</td>\n",
       "      <td>6.7</td>\n",
       "      <td>2.2</td>\n",
       "      <td>Iris-virginica</td>\n",
       "      <td>NaN</td>\n",
       "    </tr>\n",
       "    <tr>\n",
       "      <th>105</th>\n",
       "      <td>7.6</td>\n",
       "      <td>3.0</td>\n",
       "      <td>6.6</td>\n",
       "      <td>2.1</td>\n",
       "      <td>Iris-virginica</td>\n",
       "      <td>NaN</td>\n",
       "    </tr>\n",
       "    <tr>\n",
       "      <th>131</th>\n",
       "      <td>7.9</td>\n",
       "      <td>3.8</td>\n",
       "      <td>6.4</td>\n",
       "      <td>2.0</td>\n",
       "      <td>Iris-virginica</td>\n",
       "      <td>NaN</td>\n",
       "    </tr>\n",
       "    <tr>\n",
       "      <th>...</th>\n",
       "      <td>...</td>\n",
       "      <td>...</td>\n",
       "      <td>...</td>\n",
       "      <td>...</td>\n",
       "      <td>...</td>\n",
       "      <td>...</td>\n",
       "    </tr>\n",
       "    <tr>\n",
       "      <th>36</th>\n",
       "      <td>5.5</td>\n",
       "      <td>3.5</td>\n",
       "      <td>1.3</td>\n",
       "      <td>0.2</td>\n",
       "      <td>Iris-setosa</td>\n",
       "      <td>NaN</td>\n",
       "    </tr>\n",
       "    <tr>\n",
       "      <th>35</th>\n",
       "      <td>5.0</td>\n",
       "      <td>3.2</td>\n",
       "      <td>1.2</td>\n",
       "      <td>0.2</td>\n",
       "      <td>Iris-setosa</td>\n",
       "      <td>NaN</td>\n",
       "    </tr>\n",
       "    <tr>\n",
       "      <th>14</th>\n",
       "      <td>5.8</td>\n",
       "      <td>4.0</td>\n",
       "      <td>1.2</td>\n",
       "      <td>0.2</td>\n",
       "      <td>Iris-setosa</td>\n",
       "      <td>NaN</td>\n",
       "    </tr>\n",
       "    <tr>\n",
       "      <th>13</th>\n",
       "      <td>4.3</td>\n",
       "      <td>3.0</td>\n",
       "      <td>1.1</td>\n",
       "      <td>0.1</td>\n",
       "      <td>Iris-setosa</td>\n",
       "      <td>NaN</td>\n",
       "    </tr>\n",
       "    <tr>\n",
       "      <th>22</th>\n",
       "      <td>4.6</td>\n",
       "      <td>3.6</td>\n",
       "      <td>1.0</td>\n",
       "      <td>0.2</td>\n",
       "      <td>Iris-setosa</td>\n",
       "      <td>NaN</td>\n",
       "    </tr>\n",
       "  </tbody>\n",
       "</table>\n",
       "<p>150 rows × 6 columns</p>\n",
       "</div>"
      ],
      "text/plain": [
       "     sepalo_largo_en_cm  sepalo_ancho_en_cm  petalo_largo_en_cm  \\\n",
       "118                 7.7                 2.6                 6.9   \n",
       "122                 7.7                 2.8                 6.7   \n",
       "117                 7.7                 3.8                 6.7   \n",
       "105                 7.6                 3.0                 6.6   \n",
       "131                 7.9                 3.8                 6.4   \n",
       "..                  ...                 ...                 ...   \n",
       "36                  5.5                 3.5                 1.3   \n",
       "35                  5.0                 3.2                 1.2   \n",
       "14                  5.8                 4.0                 1.2   \n",
       "13                  4.3                 3.0                 1.1   \n",
       "22                  4.6                 3.6                 1.0   \n",
       "\n",
       "     petalo_ancho_en_cm           clase  color_flor  \n",
       "118                 2.3  Iris-virginica         NaN  \n",
       "122                 2.0  Iris-virginica         NaN  \n",
       "117                 2.2  Iris-virginica         NaN  \n",
       "105                 2.1  Iris-virginica         NaN  \n",
       "131                 2.0  Iris-virginica         NaN  \n",
       "..                  ...             ...         ...  \n",
       "36                  0.2     Iris-setosa         NaN  \n",
       "35                  0.2     Iris-setosa         NaN  \n",
       "14                  0.2     Iris-setosa         NaN  \n",
       "13                  0.1     Iris-setosa         NaN  \n",
       "22                  0.2     Iris-setosa         NaN  \n",
       "\n",
       "[150 rows x 6 columns]"
      ]
     },
     "execution_count": 100,
     "metadata": {},
     "output_type": "execute_result"
    }
   ],
   "source": [
    "# Ejemplo de utilización sort\n",
    "\n",
    "df.sort_values(by='petalo_largo_en_cm', ascending=False)"
   ]
  },
  {
   "cell_type": "markdown",
   "metadata": {},
   "source": [
    "<div id='numpy'>\n",
    "\n",
    "## NumPy\n",
    "\n",
    "**NumPy** es una librería fundamental para la computación científica en Python. Su nombre proviene de \"Numerical Python\" y es ampliamente utilizada para trabajar con arreglos multidimensionales (también llamados arrays) y realizar operaciones matemáticas y algebraicas sobre ellos de manera eficiente. NumPy es la base sobre la cual se construyen muchas otras librerías populares en el ecosistema de ciencia de datos y aprendizaje automático, como **Pandas, Matplotlib, y Scikit-learn.**\n",
    "\n",
    "Las cualidades de esta librería destacan por:\n",
    "\n",
    "* **Objeto ndarray:** El núcleo de NumPy es el objeto ndarray, que es una estructura de datos que permite almacenar y manipular matrices multidimensionales de manera eficiente. Poseen tratos distintos a las listas de Python.\n",
    "\n",
    "* **Operaciones Vectorizadas:** NumPy permite realizar operaciones aritméticas y matemáticas sobre arrays enteros de una manera *\"vectorizada\"*, lo que significa que puedes aplicar una operación a todos los elementos del array simultáneamente sin necesidad de usar bucles explícitos. Esto implica una mejora en el rendimiento, impactando en la velocidad del computo.\n",
    "\n",
    "* **Funciones Matemáticas:** NumPy incluye un amplio conjunto de funciones matemáticas, estadísticas y lógicas, que se pueden aplicar a arrays. Estas funciones están optimizadas para trabajar con grandes volúmenes de datos al utilizar la vectorización mencionada anteriormente.\n",
    "\n",
    "* **¡Entre muchas otras!**\n",
    "\n",
    "Comenzar a comprender la librería desde ya, le permitirá prepararse, en cierta medida, para el ramo de *Computación Científica*.\n",
    "\n",
    "Se recomienda dirigirse a la documentación oficial de Numpy para obtener más detalle sobre la librería: https://numpy.org/doc/stable/"
   ]
  },
  {
   "cell_type": "code",
   "execution_count": 1,
   "metadata": {},
   "outputs": [],
   "source": [
    "# Importamos Numpy - Debemos instalarlo con pip install numpy para poder utilizarlo en local.\n",
    "\n",
    "import numpy as np"
   ]
  },
  {
   "cell_type": "markdown",
   "metadata": {},
   "source": [
    "<div id='ndarray'>\n",
    "\n",
    "### Objetos ndarray\n",
    "\n",
    "Comenzaremos esta pequeña introducción con el objeto principal de NumPy, los `ndarray`. Estos objetos representan **\"N-dimensional array\"**, ya sean vectores (1D), matrices (2D), tensores (ND), etc. Generalmente, los arrays de NumPy se generan mediante listas de Python, pero estos pueden ser creados mediante cualquier secuencia, estos objetos son mutables, por lo que podemos modificar los valores que se guardan en el array. Los operadores de listas también son utilizados por Numpy, lo que hace que su curva de aprendizaje sea mucho más sencilla."
   ]
  },
  {
   "cell_type": "code",
   "execution_count": 4,
   "metadata": {},
   "outputs": [
    {
     "data": {
      "text/plain": [
       "array([1, 2, 3, 4, 5, 6, 7, 8])"
      ]
     },
     "execution_count": 4,
     "metadata": {},
     "output_type": "execute_result"
    }
   ],
   "source": [
    "# Instanciemos un ndarray de 1D (vector)\n",
    "\n",
    "v = np.array([1, 2, 3, 4, 5, 6, 7, 8])\n",
    "v"
   ]
  },
  {
   "cell_type": "code",
   "execution_count": 8,
   "metadata": {},
   "outputs": [
    {
     "name": "stdout",
     "output_type": "stream",
     "text": [
      "Indexar un solo elemento: 1\n",
      "Indexar un slice: [1 2 3 4]\n"
     ]
    }
   ],
   "source": [
    "# Métodos de indexing\n",
    "\n",
    "print(\"Indexar un solo elemento:\",v[0])\n",
    "\n",
    "print(\"Indexar un slice:\",v[:4])"
   ]
  },
  {
   "cell_type": "code",
   "execution_count": 10,
   "metadata": {},
   "outputs": [
    {
     "data": {
      "text/plain": [
       "array([[1, 2, 3],\n",
       "       [4, 5, 6],\n",
       "       [7, 8, 9]])"
      ]
     },
     "execution_count": 10,
     "metadata": {},
     "output_type": "execute_result"
    }
   ],
   "source": [
    "# Intanciar un ndarray 2D (matrix)\n",
    "\n",
    "mtx = np.array([[1, 2, 3], [4, 5, 6], [7, 8, 9]])\n",
    "mtx"
   ]
  },
  {
   "cell_type": "code",
   "execution_count": 14,
   "metadata": {},
   "outputs": [
    {
     "name": "stdout",
     "output_type": "stream",
     "text": [
      "Indexar posición (fila, columna): 3\n",
      "Indexar fila: [4 5 6]\n",
      "Indexar columna: [1 4 7]\n"
     ]
    }
   ],
   "source": [
    "# Indexar en matrices\n",
    "\n",
    "print(\"Indexar posición (fila, columna):\", mtx[0,2])\n",
    "\n",
    "print(\"Indexar fila:\", mtx[1,:])\n",
    "\n",
    "print(\"Indexar columna:\", mtx[:,0])"
   ]
  },
  {
   "cell_type": "markdown",
   "metadata": {},
   "source": [
    "Algunas opciones interesantes a conocer son otros constructores como: `np.zeros()`, `np.ones()`, `np.empty()`, `np.arange()` y `np.linspace()`.\n",
    "\n",
    "Estos objetos contienen operaciones más complejas para realizar ciertas tareas, ya que los array de tamaños fijos, por lo que los invitamos a investigar sobre métodos como `reshape()`, `concatenate()`, entre otros.  "
   ]
  },
  {
   "cell_type": "markdown",
   "metadata": {},
   "source": [
    "<div id='vectorize'>\n",
    "\n",
    "### Vectorización\n",
    "\n",
    "Otra herramienta útil a conocer sobre NumPy es su \"vectorización\". La idea es aplicar operaciones sobre arrays de manera que no sea necesario iterar explícitamente sobre sus elementos. Podemos vectorizar operaciones matemáticas, aplicaciones de funciones, etc."
   ]
  },
  {
   "cell_type": "code",
   "execution_count": 20,
   "metadata": {},
   "outputs": [
    {
     "data": {
      "text/plain": [
       "array([2., 3., 4., 5., 6.])"
      ]
     },
     "execution_count": 20,
     "metadata": {},
     "output_type": "execute_result"
    }
   ],
   "source": [
    "#Ejemplos de vectorizaciones\n",
    "\n",
    "a = np.array([1, 2, 3, 4, 5])\n",
    "b = np.ones(5) #array unidimensional (5 elementos) de 1's\n",
    "\n",
    "a+b"
   ]
  },
  {
   "cell_type": "code",
   "execution_count": 21,
   "metadata": {},
   "outputs": [
    {
     "data": {
      "text/plain": [
       "array([10., 10., 10., 10., 10.])"
      ]
     },
     "execution_count": 21,
     "metadata": {},
     "output_type": "execute_result"
    }
   ],
   "source": [
    "b*10"
   ]
  },
  {
   "cell_type": "code",
   "execution_count": 22,
   "metadata": {},
   "outputs": [
    {
     "data": {
      "text/plain": [
       "array([0., 1., 2., 3., 4.])"
      ]
     },
     "execution_count": 22,
     "metadata": {},
     "output_type": "execute_result"
    }
   ],
   "source": [
    "a-b"
   ]
  },
  {
   "cell_type": "code",
   "execution_count": 25,
   "metadata": {},
   "outputs": [
    {
     "data": {
      "text/plain": [
       "15.0"
      ]
     },
     "execution_count": 25,
     "metadata": {},
     "output_type": "execute_result"
    }
   ],
   "source": [
    "# Podemos realizar producto punto - Investigue sobre producto matriz-matriz, matrix-vector.\n",
    "\n",
    "np.dot(a,b)"
   ]
  },
  {
   "cell_type": "markdown",
   "metadata": {},
   "source": [
    "Podemos utilizar las distintas funciones matemáticas que posee NumPy. ¡Existen muchas más!"
   ]
  },
  {
   "cell_type": "code",
   "execution_count": 27,
   "metadata": {},
   "outputs": [
    {
     "data": {
      "text/plain": [
       "array([1.        , 1.41421356, 1.73205081, 2.        , 2.23606798])"
      ]
     },
     "execution_count": 27,
     "metadata": {},
     "output_type": "execute_result"
    }
   ],
   "source": [
    "np.sqrt(a)"
   ]
  },
  {
   "cell_type": "code",
   "execution_count": 23,
   "metadata": {},
   "outputs": [
    {
     "data": {
      "text/plain": [
       "array([0.        , 0.69314718, 1.09861229, 1.38629436, 1.60943791])"
      ]
     },
     "execution_count": 23,
     "metadata": {},
     "output_type": "execute_result"
    }
   ],
   "source": [
    "np.log(a)"
   ]
  },
  {
   "cell_type": "code",
   "execution_count": 24,
   "metadata": {},
   "outputs": [
    {
     "data": {
      "text/plain": [
       "array([  2.71828183,   7.3890561 ,  20.08553692,  54.59815003,\n",
       "       148.4131591 ])"
      ]
     },
     "execution_count": 24,
     "metadata": {},
     "output_type": "execute_result"
    }
   ],
   "source": [
    "np.exp(a)"
   ]
  },
  {
   "cell_type": "code",
   "execution_count": 26,
   "metadata": {},
   "outputs": [
    {
     "data": {
      "text/plain": [
       "array([  1,  16,  81, 256, 625])"
      ]
     },
     "execution_count": 26,
     "metadata": {},
     "output_type": "execute_result"
    }
   ],
   "source": [
    "np.power(a,4)"
   ]
  },
  {
   "cell_type": "markdown",
   "metadata": {},
   "source": [
    "¿Qué podemos hacer si no tenemos la función implementada por NumPy? Podemos crear nuestra función y vectorizarla para realizar estas operaciones. Para operaciones más complejas, investigue `np.vectorize()`."
   ]
  },
  {
   "cell_type": "code",
   "execution_count": 28,
   "metadata": {},
   "outputs": [
    {
     "data": {
      "text/plain": [
       "array([ 0.25      ,  3.08578644,  8.01794919, 15.        , 24.01393202])"
      ]
     },
     "execution_count": 28,
     "metadata": {},
     "output_type": "execute_result"
    }
   ],
   "source": [
    "f = lambda x: (1/4)*x + x**2 - np.sqrt(x)\n",
    "\n",
    "f(a)"
   ]
  },
  {
   "cell_type": "markdown",
   "metadata": {},
   "source": [
    "<div id='random'>\n",
    "\n",
    "### Números Aleatorios\n",
    "\n",
    "Los números aleatorios son implementados como *números pseudo-aleatorios repetibles*. Veremos con más detalle la utilización de estos en el `CH4-Generación de VA`, pero por el momento veremos algunos conceptos básicos sobre su uso."
   ]
  },
  {
   "cell_type": "markdown",
   "metadata": {},
   "source": [
    "La reproducibilidad es un concepto importantísimo, el cual en vagas palabras, nos permite setear los algoritmos para que vuelvan a producir los mismos números aleatorios con el fin de que otra persona pueda reproducir nuestros resultados. En esta pequeña sección mostraremos como generar arrays aleatorios. Más adelante hablaremos en profundidad sobre las buenas prácticas en relación a este tema y las herramientas disponibles con `np.random`."
   ]
  },
  {
   "cell_type": "code",
   "execution_count": 46,
   "metadata": {},
   "outputs": [
    {
     "data": {
      "text/plain": [
       "array([4, 3, 4, 4, 8, 4, 3, 7, 5, 5])"
      ]
     },
     "execution_count": 46,
     "metadata": {},
     "output_type": "execute_result"
    }
   ],
   "source": [
    "# Creando un vector aleatorio de números enteros (entre 0 y 10)\n",
    "\n",
    "np.random.randint(low=0,high=10, size=10)"
   ]
  },
  {
   "cell_type": "code",
   "execution_count": 47,
   "metadata": {},
   "outputs": [
    {
     "data": {
      "text/plain": [
       "array([[0.31720174, 0.77834548, 0.94957105],\n",
       "       [0.66252687, 0.01357164, 0.6228461 ],\n",
       "       [0.67365963, 0.971945  , 0.87819347]])"
      ]
     },
     "execution_count": 47,
     "metadata": {},
     "output_type": "execute_result"
    }
   ],
   "source": [
    "# Creando una matriz aleatoria\n",
    "\n",
    "np.random.random(size=(3,3))"
   ]
  },
  {
   "cell_type": "markdown",
   "metadata": {},
   "source": [
    "<div id='hist'>\n",
    "\n",
    "# Historial de Versiones \n",
    "\n",
    "* **Versión v0.03:** Primera versión del material: Introducción a Pandas y Numpy. - *25 de Agosto del 2024*. "
   ]
  }
 ],
 "metadata": {
  "kernelspec": {
   "display_name": "venv-lec",
   "language": "python",
   "name": "python3"
  },
  "language_info": {
   "codemirror_mode": {
    "name": "ipython",
    "version": 3
   },
   "file_extension": ".py",
   "mimetype": "text/x-python",
   "name": "python",
   "nbconvert_exporter": "python",
   "pygments_lexer": "ipython3",
   "version": "3.8.10"
  }
 },
 "nbformat": 4,
 "nbformat_minor": 2
}
