{
 "cells": [
  {
   "cell_type": "markdown",
   "metadata": {},
   "source": [
    "<center>\n",
    "    <img src=\"http://sct.inf.utfsm.cl/wp-content/uploads/2020/04/logo_di.png\" style=\"width:60%\">\n",
    "    <h1> INF280 - Estadística Computacional </h1>\n",
    "    <h2> Visualización de Datos </h2>\n",
    "    <h2> Version: 0.01 </h2>\n",
    "    <h2> Ay. Nicolás Armijo Calquín </h2> \n",
    "</center>"
   ]
  },
  {
   "cell_type": "markdown",
   "metadata": {},
   "source": [
    "<div id='toc'>\n",
    "\n",
    "## Tabla de Contenidos\n",
    "\n",
    "* [Introducción](#intro)"
   ]
  },
  {
   "cell_type": "markdown",
   "metadata": {},
   "source": [
    "<div id='intro'>\n",
    "\n",
    "## Introducción\n",
    "\n",
    "Visualización de Datos utilizando Python."
   ]
  },
  {
   "cell_type": "code",
   "execution_count": null,
   "metadata": {},
   "outputs": [],
   "source": []
  }
 ],
 "metadata": {
  "language_info": {
   "name": "python"
  }
 },
 "nbformat": 4,
 "nbformat_minor": 2
}
