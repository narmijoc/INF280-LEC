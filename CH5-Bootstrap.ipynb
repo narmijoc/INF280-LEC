{
 "cells": [
  {
   "cell_type": "markdown",
   "metadata": {},
   "source": [
    "<center>\n",
    "    <img src=\"http://sct.inf.utfsm.cl/wp-content/uploads/2020/04/logo_di.png\" style=\"width:60%\">\n",
    "    <h1> INF280 - Estadística Computacional </h1>\n",
    "    <h2> Bootstrap </h2>\n",
    "    <h2> Version: 0.01 </h2>\n",
    "    <h2> Ay. Nicolás Armijo Calquín </h2> \n",
    "    <h2> Ay. Eva Wang Liu </h2>\n",
    "</center>"
   ]
  },
  {
   "cell_type": "markdown",
   "metadata": {},
   "source": [
    "<div id='toc'>\n",
    "\n",
    "## Tabla de Contenidos\n",
    "\n",
    "* [Introducción](#intro)\n",
    "* [Bootstrap](#bootstrap)\n",
    "    * [Paso 1: Identificar los datos](#bootstrap_paso1)\n",
    "    * [Paso 2: Generar una muestra Bootstrap](#bootstrap_paso2)\n",
    "    * [Paso 3: Calcular el estadístico de interés de la muestra Bootstrap](#bootstrap_paso3)\n",
    "    * [Paso 4: Generar la distribución Bootstrap repitiendo los pasos 2 y 3](#bootstrap_paso4)\n",
    "    * [Paso 5: Estimar el estadístico de interés](#bootstrap_paso5)\n",
    "* [Intervalos de confianza](#intervalos_confianza)\n",
    "* [Historial de versiones](#hist)"
   ]
  },
  {
   "cell_type": "markdown",
   "metadata": {},
   "source": [
    "<div id='intro'>\n",
    "\n",
    "## Introducción\n",
    "\n",
    "Cuando intentamos hacer inferencias a partir de un conjunto de datos, nos encontramos con el desafío de que las distribuciones de probabilidad pueden ser complejas o no seguir una forma estándar. De esta forma, el método de estimación Bootstrap se presenta como una herramienta estadística que permite estimar la distribución de un estadístico sin necesidad de hacer suposiciones sobre la distribución del conjunto de datos.\n",
    "\n",
    "En términos sencillos, el método Bootstrap consiste en crear múltiples muestras del conjunto de datos original mediante remuestreo con reemplazo y calcular el estadístico de interés para cada muestra generada. Al analizar la distribución de los estadísticos, podemos obtener estimaciones más precisas y robustas, como intervalos de confianza, sin depender de supuestos.\n",
    "\n",
    "En el presente Jupyter Notebook exploraremos la aplicación del método Bootstrap utilizando las librerías NumPy y Pandas de Python para estimar estadísticos relevantes. También veremos cómo construir intervalos de confianza y evaluar la precisión de nuestro estimador.\n",
    "\n",
    "Antes de partir, importaremos las librerías que complementarán nuestro trabajo:"
   ]
  },
  {
   "cell_type": "code",
   "execution_count": 1,
   "metadata": {},
   "outputs": [],
   "source": [
    "# Importamos librerías complementarias\n",
    "import numpy as np\n",
    "import pandas as pd\n",
    "import matplotlib.pyplot as plt\n",
    "\n",
    "# Creamos un nuevo RNG\n",
    "rng = np.random.default_rng(0)"
   ]
  },
  {
   "cell_type": "markdown",
   "metadata": {},
   "source": [
    "<div id='bootstrap'>\n",
    "\n",
    "## Bootstrap\n",
    "\n",
    "El método de estimación Bootstrap es una técnica que proporciona estimaciones robustas y confiables de los parámetros de interés en una muestra de datos. A través de remuestreo y aproximaciones de la distribución, obtenemos medidas de precisión como intervalos de confianza, incluso en situaciones no normales o con datos atípicos.\n",
    "\n",
    "Los pasos a seguir son los siguientes:"
   ]
  },
  {
   "cell_type": "markdown",
   "metadata": {},
   "source": [
    "<div id='bootstrap_paso1'>\n",
    "\n",
    "### Paso 1: Identificar los datos\n",
    "\n",
    "En primer lugar, debemos obtener un conjunto de datos original, que corresponde a una muestra representativa de observaciones de la población de interés. A partir de este conjunto, calcularemos sus estadísticos de interés. Por lo tanto, esta muestra sirve como base para las estimaciones posteriores mediante el método Bootstrap."
   ]
  },
  {
   "cell_type": "code",
   "execution_count": 2,
   "metadata": {},
   "outputs": [
    {
     "data": {
      "text/plain": [
       "0      0.2\n",
       "1      0.2\n",
       "2      0.2\n",
       "3      0.2\n",
       "4      0.2\n",
       "      ... \n",
       "145    2.3\n",
       "146    1.9\n",
       "147    2.0\n",
       "148    2.3\n",
       "149    1.8\n",
       "Name: petal_width_in_cm, Length: 150, dtype: float64"
      ]
     },
     "execution_count": 2,
     "metadata": {},
     "output_type": "execute_result"
    }
   ],
   "source": [
    "# Leemos un conjunto de datos\n",
    "datos = pd.read_csv(\"https://archive.ics.uci.edu/ml/machine-learning-databases/iris/iris.data\", names=[\"sepal_length_in_cm\", \"sepal_width_in_cm\", \"petal_length_in_cm\", \"petal_width_in_cm\", \"class\"])[\"petal_width_in_cm\"]\n",
    "\n",
    "datos"
   ]
  },
  {
   "cell_type": "markdown",
   "metadata": {},
   "source": [
    "<div id='bootstrap_paso2'>\n",
    "\n",
    "### Paso 2: Generar una muestra Bootstrap\n",
    "\n",
    "Generar una muestra Bootstrap implica crear una nueva muestra de datos a partir del conjunto de datos original. Esta muestra tiene las siguientes propiedades:\n",
    "\n",
    "- Sus elementos son seleccionados **aleatoriamente** del conjunto de datos original, con **reemplazo**, significando que un mismo dato puede ser seleccionado varias veces o no ser seleccionado.\n",
    "- Es del **mismo tamaño** que el conjunto de datos original, manteniendo la consistencia en el número de observaciones."
   ]
  },
  {
   "cell_type": "code",
   "execution_count": 3,
   "metadata": {},
   "outputs": [
    {
     "data": {
      "text/plain": [
       "array([1.8, 1.2, 1.4, 0.3, 0.2, 0.3, 0.2, 0.2, 0.4, 2. , 1.3, 2.4, 1.4,\n",
       "       1.2, 2.3, 2.5, 1.3, 1. , 1.6, 2.4, 0.3, 2. , 2.5, 0.2, 1.4, 2.1,\n",
       "       1.6, 0.4, 2.4, 2.5, 1.8, 0.4, 0.1, 1.6, 0.2, 1. , 0.1, 0.4, 1.5,\n",
       "       1.4, 1. , 0.2, 0.2, 0.3, 0.2, 2.5, 1.5, 1.3, 0.2, 1.2, 2.4, 1. ,\n",
       "       1.1, 1.8, 2.3, 2. , 1.6, 2.1, 1.9, 1.3, 1.8, 1.8, 2.1, 1.3, 2. ,\n",
       "       0.2, 1.5, 1.8, 1.8, 1.5, 1.6, 0.2, 1.4, 1.5, 1.8, 1.5, 0.2, 2.4,\n",
       "       1. , 1.3, 2.5, 1.6, 0.2, 0.2, 1.8, 1.3, 1.4, 1.4, 2.4, 1.3, 0.2,\n",
       "       1.5, 0.2, 0.1, 1.8, 1. , 0.2, 0.1, 1.6, 2.1, 1. , 2.3, 0.2, 0.2,\n",
       "       2.3, 2. , 0.2, 0.2, 2.5, 1.4, 1.5, 0.2, 1.6, 1. , 1.4, 1.5, 2.1,\n",
       "       0.1, 2.3, 0.2, 1.6, 1. , 1.8, 0.2, 2.3, 0.1, 1. , 1.3, 1.4, 0.4,\n",
       "       2.3, 2.5, 1.5, 0.2, 2. , 2.3, 0.2, 1.5, 1.2, 0.4, 1.4, 1.3, 2.4,\n",
       "       2.1, 1.5, 1.5, 1.3, 2.3, 0.2, 1.3])"
      ]
     },
     "execution_count": 3,
     "metadata": {},
     "output_type": "execute_result"
    }
   ],
   "source": [
    "# Generamos una muestra Bootstrap \n",
    "muestra_bootstrap = rng.choice(a=datos, size=len(datos), replace=True)\n",
    "\n",
    "muestra_bootstrap"
   ]
  },
  {
   "cell_type": "markdown",
   "metadata": {},
   "source": [
    "<div id='bootstrap_paso3'>\n",
    "\n",
    "### Paso 3: Calcular el estadístico de interés de la muestra Bootstrap\n",
    "\n",
    "Para la muestra Bootstrap, debemos calcular el estadístico de interés, el cual puede ser la media, la mediana, la desviación estándar, la varianza u otro parámetro de relevancia según el análisis.\n",
    "\n",
    "En nuestro ejemplo, calcularemos la media de la muestra Bootstrap generada anteriormente:"
   ]
  },
  {
   "cell_type": "code",
   "execution_count": 4,
   "metadata": {},
   "outputs": [
    {
     "data": {
      "text/plain": [
       "1.278"
      ]
     },
     "execution_count": 4,
     "metadata": {},
     "output_type": "execute_result"
    }
   ],
   "source": [
    "# Calculamos el estadístico de interés\n",
    "estadistico = np.mean(muestra_bootstrap)\n",
    "\n",
    "estadistico"
   ]
  },
  {
   "cell_type": "markdown",
   "metadata": {},
   "source": [
    "<div id='bootstrap_paso4'>\n",
    "\n",
    "### Paso 4: Generar la distribución Bootstrap repitiendo los pasos 2 y 3\n",
    "\n",
    "Luego, debemos generar una distribución de los estadísticos obtenidos a partir de la muestra Bootstrap. Esto se logra repitiendo los pasos 2 y 3 un gran número de veces (por ejemplo, 10000 veces), lo que nos permite obtener una representación empírica de la variabilidad del estadístico de interés."
   ]
  },
  {
   "cell_type": "code",
   "execution_count": 5,
   "metadata": {},
   "outputs": [],
   "source": [
    "# Generamos la distribución Bootstrap\n",
    "distribucion = []\n",
    "for i in range(10000): # Iteramos 10000 veces\n",
    "    muestra_bootstrap = rng.choice(a=datos, size=len(datos), replace=True) # Generamos una muestra Bootstrap \n",
    "    estadistico = np.mean(muestra_bootstrap) # Calculamos el estadístico de interés de la muestra Bootstrap\n",
    "    distribucion.append(estadistico) # Agregamos el estadístico de interés de la muestra Bootstrap en la distribución Bootstrap"
   ]
  },
  {
   "cell_type": "markdown",
   "metadata": {},
   "source": [
    "Podemos graficar la distribución de los estadísticos obtenidos a partir de las muestras Bootstrap para visualizar su comportamiento y variabilidad. Además, resulta útil incluir el valor del estadístico del conjunto de datos original para compararlo con la distribución de los remuestreos y evaluar cómo se posiciona dentro de ella."
   ]
  },
  {
   "cell_type": "code",
   "execution_count": 6,
   "metadata": {},
   "outputs": [
    {
     "data": {
      "image/png": "[encoded data removed]",
      "text/plain": [
       "<Figure size 640x480 with 1 Axes>"
      ]
     },
     "metadata": {},
     "output_type": "display_data"
    }
   ],
   "source": [
    "# Graficamos la distribución Bootstrap\n",
    "plt.hist(distribucion, edgecolor='black', bins=30)\n",
    "plt.axvline(np.mean(datos), color='purple', linewidth=2, label='Media original')\n",
    "plt.title('Distribución de la media en las muestras Bootstrap')\n",
    "plt.ylabel('Frecuencia')\n",
    "plt.xlabel('Media')\n",
    "plt.legend(fontsize='small')\n",
    "plt.show()"
   ]
  },
  {
   "cell_type": "markdown",
   "metadata": {},
   "source": [
    "<div id='bootstrap_paso5'>\n",
    "\n",
    "### Paso 5: Estimar el estadístico de interés\n",
    "\n",
    "Finalmente, la estimación del estadístico de interés se puede obtener calculando la media de los valores en la distribución Bootstrap. Esta media es una estimación puntual del estadístico de interés, que se considera más confiable porque tiene en cuenta la variabilidad observada en los remuestreos."
   ]
  },
  {
   "cell_type": "code",
   "execution_count": 7,
   "metadata": {},
   "outputs": [
    {
     "data": {
      "text/plain": [
       "1.2003246"
      ]
     },
     "execution_count": 7,
     "metadata": {},
     "output_type": "execute_result"
    }
   ],
   "source": [
    "# Estimamos el estadístico de interés de la distribución Bootstrap\n",
    "np.mean(distribucion)"
   ]
  },
  {
   "cell_type": "markdown",
   "metadata": {},
   "source": [
    "Nótese la diferencia con la media del conjunto de datos original:"
   ]
  },
  {
   "cell_type": "code",
   "execution_count": 8,
   "metadata": {},
   "outputs": [
    {
     "data": {
      "text/plain": [
       "1.1986666666666668"
      ]
     },
     "execution_count": 8,
     "metadata": {},
     "output_type": "execute_result"
    }
   ],
   "source": [
    "# Calculamos el estadístico de interés del conjunto de datos original\n",
    "np.mean(datos)"
   ]
  },
  {
   "cell_type": "markdown",
   "metadata": {},
   "source": [
    "<div id='intervalo_confianza'>\n",
    "\n",
    "## Intervalo de confianza\n",
    "\n",
    "Por otro lado, calculamos el intervalo de confianza con el objetivo de determinar el rango de valores dentro del cual es probable que se encuentre el estadístico de interés con un cierto nivel de confianza. Por ejemplo, para obtener un intervalo de confianza del 95%, calculamos los percentiles 2,5% y 97.5% de la distribución Bootstrap, debido a que el intervalo de confianza cubre el 95% de los valores generados en los remuestreos, dejando fuera el 2,5% inferior y el 2,5% superior."
   ]
  },
  {
   "cell_type": "code",
   "execution_count": 9,
   "metadata": {},
   "outputs": [
    {
     "data": {
      "text/plain": [
       "(1.0766666666666667, 1.3220166666666664)"
      ]
     },
     "execution_count": 9,
     "metadata": {},
     "output_type": "execute_result"
    }
   ],
   "source": [
    "# Calculamos los límites del intervalo de confianza\n",
    "limite_inferior = np.percentile(distribucion, 2.5)\n",
    "limite_superior = np.percentile(distribucion, 97.5)\n",
    "\n",
    "limite_inferior, limite_superior"
   ]
  },
  {
   "cell_type": "markdown",
   "metadata": {},
   "source": [
    "Luego, podemos graficar nuestro intervalo de confianza:"
   ]
  },
  {
   "cell_type": "code",
   "execution_count": 10,
   "metadata": {},
   "outputs": [
    {
     "data": {
      "image/png": "[encoded data removed]",
      "text/plain": [
       "<Figure size 640x480 with 1 Axes>"
      ]
     },
     "metadata": {},
     "output_type": "display_data"
    }
   ],
   "source": [
    "# Graficamos la distribución Bootstrap junto a los límites de su intervalo de confianza\n",
    "plt.hist(distribucion, edgecolor='black', bins=30)\n",
    "plt.axvline(np.mean(datos), color='purple', linewidth=2, label='Media original')\n",
    "plt.axvline(limite_inferior, color=\"green\", linewidth=2, label=\"Límite inferior del intervalo de confianza\")\n",
    "plt.axvline(limite_superior, color=\"red\", linewidth=2, label=\"Límite superior del intervalo de confianza\")\n",
    "plt.title('Distribución de la media en las muestras Bootstrap')\n",
    "plt.ylabel('Frecuencia')\n",
    "plt.xlabel('Media')\n",
    "plt.legend(fontsize='xx-small')\n",
    "plt.show()"
   ]
  },
  {
   "cell_type": "markdown",
   "metadata": {},
   "source": [
    "<div id='hist'>\n",
    "\n",
    "# Historial de Versiones \n",
    "\n",
    "* **Versión v0.01:** Primera versión del material. - *12 de Noviembre del 2024*."
   ]
  }
 ],
 "metadata": {
  "kernelspec": {
   "display_name": "Python 3",
   "language": "python",
   "name": "python3"
  },
  "language_info": {
   "codemirror_mode": {
    "name": "ipython",
    "version": 3
   },
   "file_extension": ".py",
   "mimetype": "text/x-python",
   "name": "python",
   "nbconvert_exporter": "python",
   "pygments_lexer": "ipython3",
   "version": "3.11.9"
  }
 },
 "nbformat": 4,
 "nbformat_minor": 2
}
