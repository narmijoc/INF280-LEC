{
 "cells": [
  {
   "cell_type": "markdown",
   "metadata": {},
   "source": [
    "<center>\n",
    "    <img src=\"http://sct.inf.utfsm.cl/wp-content/uploads/2020/04/logo_di.png\" style=\"width:60%\">\n",
    "    <h1> INF280 - Estadística Computacional </h1>\n",
    "    <h2> Generación de Variables Aleatorias </h2>\n",
    "    <h2> Version: 0.01 </h2>\n",
    "    <h2> Ay. Nicolás Armijo Calquín </h2> \n",
    "    <h2> Ay. Eva Wang Liu </h2>\n",
    "</center>"
   ]
  },
  {
   "cell_type": "markdown",
   "metadata": {},
   "source": [
    "<div id='toc'>\n",
    "\n",
    "## Tabla de Contenidos\n",
    "\n",
    "* [Introducción](#intro)\n",
    "* [Librerías de Python](#python)\n",
    "    * [NumPy Random](#numpy_random)\n",
    "    * [Scipy Stats](#scipy_stats)\n",
    "* [Método de la transformada inversa](#metodo_transformada_inversa)\n",
    "    * [Ejemplo](#metodo_transformada_inversa_ejemplo)\n",
    "* [Referencias](#referencias)"
   ]
  },
  {
   "cell_type": "markdown",
   "metadata": {},
   "source": [
    "<div id='intro'>\n",
    "\n",
    "## Introducción\n",
    "\n",
    "Cuando intentamos modelar situaciones de la vida real, nos encontramos con el desafío de que estas no siguen una distribución uniforme, sino que se ajustan a distribuciones más complejas y específicas. Las variables aleatorias suelen seguir distribuciones de probabilidad que reflejan fenómenos específicos, por lo que hacer uso de ellas permite que nuestros modelos se acerquen más a la realidad.\n",
    "\n",
    "Para simular variables aleatorias, se deben generar números uniformes y transformarlos a valores de una distribución de probabilidad mediante una función específica. Aunque en la actualidad múltiples módulos en lenguajes de programación permiten la realización de este proceso rápidamente, también existen varios procedimientos para lograr este procedimiento manualmente, tales como el método de la transformada inversa.\n",
    "\n",
    "En el presente Jupyter Notebook...\n",
    "\n",
    "Antes de partir, importaremos las bibliotecas que complementarán nuestro trabajo:"
   ]
  },
  {
   "cell_type": "code",
   "execution_count": 39,
   "metadata": {},
   "outputs": [],
   "source": [
    "# Importamos bibliotecas complementarias\n",
    "import pandas as pd\n",
    "import matplotlib.pyplot as plt"
   ]
  },
  {
   "cell_type": "markdown",
   "metadata": {},
   "source": [
    "<div id='python'>\n",
    "\n",
    "## Librerías de Python\n",
    "\n",
    "Las librerías NumPy y Scipy de Python contienen los submódulos Random y Stats, respectivamente, que permiten la simulación de variables aleatorias de forma rápida y eficiente."
   ]
  },
  {
   "cell_type": "markdown",
   "metadata": {},
   "source": [
    "<div id='numpy_random'>\n",
    "\n",
    "### NumPy Random\n",
    "\n",
    "Antes de partir, debemos importar la librería NumPy."
   ]
  },
  {
   "cell_type": "code",
   "execution_count": 2,
   "metadata": {},
   "outputs": [],
   "source": [
    "# Importamos NumPy - Debemos instalarlo con pip install numpy\n",
    "import numpy as np"
   ]
  },
  {
   "cell_type": "markdown",
   "metadata": {},
   "source": [
    "Random es un submódulo de NumPy que se dedica a la generación de números y variables aleatorias. En particular, para la generación de variables aleatorias proporciona varias funciones dependiendo de la distribución de probabilidad que estas siguen. Algunas de estas funciones son:\n",
    "\n",
    "* `np.random.binomial`: genera muestras de una **distribución binomial**.\n",
    "\n",
    "* `np.random.poisson`: genera muestras de una **distribución de Poisson**.\n",
    "\n",
    "* `np.random.uniform`: genera muestras de una **distribución uniforme**.\n",
    "\n",
    "* `np.random.normal`: genera muestras de una **distribución normal (gaussiana)**.\n",
    "\n",
    "* `np.random.exponential`: genera muestras de una **distribución exponencial**\n",
    "\n",
    "* `np.random.multivariate_normal`: genera muestras de una **distribución normal multivariada**.\n",
    "\n",
    "Se adjuntan distintos recursos que les puede ser de utilidad:\n",
    "\n",
    "* **Documentación oficial** https://numpy.org/doc/stable/reference/random/index.html"
   ]
  },
  {
   "cell_type": "markdown",
   "metadata": {},
   "source": [
    "<div id='scipy_stats'>\n",
    "\n",
    "### Scipy Stats\n",
    "\n",
    "Antes de partir, debemos importar la librería Scipy."
   ]
  },
  {
   "cell_type": "code",
   "execution_count": 3,
   "metadata": {},
   "outputs": [],
   "source": [
    "# Importamos Scipy - Debemos instalarlo con pip install scipy\n",
    "import scipy"
   ]
  },
  {
   "cell_type": "markdown",
   "metadata": {},
   "source": [
    "Stats es un submódulo de Scipy que, al igual que Random, se dedica a la generación de variables aleatorias. No obstante, ofrece una funcionalidad estadística más avanzada.\n",
    "\n",
    "La función `rvs` genera muestras aleatorias y se puede aplicar a distintas distribuciones de probabilidad, tales como:\n",
    "\n",
    "* `scipy.stats.binom.rvs`: genera muestras de una **distribución binomial**.\n",
    "\n",
    "* `scipy.stats.norm.rvs`: genera muestras de una **distribución normal (gaussiana)**.\n",
    "\n",
    "* `scipy.stats.expon.rvs`: genera muestras de una **distribución exponencial**.\n",
    "\n",
    "Por otro lado, Stats también ofrece las funciones `pdf` y `cdf`, que calculan las funciones de densidad y de distribución acumulada cuando son aplicadas a una distribución de probabilidad.\n",
    "\n",
    "Se adjuntan distintos recursos que les puede ser de utilidad:\n",
    "\n",
    "* **Documentación oficial** https://docs.scipy.org/doc/scipy/reference/stats.html"
   ]
  },
  {
   "cell_type": "markdown",
   "metadata": {},
   "source": [
    "<div id='metodo_transformada_inversa'>\n",
    "\n",
    "## Método de la transformada inversa\n",
    "\n",
    "El método de la transformada inversa es una técnica para generar variables aleatorias a partir de la transformación de números uniformes a valores de una distribución de probabilidad mediante una función específica. Este método aprovecha la propiedad de las funciones de probabilidad acumulada, en las cuales su recorrido siempre se encontrará en el intervalo cerrado $[0,1]$.\n",
    "\n",
    "Supongamos que queremos generar una variable aleatoria $X$ la cual tiene una función de probabilidad que sigue:\n",
    "\n",
    "$$P(X=x_j)=\\left\\{\\begin{array}{lr} x_0    & p_0 \\\\ \\\\\n",
    "                                    x_1    & p_1 \\\\ \\\\\n",
    "                                    x_2    & p_2 \\\\ \\\\\n",
    "                                    \\vdots &     \\\\ \\\\\n",
    "                                    x_n    & p_n \\end{array}\\right.$$\n",
    "\n",
    "Nuestra misión es generar eventos aleatorios $X = x_j$ tal que cumpla con la función de probabilidad. Para esto nos apoyaremos en \n",
    "los números aleatorios y en la función de distribución de $X$ la cual denotaremos como $F_x$.\n",
    "\n",
    "Generaremos un número aleatorio $U$ que siga una distribución uniforme $(0,1)$, es decir, $U \\sim U(0,1)$. Luego de esto, \n",
    "aprovecharemos la siguiente propiedad: dados $a,b$ que cumplan $0<a<b<1$, se tiene que $P\\{a\\leq U<b\\}=b-a$. Con esta propiedad \n",
    "en mente, contruimos la función de probabilidad anterior de la siguiente forma:\n",
    "\n",
    "$$P\\{X=x_i\\}=\\left\\{\\sum_{i=0}^{j-1}p_i\\leq U<\\sum_{i=0}^{j}p_i\\right\\}=p_j$$\n",
    "\n",
    "Entonces, podemos generar $X$ siguiendo la siguiente regla:\n",
    "\n",
    "$$X=\\left\\{\\begin{array}{lcc} x_0    & si & U   \\leq p_0                                \\\\ \\\\\n",
    "                              x_1    & si & p_0 \\leq U<p_0+p_1                          \\\\ \\\\\n",
    "                              \\vdots &    &                                             \\\\ \\\\\n",
    "                              x_j    & si & \\sum_{i=0}^{j-1}p_i\\leq U<\\sum_{i=0}^{j}p_i \\\\\n",
    "                              \\vdots &    &                                             \\end{array}\\right.$$\n",
    "\n",
    "Por último, si tenemos los $x_i$ ordenados tal que, $x_1<x_2<\\cdots$, tendremos que $X$ será $x_j$ si $F_X(x_{j-1})\\leq U<F_X(x_j)\n",
    "$.\n",
    "\n",
    "En resumen, este método consiste en los siguientes 3 pasos:\n",
    "\n",
    "1. Generar un número aleatorio $u$ (computacionalmente son pseudo-aleatorios), tal que siga una distribución uniforme $(0,1)$, es decir $u\\sim U(0,1)$.\n",
    "\n",
    "2. Hallar la inversa de la función de probabilidad acumulada $F^{-1}_X(x)$.\n",
    "\n",
    "3. Finalmente, calcular $X=F^{-1}_X(u)$. Así habremos generado $X=x$ que siga la distribución de $F_X$.\n",
    "\n",
    "A continuación, se presentará un ejemplo introductorio al método de la transformada inversa."
   ]
  },
  {
   "cell_type": "markdown",
   "metadata": {},
   "source": [
    "<div id='metodo_transformada_inversa_ejemplo'>\n",
    "\n",
    "### Ejemplo\n",
    "\n",
    "Queremos simular una variable aleatoria $X$ tal que $p_1 = 0.10$, $p_2 = 0.25$, $p_3 = 0.60$, $p_4 = 0.05$"
   ]
  },
  {
   "cell_type": "code",
   "execution_count": 25,
   "metadata": {},
   "outputs": [
    {
     "data": {
      "text/html": [
       "<div>\n",
       "<style scoped>\n",
       "    .dataframe tbody tr th:only-of-type {\n",
       "        vertical-align: middle;\n",
       "    }\n",
       "\n",
       "    .dataframe tbody tr th {\n",
       "        vertical-align: top;\n",
       "    }\n",
       "\n",
       "    .dataframe thead th {\n",
       "        text-align: right;\n",
       "    }\n",
       "</style>\n",
       "<table border=\"1\" class=\"dataframe\">\n",
       "  <thead>\n",
       "    <tr style=\"text-align: right;\">\n",
       "      <th></th>\n",
       "      <th>count</th>\n",
       "    </tr>\n",
       "  </thead>\n",
       "  <tbody>\n",
       "    <tr>\n",
       "      <th>x_1</th>\n",
       "      <td>0</td>\n",
       "    </tr>\n",
       "    <tr>\n",
       "      <th>x_2</th>\n",
       "      <td>0</td>\n",
       "    </tr>\n",
       "    <tr>\n",
       "      <th>x_3</th>\n",
       "      <td>0</td>\n",
       "    </tr>\n",
       "    <tr>\n",
       "      <th>x_4</th>\n",
       "      <td>0</td>\n",
       "    </tr>\n",
       "  </tbody>\n",
       "</table>\n",
       "</div>"
      ],
      "text/plain": [
       "     count\n",
       "x_1      0\n",
       "x_2      0\n",
       "x_3      0\n",
       "x_4      0"
      ]
     },
     "execution_count": 25,
     "metadata": {},
     "output_type": "execute_result"
    }
   ],
   "source": [
    "# Creamos un DataFrame de Pandas para llevar la cuenta de ocurrencia de cada variable x_i\n",
    "# Se crean 4 DataFrames para llevar el registro de 4 simulaciones distintas\n",
    "X_1 = pd.DataFrame({'count': [0,0,0,0]}, index=['x_1','x_2','x_3','x_4'])\n",
    "X_2 = pd.DataFrame({'count': [0,0,0,0]}, index=['x_1','x_2','x_3','x_4'])\n",
    "X_3 = pd.DataFrame({'count': [0,0,0,0]}, index=['x_1','x_2','x_3','x_4'])\n",
    "X_4 = pd.DataFrame({'count': [0,0,0,0]}, index=['x_1','x_2','x_3','x_4'])\n",
    "\n",
    "X_1"
   ]
  },
  {
   "cell_type": "code",
   "execution_count": 26,
   "metadata": {},
   "outputs": [],
   "source": [
    "# Método de la transformada inversa\n",
    "def generator(df):\n",
    "    # Utilizamos NumPy para generar un número pseudoaleatorio de distribución uniforme(0,1)\n",
    "    U = np.random.random()\n",
    "    # Dependiendo del intervalo de U, generamos x_i utilizando F_X\n",
    "    if U < 0.1:\n",
    "        df['count']['x_1'] += 1\n",
    "    elif U < 0.35:\n",
    "        df['count']['x_2'] += 1\n",
    "    elif U < 0.95:\n",
    "        df['count']['x_3'] += 1\n",
    "    else:\n",
    "        df['count']['x_4'] += 1\n",
    "    return"
   ]
  },
  {
   "cell_type": "code",
   "execution_count": 27,
   "metadata": {},
   "outputs": [],
   "source": [
    "## Definimos la función sim para simular nuestro algoritmo n veces y así analizar la distribución de las variables generadas\n",
    "def sim(n, X):\n",
    "    for i in range(n):\n",
    "        generator(X)\n",
    "    return"
   ]
  },
  {
   "cell_type": "markdown",
   "metadata": {},
   "source": [
    "A continuación, vamos a realizar distintas simulaciones para ver cómo se comporta nuestro generador de variables aleatorias, y si \n",
    "este en realidad genera las variables con la probabilidad exigida."
   ]
  },
  {
   "cell_type": "code",
   "execution_count": 35,
   "metadata": {},
   "outputs": [
    {
     "data": {
      "text/html": [
       "<div>\n",
       "<style scoped>\n",
       "    .dataframe tbody tr th:only-of-type {\n",
       "        vertical-align: middle;\n",
       "    }\n",
       "\n",
       "    .dataframe tbody tr th {\n",
       "        vertical-align: top;\n",
       "    }\n",
       "\n",
       "    .dataframe thead th {\n",
       "        text-align: right;\n",
       "    }\n",
       "</style>\n",
       "<table border=\"1\" class=\"dataframe\">\n",
       "  <thead>\n",
       "    <tr style=\"text-align: right;\">\n",
       "      <th></th>\n",
       "      <th>count</th>\n",
       "    </tr>\n",
       "  </thead>\n",
       "  <tbody>\n",
       "    <tr>\n",
       "      <th>x_1</th>\n",
       "      <td>0.170311</td>\n",
       "    </tr>\n",
       "    <tr>\n",
       "      <th>x_2</th>\n",
       "      <td>0.252025</td>\n",
       "    </tr>\n",
       "    <tr>\n",
       "      <th>x_3</th>\n",
       "      <td>0.567161</td>\n",
       "    </tr>\n",
       "    <tr>\n",
       "      <th>x_4</th>\n",
       "      <td>0.020604</td>\n",
       "    </tr>\n",
       "  </tbody>\n",
       "</table>\n",
       "</div>"
      ],
      "text/plain": [
       "        count\n",
       "x_1  0.170311\n",
       "x_2  0.252025\n",
       "x_3  0.567161\n",
       "x_4  0.020604"
      ]
     },
     "execution_count": 35,
     "metadata": {},
     "output_type": "execute_result"
    }
   ],
   "source": [
    "# Simulamos 100 veces y calculamos la probabilidad de cada x_i\n",
    "sim(100, X_1)\n",
    "X_1 /= 100\n",
    "\n",
    "X_1"
   ]
  },
  {
   "cell_type": "code",
   "execution_count": 36,
   "metadata": {},
   "outputs": [
    {
     "data": {
      "text/html": [
       "<div>\n",
       "<style scoped>\n",
       "    .dataframe tbody tr th:only-of-type {\n",
       "        vertical-align: middle;\n",
       "    }\n",
       "\n",
       "    .dataframe tbody tr th {\n",
       "        vertical-align: top;\n",
       "    }\n",
       "\n",
       "    .dataframe thead th {\n",
       "        text-align: right;\n",
       "    }\n",
       "</style>\n",
       "<table border=\"1\" class=\"dataframe\">\n",
       "  <thead>\n",
       "    <tr style=\"text-align: right;\">\n",
       "      <th></th>\n",
       "      <th>count</th>\n",
       "    </tr>\n",
       "  </thead>\n",
       "  <tbody>\n",
       "    <tr>\n",
       "      <th>x_1</th>\n",
       "      <td>0.081</td>\n",
       "    </tr>\n",
       "    <tr>\n",
       "      <th>x_2</th>\n",
       "      <td>0.258</td>\n",
       "    </tr>\n",
       "    <tr>\n",
       "      <th>x_3</th>\n",
       "      <td>0.622</td>\n",
       "    </tr>\n",
       "    <tr>\n",
       "      <th>x_4</th>\n",
       "      <td>0.039</td>\n",
       "    </tr>\n",
       "  </tbody>\n",
       "</table>\n",
       "</div>"
      ],
      "text/plain": [
       "     count\n",
       "x_1  0.081\n",
       "x_2  0.258\n",
       "x_3  0.622\n",
       "x_4  0.039"
      ]
     },
     "execution_count": 36,
     "metadata": {},
     "output_type": "execute_result"
    }
   ],
   "source": [
    "# Simulamos 1000 veces y calculamos la probabilidad de cada x_i\n",
    "sim(1000, X_2)\n",
    "X_2 /= 1000\n",
    "\n",
    "X_2"
   ]
  },
  {
   "cell_type": "code",
   "execution_count": 37,
   "metadata": {},
   "outputs": [
    {
     "data": {
      "text/html": [
       "<div>\n",
       "<style scoped>\n",
       "    .dataframe tbody tr th:only-of-type {\n",
       "        vertical-align: middle;\n",
       "    }\n",
       "\n",
       "    .dataframe tbody tr th {\n",
       "        vertical-align: top;\n",
       "    }\n",
       "\n",
       "    .dataframe thead th {\n",
       "        text-align: right;\n",
       "    }\n",
       "</style>\n",
       "<table border=\"1\" class=\"dataframe\">\n",
       "  <thead>\n",
       "    <tr style=\"text-align: right;\">\n",
       "      <th></th>\n",
       "      <th>count</th>\n",
       "    </tr>\n",
       "  </thead>\n",
       "  <tbody>\n",
       "    <tr>\n",
       "      <th>x_1</th>\n",
       "      <td>0.1007</td>\n",
       "    </tr>\n",
       "    <tr>\n",
       "      <th>x_2</th>\n",
       "      <td>0.2503</td>\n",
       "    </tr>\n",
       "    <tr>\n",
       "      <th>x_3</th>\n",
       "      <td>0.5994</td>\n",
       "    </tr>\n",
       "    <tr>\n",
       "      <th>x_4</th>\n",
       "      <td>0.0496</td>\n",
       "    </tr>\n",
       "  </tbody>\n",
       "</table>\n",
       "</div>"
      ],
      "text/plain": [
       "      count\n",
       "x_1  0.1007\n",
       "x_2  0.2503\n",
       "x_3  0.5994\n",
       "x_4  0.0496"
      ]
     },
     "execution_count": 37,
     "metadata": {},
     "output_type": "execute_result"
    }
   ],
   "source": [
    "## Simulamos 10000 veces y calculamos la probabilidad de cada x_i\n",
    "sim(10000, X_3)\n",
    "X_3 /= 10000\n",
    "\n",
    "X_3"
   ]
  },
  {
   "cell_type": "code",
   "execution_count": 38,
   "metadata": {},
   "outputs": [
    {
     "data": {
      "text/html": [
       "<div>\n",
       "<style scoped>\n",
       "    .dataframe tbody tr th:only-of-type {\n",
       "        vertical-align: middle;\n",
       "    }\n",
       "\n",
       "    .dataframe tbody tr th {\n",
       "        vertical-align: top;\n",
       "    }\n",
       "\n",
       "    .dataframe thead th {\n",
       "        text-align: right;\n",
       "    }\n",
       "</style>\n",
       "<table border=\"1\" class=\"dataframe\">\n",
       "  <thead>\n",
       "    <tr style=\"text-align: right;\">\n",
       "      <th></th>\n",
       "      <th>count</th>\n",
       "    </tr>\n",
       "  </thead>\n",
       "  <tbody>\n",
       "    <tr>\n",
       "      <th>x_1</th>\n",
       "      <td>0.09980</td>\n",
       "    </tr>\n",
       "    <tr>\n",
       "      <th>x_2</th>\n",
       "      <td>0.25035</td>\n",
       "    </tr>\n",
       "    <tr>\n",
       "      <th>x_3</th>\n",
       "      <td>0.59834</td>\n",
       "    </tr>\n",
       "    <tr>\n",
       "      <th>x_4</th>\n",
       "      <td>0.05151</td>\n",
       "    </tr>\n",
       "  </tbody>\n",
       "</table>\n",
       "</div>"
      ],
      "text/plain": [
       "       count\n",
       "x_1  0.09980\n",
       "x_2  0.25035\n",
       "x_3  0.59834\n",
       "x_4  0.05151"
      ]
     },
     "execution_count": 38,
     "metadata": {},
     "output_type": "execute_result"
    }
   ],
   "source": [
    "## Simulamos 100000 veces y calculamos la probabilidad de cada x_i\n",
    "sim(100000, X_4)\n",
    "X_4 /= 100000\n",
    "\n",
    "X_4"
   ]
  },
  {
   "cell_type": "code",
   "execution_count": 45,
   "metadata": {},
   "outputs": [
    {
     "data": {
      "image/png": "[encoded data removed]",
      "text/plain": [
       "<Figure size 640x480 with 4 Axes>"
      ]
     },
     "metadata": {},
     "output_type": "display_data"
    }
   ],
   "source": [
    "marcas = [0.05,0.10,0.25,0.60]\n",
    "ylim = [0.0, 0.65]\n",
    "\n",
    "fig, ax = plt.subplots(2,2)\n",
    "\n",
    "X_1.plot.bar(ax= ax[0,0], grid= True, yticks=marcas, ylim= ylim)\n",
    "X_2.plot.bar(ax= ax[0,1], grid= True, yticks=marcas, ylim= ylim)\n",
    "X_3.plot.bar(ax= ax[1,0], grid= True, yticks=marcas, ylim= ylim)\n",
    "X_4.plot.bar(ax= ax[1,1], grid= True, yticks=marcas, ylim= ylim)\n",
    "\n",
    "ax[0,0].set_title(\"100 simulaciones\")\n",
    "ax[0,1].set_title(\"1000 simulaciones\")\n",
    "ax[1,0].set_title(\"10000 simulaciones\")\n",
    "ax[1,1].set_title(\"100000 simulaciones\")\n",
    "\n",
    "plt.tight_layout()\n",
    "plt.show()"
   ]
  },
  {
   "cell_type": "markdown",
   "metadata": {},
   "source": [
    "Podemos observar que nuestro generador cumple su función, y a medida que aumentamos la magnitud del orden de simulaciones, la probabilidad empírica tiende a nuestra probabilidad teórica.\n",
    "\n",
    "Se adjuntan 2 gráficos que representan la idea detrás del método de la transformada inversa, tanto la VA discretas como continuas:\n",
    "\n",
    "* <img src=\"https://upload.wikimedia.org/wikipedia/commons/thumb/1/1f/FDC-Geometrica.pdf/page1-610px-FDC-Geometrica.pdf.jpg?20201101071844\"/>\n",
    "\n",
    "* <img src=\"https://upload.wikimedia.org/wikipedia/commons/7/74/Inversion_method2.svg\"/> "
   ]
  },
  {
   "cell_type": "markdown",
   "metadata": {},
   "source": [
    "<div id='referencias'>\n",
    "\n",
    "## Referencias\n",
    "\n",
    "* Ross, S. M. (2019). *Generating Discrete Random Variables*. En *Simulation* (pp. 49-66)."
   ]
  }
 ],
 "metadata": {
  "kernelspec": {
   "display_name": "Python 3",
   "language": "python",
   "name": "python3"
  },
  "language_info": {
   "codemirror_mode": {
    "name": "ipython",
    "version": 3
   },
   "file_extension": ".py",
   "mimetype": "text/x-python",
   "name": "python",
   "nbconvert_exporter": "python",
   "pygments_lexer": "ipython3",
   "version": "3.11.9"
  }
 },
 "nbformat": 4,
 "nbformat_minor": 2
}
