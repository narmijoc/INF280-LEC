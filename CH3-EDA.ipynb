{
 "cells": [
  {
   "cell_type": "markdown",
   "metadata": {},
   "source": [
    "<center>\n",
    "    <img src=\"http://sct.inf.utfsm.cl/wp-content/uploads/2020/04/logo_di.png\" style=\"width:60%\">\n",
    "    <h1> INF280 - Estadística Computacional </h1>\n",
    "    <h2> Análisis exploratorio de datos </h2>\n",
    "    <h2> Version: 0.01 </h2>\n",
    "    <h2> Ay. Nicolás Armijo Calquín </h2> \n",
    "    <h2> Ay. Eva Wang Liu </h2>\n",
    "</center>"
   ]
  },
  {
   "cell_type": "markdown",
   "metadata": {},
   "source": [
    "<div id='toc'>\n",
    "\n",
    "## Tabla de Contenidos\n",
    "\n",
    "* [Introducción](#intro)\n",
    "* [Paso 1: Adquisición de datos](#adquisicion_datos)\n",
    "* [Paso 2: Limpieza de datos](#limpieza_datos)\n",
    "   * [Valores faltantes](#valores_faltantes) \n",
    "* [Paso 3: Estadística descriptiva](#estadistica_descriptiva)\n",
    "* [Paso 4: Visualización de datos](#visualizacion_datos)\n",
    "* [Modelado de datos](#modelado_datos)\n",
    "    * [Scikit-learn](#scikit-learn)\n",
    "    * [Regresión lineal](#regresion_lineal)"
   ]
  },
  {
   "cell_type": "markdown",
   "metadata": {},
   "source": [
    "<div id='intro'>\n",
    "\n",
    "## Introducción\n",
    "\n",
    "El análisis exploratorio de datos (EDA) es un primer paso crítico en el análisis de datos. Es un enfoque que explora conjuntos de datos para resumir sus principales características utilizando estadísticas descriptivas y métodos de visualización de datos. \n",
    "\n",
    "El EDA consiste básicamente en iterar sobre los siguientes pasos:\n",
    "\n",
    "1. [**Adquisición de datos**](https://github.com/narmijoc/INF280-LEC/blob/main/CH0-Pandas-NumPy.ipynb).\n",
    "2. **Limpieza de datos**.\n",
    "3. [**Estadística descriptiva**](https://github.com/narmijoc/INF280-LEC/blob/main/CH1-Estad%C3%ADstica_Descriptiva.ipynb).\n",
    "4. [**Visualización de datos**](https://github.com/narmijoc/INF280-LEC/blob/main/CH2-Visualizaci%C3%B3n_Datos.ipynb).\n",
    "5. **Pruebas de hipótesis** (no se verán en los laboratorios de este curso).\n",
    "\n",
    "Una vez completado el EDA podemos aplicar modelos formales de datos, tales como modelos de regresión lineal.\n",
    "\n",
    "En el presente Jupyter Notebook recorreremos los pasos y las herramientas fundamentales de un EDA, consolidando todo lo aprendido en los Jupyter Notebooks anteriores: [Pandas y Numpy](https://github.com/narmijoc/INF280-LEC/blob/main/CH0-Pandas-NumPy.ipynb), [Estadística descriptiva](https://github.com/narmijoc/INF280-LEC/blob/main/CH1-Estad%C3%ADstica_Descriptiva.ipynb)\n",
    "y [Visualización de datos](https://github.com/narmijoc/INF280-LEC/blob/main/CH2-Visualizaci%C3%B3n_Datos.ipynb). Por último, explicaremos las herramientas básicas para la realización de un modelo de regresión lineal haciendo uso de la librería Scikit-learn.\n",
    "\n",
    "Antes de partir, importaremos las bibliotecas que complementarán nuestro trabajo:"
   ]
  },
  {
   "cell_type": "code",
   "execution_count": 9,
   "metadata": {},
   "outputs": [],
   "source": [
    "# Importamos bibliotecas complementarias\n",
    "import pandas as pd\n",
    "import numpy as np"
   ]
  },
  {
   "cell_type": "markdown",
   "metadata": {},
   "source": [
    "<div id='adquisicion_datos'>\n",
    "\n",
    "## Paso 1: Adquisición de datos\n",
    "\n",
    "La adquisición de datos es el primer paso de todo análisis de datos. Consiste en la recolección y almacenamiento de datos relevantes y de alta calidad que nos servirán como base para el análisis.\n",
    "\n",
    "En nuestro caso, es común que nuestros datos vengan en un archivo `CSV`, el cual tendremos que abrir y leer.\n",
    "\n",
    "En el ejemplo a continuación adquiriremos nuestros datos a través de la lectura de un archivo `CSV`:"
   ]
  },
  {
   "cell_type": "code",
   "execution_count": 24,
   "metadata": {},
   "outputs": [],
   "source": [
    "# Leemos un archivo CSV\n",
    "df = pd.read_csv(\"https://archive.ics.uci.edu/ml/machine-learning-databases/iris/iris.data\", names=[\"sepal_length_in_cm\", \"sepal_width_in_cm\", \"petal_length_in_cm\", \"petal_width_in_cm\", \"class\", \"columna con valores nulos\"])"
   ]
  },
  {
   "cell_type": "markdown",
   "metadata": {},
   "source": [
    "Para información más detallada acerca de cómo leer un archivo, ver [Pandas y Numpy](https://github.com/narmijoc/INF280-LEC/blob/main/CH0-Pandas-NumPy.ipynb)."
   ]
  },
  {
   "cell_type": "markdown",
   "metadata": {},
   "source": [
    "<div id='limpieza_datos'>\n",
    "\n",
    "## Paso 2: Limpieza de datos\n",
    "\n",
    "La limpieza de datos consiste en mejorar la calidad de los datos a través de la corrección de errores, inconsistencias o \n",
    "problemas en el conjunto de datos a analizar."
   ]
  },
  {
   "cell_type": "markdown",
   "metadata": {},
   "source": [
    "<div id='datos_faltantes'>\n",
    "\n",
    "### Datos faltantes\n",
    "\n",
    "Los datos faltantes son celdas vacías o con valores nulos en el conjunto de datos.\n",
    "\n",
    "Para conocer si hay un valor nulo en una celda del DataFrame, podemos ocupar el método `df.isnull`; para conocer la cantidad total de valores nulos en cada columna del DataFrame, podemos ocupar el método `sum` sobre el método anterior.\n",
    "\n",
    "En el ejemplo a continuación, aplicaremos lo explicado anteriormente:"
   ]
  },
  {
   "cell_type": "code",
   "execution_count": 26,
   "metadata": {},
   "outputs": [
    {
     "data": {
      "text/plain": [
       "sepal_length_in_cm             0\n",
       "sepal_width_in_cm              0\n",
       "petal_length_in_cm             0\n",
       "petal_width_in_cm              0\n",
       "class                          0\n",
       "columna con valores nulos    150\n",
       "dtype: int64"
      ]
     },
     "execution_count": 26,
     "metadata": {},
     "output_type": "execute_result"
    }
   ],
   "source": [
    "# Calculamos la cantidad de valores nulos en cada columna\n",
    "df.isnull().sum()"
   ]
  },
  {
   "cell_type": "markdown",
   "metadata": {},
   "source": [
    "El manejo de los datos faltantes queda a decisión de cada persona, pues podemos eliminarlos, imputarlos con valores promedio o medianos, entre otros.\n",
    "\n",
    "Por ejemplo, el método `df.dropna` nos permitirá eliminar columnas con valores nulos en el DataFrame:"
   ]
  },
  {
   "cell_type": "code",
   "execution_count": 30,
   "metadata": {},
   "outputs": [
    {
     "data": {
      "text/plain": [
       "sepal_length_in_cm    0\n",
       "sepal_width_in_cm     0\n",
       "petal_length_in_cm    0\n",
       "petal_width_in_cm     0\n",
       "class                 0\n",
       "dtype: int64"
      ]
     },
     "execution_count": 30,
     "metadata": {},
     "output_type": "execute_result"
    }
   ],
   "source": [
    "# Eliminamos columnas con valores nulos\n",
    "df = df.dropna(axis=1)\n",
    "\n",
    "# Calculamos la cantidad de valores nulos en cada columna nuevamente, para ver el cambio\n",
    "df.isnull().sum()"
   ]
  },
  {
   "cell_type": "markdown",
   "metadata": {},
   "source": [
    "<div id='datos_duplicados'>\n",
    "\n",
    "### Datos duplicados"
   ]
  },
  {
   "cell_type": "code",
   "execution_count": null,
   "metadata": {},
   "outputs": [],
   "source": [
    "# Eliminamos filas duplicadas\n",
    "df = df.drop_duplicates()"
   ]
  },
  {
   "cell_type": "markdown",
   "metadata": {},
   "source": [
    "<div id='estadistica_descriptiva'>\n",
    "\n",
    "## Paso 3: Estadística descriptiva"
   ]
  },
  {
   "cell_type": "markdown",
   "metadata": {},
   "source": [
    "<div id='visualizacion_datos'>\n",
    "\n",
    "## Paso 4: Visualización de datos"
   ]
  },
  {
   "cell_type": "markdown",
   "metadata": {},
   "source": [
    "<div id='modelado_datos'>\n",
    "\n",
    "## Modelado de datos"
   ]
  },
  {
   "cell_type": "markdown",
   "metadata": {},
   "source": [
    "<div id='scikit-learn'>\n",
    "\n",
    "### Scikit-learn"
   ]
  },
  {
   "cell_type": "markdown",
   "metadata": {},
   "source": [
    "<div id='Regresion_lineal'>\n",
    "\n",
    "### Regresión lineal"
   ]
  }
 ],
 "metadata": {
  "kernelspec": {
   "display_name": "Python 3",
   "language": "python",
   "name": "python3"
  },
  "language_info": {
   "codemirror_mode": {
    "name": "ipython",
    "version": 3
   },
   "file_extension": ".py",
   "mimetype": "text/x-python",
   "name": "python",
   "nbconvert_exporter": "python",
   "pygments_lexer": "ipython3",
   "version": "3.11.9"
  }
 },
 "nbformat": 4,
 "nbformat_minor": 2
}
