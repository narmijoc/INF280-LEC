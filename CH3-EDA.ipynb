{
 "cells": [
  {
   "cell_type": "markdown",
   "metadata": {},
   "source": [
    "<center>\n",
    "    <img src=\"http://sct.inf.utfsm.cl/wp-content/uploads/2020/04/logo_di.png\" style=\"width:60%\">\n",
    "    <h1> INF280 - Estadística Computacional </h1>\n",
    "    <h2> Análisis exploratorio de datos </h2>\n",
    "    <h2> Version: 0.02 </h2>\n",
    "    <h2> Ay. Nicolás Armijo Calquín </h2> \n",
    "    <h2> Ay. Eva Wang Liu </h2>\n",
    "</center>"
   ]
  },
  {
   "cell_type": "markdown",
   "metadata": {},
   "source": [
    "<div id='toc'>\n",
    "\n",
    "## Tabla de Contenidos\n",
    "\n",
    "* [Introducción](#intro)\n",
    "* [Paso 1: Adquisición de datos](#adquisicion_datos)\n",
    "* [Paso 2: Limpieza de datos](#limpieza_datos)\n",
    "   * [Tipos de datos incorrectos](#tipos_datos_incorrectos)\n",
    "   * [Datos inconsistentes](#datos_inconsistentes)\n",
    "   * [Datos faltantes](#datos_faltantes)\n",
    "   * [Datos duplicados](#datos_duplicados)\n",
    "* [Paso 3: Estadística descriptiva](#estadistica_descriptiva)\n",
    "* [Paso 4: Visualización de datos](#visualizacion_datos)\n",
    "* [Modelado de datos](#modelado_datos)\n",
    "    * [Scikit-learn](#scikit-learn)\n",
    "      * [Linear Regression](#linear_regression)\n",
    "    * [Regresión lineal](#regresion_lineal)\n",
    "* [Historial de versiones](#hist)"
   ]
  },
  {
   "cell_type": "markdown",
   "metadata": {},
   "source": [
    "<div id='intro'>\n",
    "\n",
    "## Introducción\n",
    "\n",
    "El análisis exploratorio de datos (EDA) es un primer paso crítico en el análisis de datos. Es un enfoque que explora conjuntos de datos para resumir sus principales características utilizando estadísticas descriptivas y métodos de visualización de datos. \n",
    "\n",
    "El EDA consiste básicamente en iterar sobre los siguientes pasos:\n",
    "\n",
    "1. **Adquisición de datos**.\n",
    "2. **Limpieza de datos**.\n",
    "3. **Estadística descriptiva**.\n",
    "4. **Visualización de datos**.\n",
    "5. **Pruebas de hipótesis** (no se verán en los laboratorios de este curso).\n",
    "\n",
    "Una vez completado el EDA podemos aplicar modelos formales de datos, tales como modelos de regresión lineal.\n",
    "\n",
    "En el presente Jupyter Notebook recorreremos los pasos y las herramientas fundamentales de un EDA, consolidando todo lo aprendido en los Jupyter Notebooks anteriores: `CH0-Pandas-Numpy`, `CH1-Estadística_Descriptiva` y `CH2-Visualización_Datos`. Por último, explicaremos las herramientas básicas para la realización de un modelo de regresión lineal haciendo uso de la librería Scikit-learn.\n",
    "\n",
    "Antes de partir, importaremos las librerías que complementarán nuestro trabajo:"
   ]
  },
  {
   "cell_type": "code",
   "execution_count": 59,
   "metadata": {},
   "outputs": [],
   "source": [
    "# Importamos librerías complementarias\n",
    "import matplotlib.pyplot as plt\n",
    "import pandas as pd\n",
    "import numpy as np"
   ]
  },
  {
   "cell_type": "markdown",
   "metadata": {},
   "source": [
    "<div id='adquisicion_datos'>\n",
    "\n",
    "## Paso 1: Adquisición de datos\n",
    "\n",
    "La adquisición de datos es el primer paso de todo análisis de datos. Consiste en la recolección y almacenamiento de datos relevantes y de alta calidad que nos servirán como base para el análisis.\n",
    "\n",
    "En nuestro caso, es común que nuestros datos vengan en un archivo `CSV`, el cual tendremos que abrir y leer."
   ]
  },
  {
   "cell_type": "code",
   "execution_count": 45,
   "metadata": {},
   "outputs": [
    {
     "data": {
      "text/html": [
       "<div>\n",
       "<style scoped>\n",
       "    .dataframe tbody tr th:only-of-type {\n",
       "        vertical-align: middle;\n",
       "    }\n",
       "\n",
       "    .dataframe tbody tr th {\n",
       "        vertical-align: top;\n",
       "    }\n",
       "\n",
       "    .dataframe thead th {\n",
       "        text-align: right;\n",
       "    }\n",
       "</style>\n",
       "<table border=\"1\" class=\"dataframe\">\n",
       "  <thead>\n",
       "    <tr style=\"text-align: right;\">\n",
       "      <th></th>\n",
       "      <th>sepal_length_in_cm</th>\n",
       "      <th>sepal_width_in_cm</th>\n",
       "      <th>petal_length_in_cm</th>\n",
       "      <th>petal_width_in_cm</th>\n",
       "      <th>class</th>\n",
       "    </tr>\n",
       "  </thead>\n",
       "  <tbody>\n",
       "    <tr>\n",
       "      <th>0</th>\n",
       "      <td>5.1</td>\n",
       "      <td>3.5</td>\n",
       "      <td>1.4</td>\n",
       "      <td>0.2</td>\n",
       "      <td>Iris-setosa</td>\n",
       "    </tr>\n",
       "    <tr>\n",
       "      <th>1</th>\n",
       "      <td>4.9</td>\n",
       "      <td>3.0</td>\n",
       "      <td>1.4</td>\n",
       "      <td>0.2</td>\n",
       "      <td>Iris-setosa</td>\n",
       "    </tr>\n",
       "    <tr>\n",
       "      <th>2</th>\n",
       "      <td>4.7</td>\n",
       "      <td>3.2</td>\n",
       "      <td>1.3</td>\n",
       "      <td>0.2</td>\n",
       "      <td>Iris-setosa</td>\n",
       "    </tr>\n",
       "    <tr>\n",
       "      <th>3</th>\n",
       "      <td>4.6</td>\n",
       "      <td>3.1</td>\n",
       "      <td>1.5</td>\n",
       "      <td>0.2</td>\n",
       "      <td>Iris-setosa</td>\n",
       "    </tr>\n",
       "    <tr>\n",
       "      <th>4</th>\n",
       "      <td>5.0</td>\n",
       "      <td>3.6</td>\n",
       "      <td>1.4</td>\n",
       "      <td>0.2</td>\n",
       "      <td>Iris-setosa</td>\n",
       "    </tr>\n",
       "    <tr>\n",
       "      <th>...</th>\n",
       "      <td>...</td>\n",
       "      <td>...</td>\n",
       "      <td>...</td>\n",
       "      <td>...</td>\n",
       "      <td>...</td>\n",
       "    </tr>\n",
       "    <tr>\n",
       "      <th>145</th>\n",
       "      <td>6.7</td>\n",
       "      <td>3.0</td>\n",
       "      <td>5.2</td>\n",
       "      <td>2.3</td>\n",
       "      <td>Iris-virginica</td>\n",
       "    </tr>\n",
       "    <tr>\n",
       "      <th>146</th>\n",
       "      <td>6.3</td>\n",
       "      <td>2.5</td>\n",
       "      <td>5.0</td>\n",
       "      <td>1.9</td>\n",
       "      <td>Iris-virginica</td>\n",
       "    </tr>\n",
       "    <tr>\n",
       "      <th>147</th>\n",
       "      <td>6.5</td>\n",
       "      <td>3.0</td>\n",
       "      <td>5.2</td>\n",
       "      <td>2.0</td>\n",
       "      <td>Iris-virginica</td>\n",
       "    </tr>\n",
       "    <tr>\n",
       "      <th>148</th>\n",
       "      <td>6.2</td>\n",
       "      <td>3.4</td>\n",
       "      <td>5.4</td>\n",
       "      <td>2.3</td>\n",
       "      <td>Iris-virginica</td>\n",
       "    </tr>\n",
       "    <tr>\n",
       "      <th>149</th>\n",
       "      <td>5.9</td>\n",
       "      <td>3.0</td>\n",
       "      <td>5.1</td>\n",
       "      <td>1.8</td>\n",
       "      <td>Iris-virginica</td>\n",
       "    </tr>\n",
       "  </tbody>\n",
       "</table>\n",
       "<p>150 rows × 5 columns</p>\n",
       "</div>"
      ],
      "text/plain": [
       "     sepal_length_in_cm  sepal_width_in_cm  petal_length_in_cm  \\\n",
       "0                   5.1                3.5                 1.4   \n",
       "1                   4.9                3.0                 1.4   \n",
       "2                   4.7                3.2                 1.3   \n",
       "3                   4.6                3.1                 1.5   \n",
       "4                   5.0                3.6                 1.4   \n",
       "..                  ...                ...                 ...   \n",
       "145                 6.7                3.0                 5.2   \n",
       "146                 6.3                2.5                 5.0   \n",
       "147                 6.5                3.0                 5.2   \n",
       "148                 6.2                3.4                 5.4   \n",
       "149                 5.9                3.0                 5.1   \n",
       "\n",
       "     petal_width_in_cm           class  \n",
       "0                  0.2     Iris-setosa  \n",
       "1                  0.2     Iris-setosa  \n",
       "2                  0.2     Iris-setosa  \n",
       "3                  0.2     Iris-setosa  \n",
       "4                  0.2     Iris-setosa  \n",
       "..                 ...             ...  \n",
       "145                2.3  Iris-virginica  \n",
       "146                1.9  Iris-virginica  \n",
       "147                2.0  Iris-virginica  \n",
       "148                2.3  Iris-virginica  \n",
       "149                1.8  Iris-virginica  \n",
       "\n",
       "[150 rows x 5 columns]"
      ]
     },
     "execution_count": 45,
     "metadata": {},
     "output_type": "execute_result"
    }
   ],
   "source": [
    "# Leemos un archivo CSV\n",
    "df = pd.read_csv(\"https://archive.ics.uci.edu/ml/machine-learning-databases/iris/iris.data\", names=[\"sepal_length_in_cm\", \"sepal_width_in_cm\", \"petal_length_in_cm\", \"petal_width_in_cm\", \"class\"])\n",
    "df"
   ]
  },
  {
   "cell_type": "markdown",
   "metadata": {},
   "source": [
    "Para información más detallada acerca de cómo leer un archivo, veáse `CH0-Pandas-Numpy`."
   ]
  },
  {
   "cell_type": "markdown",
   "metadata": {},
   "source": [
    "<div id='limpieza_datos'>\n",
    "\n",
    "## Paso 2: Limpieza de datos\n",
    "\n",
    "La limpieza de datos consiste en mejorar la calidad de los datos a través de la corrección de errores, inconsistencias o \n",
    "problemas en el conjunto de datos a analizar.\n",
    "\n",
    "A continuación, veremos algunos métodos de limpieza de datos sencillos que podrían ser de utilidad."
   ]
  },
  {
   "cell_type": "markdown",
   "metadata": {},
   "source": [
    "<div id='tipos_datos_incorrectos'>\n",
    "\n",
    "### Tipos de datos incorrectos\n",
    "\n",
    "Si tenemos tipos de datos que no son compatibles con nuestras operaciones de análisis, debemos realizar una conversión de tipos de datos.\n",
    "\n",
    "El método `df.dtypes` nos permitirá conocer los tipos de datos en nuestro conjunto de datos."
   ]
  },
  {
   "cell_type": "code",
   "execution_count": 49,
   "metadata": {},
   "outputs": [
    {
     "data": {
      "text/plain": [
       "sepal_length_in_cm    float64\n",
       "sepal_width_in_cm     float64\n",
       "petal_length_in_cm    float64\n",
       "petal_width_in_cm     float64\n",
       "class                  object\n",
       "dtype: object"
      ]
     },
     "execution_count": 49,
     "metadata": {},
     "output_type": "execute_result"
    }
   ],
   "source": [
    "# Averiguamos los tipos de datos de cada columna\n",
    "df.dtypes"
   ]
  },
  {
   "cell_type": "markdown",
   "metadata": {},
   "source": [
    "El método `df.astype` nos permitirá realizar conversión de tipos de datos en una columna del DataFrame de forma sencilla, ingresando como parámetro el tipo de dato al cual se quiere convertir. No obstante, existen otros métodos y funciones dependiendo de la conversión que tengamos que hacer."
   ]
  },
  {
   "cell_type": "code",
   "execution_count": 51,
   "metadata": {},
   "outputs": [
    {
     "data": {
      "text/plain": [
       "0      1\n",
       "1      1\n",
       "2      1\n",
       "3      1\n",
       "4      1\n",
       "      ..\n",
       "145    5\n",
       "146    5\n",
       "147    5\n",
       "148    5\n",
       "149    5\n",
       "Name: petal_length_in_cm, Length: 150, dtype: int32"
      ]
     },
     "execution_count": 51,
     "metadata": {},
     "output_type": "execute_result"
    }
   ],
   "source": [
    "# Convertimos el tipo de dato de la columna \"petal_length_in_cm\" desde float64 a int\n",
    "df[\"petal_length_in_cm\"].astype(int)"
   ]
  },
  {
   "cell_type": "markdown",
   "metadata": {},
   "source": [
    "<div id='datos_inconsistentes'>\n",
    "\n",
    "### Datos inconsistentes\n",
    "\n",
    "Algunos ejemplos de inconsistencias en los conjuntos de datos son las variaciones en nombres de etiquetas, formato de fecha, unidad de medida, entre otros. Las inconsistencias pueden causar errores en el análisis, por lo que manejarlas es fundamental; por ejemplo, se puede normalizar y estandarizar datos para que estos tengan un formato consistente.\n",
    "\n",
    "En general, el manejo de los datos inconsistentes se puede realizar aplicando funciones y métodos sobre el DataFrame, por lo cual es recomendable revisar el `CH0-Pandas-NumPy` para más información."
   ]
  },
  {
   "cell_type": "markdown",
   "metadata": {},
   "source": [
    "<div id='datos_faltantes'>\n",
    "\n",
    "### Datos faltantes\n",
    "\n",
    "Los datos faltantes son celdas vacías o con valores nulos en el conjunto de datos.\n",
    "\n",
    "El método `df.isnull` nos permitirá saber si hay un valor nulo en cada celda del DataFrame; luego, `df.isnull.sum` nos entregará la \n",
    "cantidad de valores nulos por cada columna del DataFrame."
   ]
  },
  {
   "cell_type": "code",
   "execution_count": 42,
   "metadata": {},
   "outputs": [
    {
     "data": {
      "text/plain": [
       "sepal_length_in_cm    0\n",
       "sepal_width_in_cm     0\n",
       "petal_length_in_cm    0\n",
       "petal_width_in_cm     0\n",
       "class                 0\n",
       "dtype: int64"
      ]
     },
     "execution_count": 42,
     "metadata": {},
     "output_type": "execute_result"
    }
   ],
   "source": [
    "# Calculamos la cantidad de valores nulos en cada columna\n",
    "df.isnull().sum()"
   ]
  },
  {
   "cell_type": "markdown",
   "metadata": {},
   "source": [
    "El manejo de los datos faltantes queda a decisión de cada persona; podemos eliminarlos, imputarlos con valores promedio o \n",
    "medianos, entre otros.\n",
    "\n",
    "Por ejemplo, el método `df.dropna` nos permitirá eliminar filas o columnas con valores nulos en un DataFrame dependiendo de su parámetro `axis`:\n",
    "\n",
    "* `df.dropna(axis=0)`: se eliminan **filas** con valores nulos del DataFrame.\n",
    "* `df.dropna(axis=1)`: se eliminan **columnas** con valores nulos del DataFrame."
   ]
  },
  {
   "cell_type": "code",
   "execution_count": 26,
   "metadata": {},
   "outputs": [],
   "source": [
    "# Eliminamos columnas con valores nulos\n",
    "df.dropna(axis=1)"
   ]
  },
  {
   "cell_type": "markdown",
   "metadata": {},
   "source": [
    "<div id='datos_duplicados'>\n",
    "\n",
    "### Datos duplicados\n",
    "\n",
    "Los datos duplicados son filas que tienen los mismos valores en todas o algunas de sus columnas. Si estos no se supone que debieran estar repetidos, debemos manejar estos datos.\n",
    "\n",
    "El método `df.drop_duplicates` nos permitirá eliminar filas duplicadas del DataFrame. Por defecto, su parámetro opcional `subset=None` identifica filas duplicadas considerando todas las columnas del DataFrame."
   ]
  },
  {
   "cell_type": "code",
   "execution_count": 27,
   "metadata": {},
   "outputs": [
    {
     "data": {
      "text/html": [
       "<div>\n",
       "<style scoped>\n",
       "    .dataframe tbody tr th:only-of-type {\n",
       "        vertical-align: middle;\n",
       "    }\n",
       "\n",
       "    .dataframe tbody tr th {\n",
       "        vertical-align: top;\n",
       "    }\n",
       "\n",
       "    .dataframe thead th {\n",
       "        text-align: right;\n",
       "    }\n",
       "</style>\n",
       "<table border=\"1\" class=\"dataframe\">\n",
       "  <thead>\n",
       "    <tr style=\"text-align: right;\">\n",
       "      <th></th>\n",
       "      <th>sepal_length_in_cm</th>\n",
       "      <th>sepal_width_in_cm</th>\n",
       "      <th>petal_length_in_cm</th>\n",
       "      <th>petal_width_in_cm</th>\n",
       "      <th>class</th>\n",
       "    </tr>\n",
       "  </thead>\n",
       "  <tbody>\n",
       "    <tr>\n",
       "      <th>0</th>\n",
       "      <td>5.1</td>\n",
       "      <td>3.5</td>\n",
       "      <td>1.4</td>\n",
       "      <td>0.2</td>\n",
       "      <td>Iris-setosa</td>\n",
       "    </tr>\n",
       "    <tr>\n",
       "      <th>50</th>\n",
       "      <td>7.0</td>\n",
       "      <td>3.2</td>\n",
       "      <td>4.7</td>\n",
       "      <td>1.4</td>\n",
       "      <td>Iris-versicolor</td>\n",
       "    </tr>\n",
       "    <tr>\n",
       "      <th>100</th>\n",
       "      <td>6.3</td>\n",
       "      <td>3.3</td>\n",
       "      <td>6.0</td>\n",
       "      <td>2.5</td>\n",
       "      <td>Iris-virginica</td>\n",
       "    </tr>\n",
       "  </tbody>\n",
       "</table>\n",
       "</div>"
      ],
      "text/plain": [
       "     sepal_length_in_cm  sepal_width_in_cm  petal_length_in_cm  \\\n",
       "0                   5.1                3.5                 1.4   \n",
       "50                  7.0                3.2                 4.7   \n",
       "100                 6.3                3.3                 6.0   \n",
       "\n",
       "     petal_width_in_cm            class  \n",
       "0                  0.2      Iris-setosa  \n",
       "50                 1.4  Iris-versicolor  \n",
       "100                2.5   Iris-virginica  "
      ]
     },
     "execution_count": 27,
     "metadata": {},
     "output_type": "execute_result"
    }
   ],
   "source": [
    "# Eliminamos filas duplicadas de la columna class\n",
    "df.drop_duplicates(subset=\"class\")"
   ]
  },
  {
   "cell_type": "markdown",
   "metadata": {},
   "source": [
    "<div id='estadistica_descriptiva'>\n",
    "\n",
    "## [Paso 3: Estadística descriptiva](https://github.com/narmijoc/INF280-LEC/blob/main/CH1-Estad%C3%ADstica_Descriptiva.ipynb)\n",
    "\n",
    "Este paso es visto con detalle en `CH1-Estadística_Descriptiva`."
   ]
  },
  {
   "cell_type": "markdown",
   "metadata": {},
   "source": [
    "<div id='visualizacion_datos'>\n",
    "\n",
    "## [Paso 4: Visualización de datos](https://github.com/narmijoc/INF280-LEC/blob/main/CH2-Visualizaci%C3%B3n_Datos.ipynb)\n",
    "\n",
    "Este paso es visto con detalle en `CH2-Visualización_Datos`."
   ]
  },
  {
   "cell_type": "markdown",
   "metadata": {},
   "source": [
    "<div id='modelado_datos'>\n",
    "\n",
    "## Modelado de datos\n",
    "\n",
    "El modelado de datos consiste en el proceso de usar modelos matemáticos, estadísticos y computacionales para analizar e inferir sobre un conjunto de datos. Este proceso implica elegir un modelo adecuado, ajustarlo y usarlo para realizar predicciones.\n",
    "\n",
    "En nuestro caso, será útil aprender a realizar un modelo de regresión lineal sobre nuestro conjunto de datos haciendo uso de la librería Scikit-learn."
   ]
  },
  {
   "cell_type": "markdown",
   "metadata": {},
   "source": [
    "<div id='scikit-learn'>\n",
    "\n",
    "### Scikit-learn\n",
    "\n",
    "Scikit-learn (también llamado sklearn) es una librería de Python dedicada al aprendizaje automático y el análisis de datos. Proporciona herramientas eficientes y fáciles de usar para realizar tareas comunes en el campo del aprendizaje automático, como clasificación, regresión, clustering, reducción de dimensionalidad y selección de modelos.\n",
    "\n",
    "Se adjuntan distintos recursos que les puede ser de utilidad:\n",
    "\n",
    "* **Documentación oficial** https://scikit-learn.org/stable/user_guide.html"
   ]
  },
  {
   "cell_type": "markdown",
   "metadata": {},
   "source": [
    "<div id='Linear_regression'>\n",
    "\n",
    "### Linear Regression\n",
    "\n",
    "Linear Regression es un clase dentro del submódulo Linear Model en la librería Scikit-learn. En esta clase se encuentran las herramientas para la realización de un modelo de regresión lineal básico y directo, las cuales corresponden a todas las funcionalidades que requeriremos."
   ]
  },
  {
   "cell_type": "code",
   "execution_count": 54,
   "metadata": {},
   "outputs": [],
   "source": [
    "# Importamos Linear Regression - Debemos instalar Sklearn con pip install scikit-learn\n",
    "from sklearn.linear_model import LinearRegression"
   ]
  },
  {
   "cell_type": "markdown",
   "metadata": {},
   "source": [
    "<div id='Regresion_lineal'>\n",
    "\n",
    "### Regresión lineal\n",
    "\n",
    "La regresión lineal es un método estadístico utilizado para modelar y analizar la relación entre una variable dependiente y una o más variables independientes. Su objetivo principal es ajustar una línea a los datos para predecir la variable dependiente en función de las variables independientes.\n",
    "\n",
    "Para realizar un modelo de regresión lineal usando Scikit-learn, ocuparemos los siguientes métodos y funciones:\n",
    "\n",
    "* `LinearRegression`: **crea** un módelo de regresión lineal.\n",
    "\n",
    "* `LinearRegression.fit`: **ajusta** el modelo de regresión lineal, de acuerdo a los siguientes parámetros:\n",
    "\n",
    "    * `X`: datos de entrenamiento.\n",
    "    * `Y`: valores objetivo.\n",
    "    \n",
    "* `LinearRegression.predict`: **predice** usando el modelo de regresión lineal, con un parámetro `X`, que corresponde a las muestras.\n",
    "\n",
    "A continuación, veremos un ejemplo:"
   ]
  },
  {
   "cell_type": "code",
   "execution_count": 63,
   "metadata": {},
   "outputs": [
    {
     "data": {
      "image/png": "[encoded data removed]",
      "text/plain": [
       "<Figure size 500x500 with 1 Axes>"
      ]
     },
     "metadata": {},
     "output_type": "display_data"
    }
   ],
   "source": [
    "# Generamos los datos\n",
    "x = np.array([1, 2, 3, 4, 5]).reshape(-1, 1)\n",
    "y = [1, 4, 9, 16, 25]\n",
    "\n",
    "# Crear modelo de regresión lineal\n",
    "modelo = LinearRegression()\n",
    "\n",
    "#Ajustar modelo de regresión lineal\n",
    "modelo.fit(x, y)\n",
    "\n",
    "# Predecir usando el modelo de regresión lineal\n",
    "y_predict = modelo.predict(x)\n",
    "\n",
    "# Graficar modelo\n",
    "plt.figure(figsize = (5, 5))\n",
    "plt.scatter(x, y, label = \"Datos\", color = \"blue\")\n",
    "plt.plot(x, y_predict, label = \"Línea de regresión\", color = \"red\")\n",
    "plt.xlabel(\"Eje X\")\n",
    "plt.ylabel(\"Eje Y\")\n",
    "plt.title(\"Modelo de regresión lineal\")\n",
    "plt.legend()\n",
    "plt.show()"
   ]
  },
  {
   "cell_type": "markdown",
   "metadata": {},
   "source": [
    "<div id='hist'>\n",
    "\n",
    "# Historial de Versiones \n",
    "\n",
    "* **Versión v0.02:** Primera versión del material previo al LEC 1 2024-2. - *28 de Agosto del 2024*. "
   ]
  }
 ],
 "metadata": {
  "kernelspec": {
   "display_name": "Python 3",
   "language": "python",
   "name": "python3"
  },
  "language_info": {
   "codemirror_mode": {
    "name": "ipython",
    "version": 3
   },
   "file_extension": ".py",
   "mimetype": "text/x-python",
   "name": "python",
   "nbconvert_exporter": "python",
   "pygments_lexer": "ipython3",
   "version": "3.11.9"
  }
 },
 "nbformat": 4,
 "nbformat_minor": 2
}
